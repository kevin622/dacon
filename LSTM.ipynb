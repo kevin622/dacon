{
 "cells": [
  {
   "cell_type": "markdown",
   "metadata": {},
   "source": [
    "# Data Preparation"
   ]
  },
  {
   "cell_type": "code",
   "execution_count": 4,
   "metadata": {
    "ExecuteTime": {
     "end_time": "2021-05-11T13:23:03.049996Z",
     "start_time": "2021-05-11T13:22:28.386245Z"
    }
   },
   "outputs": [
    {
     "data": {
      "text/html": [
       "<div>\n",
       "<style scoped>\n",
       "    .dataframe tbody tr th:only-of-type {\n",
       "        vertical-align: middle;\n",
       "    }\n",
       "\n",
       "    .dataframe tbody tr th {\n",
       "        vertical-align: top;\n",
       "    }\n",
       "\n",
       "    .dataframe thead th {\n",
       "        text-align: right;\n",
       "    }\n",
       "</style>\n",
       "<table border=\"1\" class=\"dataframe\">\n",
       "  <thead>\n",
       "    <tr style=\"text-align: right;\">\n",
       "      <th></th>\n",
       "      <th>sample_id</th>\n",
       "      <th>time</th>\n",
       "      <th>coin_index</th>\n",
       "      <th>open</th>\n",
       "      <th>high</th>\n",
       "      <th>low</th>\n",
       "      <th>close</th>\n",
       "      <th>volume</th>\n",
       "      <th>quote_av</th>\n",
       "      <th>trades</th>\n",
       "      <th>tb_base_av</th>\n",
       "      <th>tb_quote_av</th>\n",
       "    </tr>\n",
       "  </thead>\n",
       "  <tbody>\n",
       "    <tr>\n",
       "      <th>0</th>\n",
       "      <td>0</td>\n",
       "      <td>0</td>\n",
       "      <td>9</td>\n",
       "      <td>0.983614</td>\n",
       "      <td>0.983614</td>\n",
       "      <td>0.983128</td>\n",
       "      <td>0.983246</td>\n",
       "      <td>0.001334</td>\n",
       "      <td>10.650987</td>\n",
       "      <td>0.009855</td>\n",
       "      <td>0.000848</td>\n",
       "      <td>6.771755</td>\n",
       "    </tr>\n",
       "    <tr>\n",
       "      <th>1</th>\n",
       "      <td>0</td>\n",
       "      <td>1</td>\n",
       "      <td>9</td>\n",
       "      <td>0.983245</td>\n",
       "      <td>0.983612</td>\n",
       "      <td>0.982453</td>\n",
       "      <td>0.982693</td>\n",
       "      <td>0.001425</td>\n",
       "      <td>11.375689</td>\n",
       "      <td>0.016137</td>\n",
       "      <td>0.000697</td>\n",
       "      <td>5.565188</td>\n",
       "    </tr>\n",
       "    <tr>\n",
       "      <th>2</th>\n",
       "      <td>0</td>\n",
       "      <td>2</td>\n",
       "      <td>9</td>\n",
       "      <td>0.982694</td>\n",
       "      <td>0.983612</td>\n",
       "      <td>0.982403</td>\n",
       "      <td>0.983002</td>\n",
       "      <td>0.001542</td>\n",
       "      <td>12.301942</td>\n",
       "      <td>0.014166</td>\n",
       "      <td>0.000905</td>\n",
       "      <td>7.225459</td>\n",
       "    </tr>\n",
       "    <tr>\n",
       "      <th>3</th>\n",
       "      <td>0</td>\n",
       "      <td>3</td>\n",
       "      <td>9</td>\n",
       "      <td>0.983009</td>\n",
       "      <td>0.984848</td>\n",
       "      <td>0.983009</td>\n",
       "      <td>0.984486</td>\n",
       "      <td>0.002520</td>\n",
       "      <td>20.134695</td>\n",
       "      <td>0.021557</td>\n",
       "      <td>0.001171</td>\n",
       "      <td>9.353000</td>\n",
       "    </tr>\n",
       "    <tr>\n",
       "      <th>4</th>\n",
       "      <td>0</td>\n",
       "      <td>4</td>\n",
       "      <td>9</td>\n",
       "      <td>0.984233</td>\n",
       "      <td>0.984606</td>\n",
       "      <td>0.983612</td>\n",
       "      <td>0.984164</td>\n",
       "      <td>0.002818</td>\n",
       "      <td>22.515448</td>\n",
       "      <td>0.021434</td>\n",
       "      <td>0.001799</td>\n",
       "      <td>14.372534</td>\n",
       "    </tr>\n",
       "  </tbody>\n",
       "</table>\n",
       "</div>"
      ],
      "text/plain": [
       "   sample_id  time  coin_index      open      high       low     close  \\\n",
       "0          0     0           9  0.983614  0.983614  0.983128  0.983246   \n",
       "1          0     1           9  0.983245  0.983612  0.982453  0.982693   \n",
       "2          0     2           9  0.982694  0.983612  0.982403  0.983002   \n",
       "3          0     3           9  0.983009  0.984848  0.983009  0.984486   \n",
       "4          0     4           9  0.984233  0.984606  0.983612  0.984164   \n",
       "\n",
       "     volume   quote_av    trades  tb_base_av  tb_quote_av  \n",
       "0  0.001334  10.650987  0.009855    0.000848     6.771755  \n",
       "1  0.001425  11.375689  0.016137    0.000697     5.565188  \n",
       "2  0.001542  12.301942  0.014166    0.000905     7.225459  \n",
       "3  0.002520  20.134695  0.021557    0.001171     9.353000  \n",
       "4  0.002818  22.515448  0.021434    0.001799    14.372534  "
      ]
     },
     "execution_count": 4,
     "metadata": {},
     "output_type": "execute_result"
    }
   ],
   "source": [
    "import pandas as pd\n",
    "train_x_df = pd.read_csv('data/train_x_df.csv')\n",
    "train_y_df = pd.read_csv('data/train_y_df.csv')\n",
    "test_x_df = pd.read_csv('data/test_x_df.csv')\n",
    "train_x_df.head()"
   ]
  },
  {
   "cell_type": "code",
   "execution_count": 17,
   "metadata": {
    "ExecuteTime": {
     "end_time": "2021-05-11T13:27:50.227566Z",
     "start_time": "2021-05-11T13:27:50.210610Z"
    }
   },
   "outputs": [
    {
     "data": {
      "text/plain": [
       "Index(['coin_index', 'open', 'high', 'low', 'close', 'volume', 'quote_av',\n",
       "       'trades', 'tb_base_av', 'tb_quote_av'],\n",
       "      dtype='object')"
      ]
     },
     "execution_count": 17,
     "metadata": {},
     "output_type": "execute_result"
    }
   ],
   "source": [
    "train_y_df.columns[2:]"
   ]
  },
  {
   "cell_type": "code",
   "execution_count": 91,
   "metadata": {
    "ExecuteTime": {
     "end_time": "2021-05-11T14:17:49.574455Z",
     "start_time": "2021-05-11T14:17:30.451795Z"
    }
   },
   "outputs": [
    {
     "name": "stdout",
     "output_type": "stream",
     "text": [
      "\n",
      "These shape stands for (sample_size, time_series, feature)\n",
      "train_x_array (7661, 1380, 10)\n",
      "train_y_array (7661, 120, 10)\n",
      "test_x_array (535, 1380, 10)\n",
      "\n"
     ]
    }
   ],
   "source": [
    "import numpy as np\n",
    "def df2d_to_array3d(df_2d):\n",
    "    feature_size = len(df_2d.columns[2:]) # 10\n",
    "    time_size = len(df_2d.time.unique()) # x는 1380, y는 120\n",
    "    sample_size = len(df_2d.sample_id.unique()) # train은 7661, test는 535\n",
    "    array_3d = df_2d.iloc[:,2:].values.reshape([sample_size, time_size, feature_size])\n",
    "    return array_3d\n",
    "\n",
    "train_x_array = df2d_to_array3d(train_x_df)\n",
    "train_y_array = df2d_to_array3d(train_y_df)\n",
    "test_x_array = df2d_to_array3d(test_x_df)\n",
    "\n",
    "print(f'''\n",
    "These shape stands for (sample_size, time_step, feature)\n",
    "train_x_array {train_x_array.shape}\n",
    "train_y_array {train_y_array.shape}\n",
    "test_x_array {test_x_array.shape}\n",
    "''')"
   ]
  },
  {
   "cell_type": "markdown",
   "metadata": {},
   "source": [
    "# 0번 샘플로만"
   ]
  },
  {
   "cell_type": "code",
   "execution_count": 54,
   "metadata": {
    "ExecuteTime": {
     "end_time": "2021-05-11T13:47:09.515708Z",
     "start_time": "2021-05-11T13:47:09.505125Z"
    }
   },
   "outputs": [
    {
     "name": "stdout",
     "output_type": "stream",
     "text": [
      "(timesteps, features)\n",
      "(1380, 10)\n"
     ]
    }
   ],
   "source": [
    "df_0 = train_x_array[0]\n",
    "# y = train_y_array\n",
    "print('(timesteps, features)')\n",
    "print(df_0.shape)"
   ]
  },
  {
   "cell_type": "code",
   "execution_count": 184,
   "metadata": {
    "ExecuteTime": {
     "end_time": "2021-05-11T15:05:47.139756Z",
     "start_time": "2021-05-11T15:05:47.114188Z"
    }
   },
   "outputs": [
    {
     "data": {
      "text/plain": [
       "((1061, 200, 1), (1061, 1, 120))"
      ]
     },
     "execution_count": 184,
     "metadata": {},
     "output_type": "execute_result"
    }
   ],
   "source": [
    "X = list()\n",
    "y = list()\n",
    "for i in range(df_0.shape[0]):\n",
    "    X.append(df_0[i: i + 200, 4])\n",
    "    y.append(df_0[i+200: i + 320, 4]) # 4 for close\n",
    "    if i + 320 == df_0.shape[0]:\n",
    "        break\n",
    "X = np.array(X)\n",
    "y = np.array(y)\n",
    "X = X.reshape(X.shape[0], X.shape[1], 1)\n",
    "y = y.reshape(y.shape[0], 1, y.shape[1])\n",
    "X.shape, y.shape"
   ]
  },
  {
   "cell_type": "markdown",
   "metadata": {},
   "source": [
    "## 너로 정했다 케라스"
   ]
  },
  {
   "cell_type": "markdown",
   "metadata": {},
   "source": [
    "케라케라~"
   ]
  },
  {
   "cell_type": "code",
   "execution_count": 151,
   "metadata": {
    "ExecuteTime": {
     "end_time": "2021-05-11T14:52:05.540826Z",
     "start_time": "2021-05-11T14:52:05.530048Z"
    }
   },
   "outputs": [],
   "source": [
    "from keras.models import Sequential\n",
    "from keras.layers import LSTM\n",
    "from keras.layers import Dense\n",
    "from tensorflow.keras import backend as K\n",
    "from keras.losses import mean_squared_error"
   ]
  },
  {
   "cell_type": "code",
   "execution_count": 186,
   "metadata": {
    "ExecuteTime": {
     "end_time": "2021-05-11T15:05:55.793751Z",
     "start_time": "2021-05-11T15:05:55.517689Z"
    }
   },
   "outputs": [
    {
     "name": "stdout",
     "output_type": "stream",
     "text": [
      "Model: \"sequential_20\"\n",
      "_________________________________________________________________\n",
      "Layer (type)                 Output Shape              Param #   \n",
      "=================================================================\n",
      "lstm_38 (LSTM)               (None, 200, 128)          66560     \n",
      "_________________________________________________________________\n",
      "lstm_39 (LSTM)               (None, 128)               131584    \n",
      "_________________________________________________________________\n",
      "dense_20 (Dense)             (None, 120)               15480     \n",
      "=================================================================\n",
      "Total params: 213,624\n",
      "Trainable params: 213,624\n",
      "Non-trainable params: 0\n",
      "_________________________________________________________________\n"
     ]
    }
   ],
   "source": [
    "def rmse(y_true, y_pred):\n",
    "    return K.sqrt(mean_squared_error(y_true, y_pred))\n",
    "\n",
    "model = Sequential()\n",
    "model.add(LSTM(128, activation='relu', return_sequences=True, input_shape=(200, 1)))\n",
    "model.add(LSTM(128, activation='relu'))\n",
    "model.add(Dense(120))\n",
    "model.compile(optimizer='adam', loss=rmse)\n",
    "model.summary()"
   ]
  },
  {
   "cell_type": "code",
   "execution_count": 185,
   "metadata": {
    "ExecuteTime": {
     "end_time": "2021-05-11T15:05:50.961177Z",
     "start_time": "2021-05-11T15:05:50.948490Z"
    }
   },
   "outputs": [
    {
     "data": {
      "text/plain": [
       "array([[0.98804015, 0.98743898, 0.98803401, 0.98791325, 0.98794037,\n",
       "        0.98792195, 0.98755848, 0.98780489, 0.98859942, 0.98895538,\n",
       "        0.98915869, 0.99162358, 0.98965508, 0.99062574, 0.98977703,\n",
       "        0.99002337, 0.99002832, 0.99014658, 0.98945928, 0.98915744,\n",
       "        0.98916602, 0.99014539, 0.99020201, 0.99062574, 0.99063808,\n",
       "        0.99064666, 0.98940623, 0.98978192, 0.99071813, 0.99125403,\n",
       "        0.99088448, 0.99088448, 0.9907366 , 0.98747718, 0.98842078,\n",
       "        0.9890306 , 0.98979062, 0.98817444, 0.98813748, 0.98813623,\n",
       "        0.98804384, 0.9880414 , 0.98854399, 0.98878539, 0.98792803,\n",
       "        0.98848236, 0.98818058, 0.98829758, 0.98791701, 0.98669624,\n",
       "        0.98669624, 0.98584133, 0.9864462 , 0.98634517, 0.98669624,\n",
       "        0.98657185, 0.98245996, 0.98461938, 0.98253763, 0.98349226,\n",
       "        0.98187727, 0.98213965, 0.9814018 , 0.98109388, 0.97979921,\n",
       "        0.98013061, 0.98053461, 0.97992116, 0.97934467, 0.97942841,\n",
       "        0.97869056, 0.97898746, 0.98104954, 0.98069721, 0.98053706,\n",
       "        0.98193276, 0.98114932, 0.98235404, 0.98226166, 0.98243159,\n",
       "        0.98132175, 0.98275435, 0.9825092 , 0.98255605, 0.9833678 ,\n",
       "        0.9823848 , 0.9823848 , 0.98273343, 0.98300076, 0.98292559,\n",
       "        0.98273098, 0.98292559, 0.98236018, 0.98158532, 0.9823873 ,\n",
       "        0.98176891, 0.98226047, 0.98239964, 0.9833703 , 0.98300564,\n",
       "        0.98373985, 0.98303032, 0.98369551, 0.9832471 , 0.98361301,\n",
       "        0.98275435, 0.98287874, 0.9816457 , 0.98201162, 0.98226047,\n",
       "        0.98275435, 0.98275805, 0.9831264 , 0.9833703 , 0.98380512,\n",
       "        0.98373985, 0.9829675 , 0.98299956, 0.98299956, 0.9823873 ]])"
      ]
     },
     "execution_count": 185,
     "metadata": {},
     "output_type": "execute_result"
    }
   ],
   "source": [
    "y[0]"
   ]
  },
  {
   "cell_type": "code",
   "execution_count": 189,
   "metadata": {
    "ExecuteTime": {
     "end_time": "2021-05-11T15:08:59.202001Z",
     "start_time": "2021-05-11T15:08:59.187130Z"
    }
   },
   "outputs": [
    {
     "data": {
      "text/plain": [
       "array([[0.286016  , 0.32824004, 0.3284692 , 0.3313115 , 0.48284468,\n",
       "        0.31010628, 0.4576823 , 0.52885246, 0.54882485, 0.37379286,\n",
       "        0.33301783, 0.37218067, 0.4310793 , 0.45178288, 0.37764668,\n",
       "        0.45035404, 0.5072318 , 0.48330677, 0.50053775, 0.4999258 ,\n",
       "        0.49043185, 0.44820267, 0.45377904, 0.425088  , 0.4473147 ,\n",
       "        0.4247098 , 0.45528236, 0.35135612, 0.39792842, 0.42885724,\n",
       "        0.38388634, 0.30515102, 0.50737137, 0.55223894, 0.33565608,\n",
       "        0.5032623 , 0.58020955, 0.43023825, 0.4698103 , 0.43381578,\n",
       "        0.39966965, 0.37667227, 0.45326447, 0.42891255, 0.43055016,\n",
       "        0.3135125 , 0.43594226, 0.49654955, 0.5021453 , 0.56333697,\n",
       "        0.5088498 , 0.47606486, 0.53221744, 0.32336825, 0.403539  ,\n",
       "        0.5353614 , 0.45643604, 0.4213186 , 0.45507383, 0.57472265,\n",
       "        0.43417782, 0.36727023, 0.46240857, 0.57030696, 0.4566065 ,\n",
       "        0.5093801 , 0.5426215 , 0.5234615 , 0.47161645, 0.5084888 ,\n",
       "        0.37917608, 0.29257143, 0.498439  , 0.44829303, 0.34835133,\n",
       "        0.32614064, 0.3999539 , 0.5050864 , 0.3998652 , 0.25119048,\n",
       "        0.37401935, 0.6023998 , 0.43245158, 0.38781023, 0.4058588 ,\n",
       "        0.5181509 , 0.48251772, 0.39999777, 0.42371073, 0.5575899 ,\n",
       "        0.3506128 , 0.45348424, 0.39419243, 0.5744909 , 0.5517571 ,\n",
       "        0.3505683 , 0.51764286, 0.37974876, 0.409725  , 0.4221096 ,\n",
       "        0.49277917, 0.5245967 , 0.4415932 , 0.35070112, 0.43143857,\n",
       "        0.45337257, 0.41717875, 0.48905882, 0.41554886, 0.44527456,\n",
       "        0.36259416, 0.400924  , 0.38822994, 0.42086112, 0.36786038,\n",
       "        0.35105777, 0.4290045 , 0.42693275, 0.44610193, 0.41727117]],\n",
       "      dtype=float32)"
      ]
     },
     "execution_count": 189,
     "metadata": {},
     "output_type": "execute_result"
    }
   ],
   "source": [
    "y_hat"
   ]
  },
  {
   "cell_type": "code",
   "execution_count": 210,
   "metadata": {
    "ExecuteTime": {
     "end_time": "2021-05-11T15:15:25.157412Z",
     "start_time": "2021-05-11T15:15:24.744069Z"
    }
   },
   "outputs": [
    {
     "data": {
      "text/plain": [
       "<matplotlib.legend.Legend at 0x7ffb4fec2760>"
      ]
     },
     "execution_count": 210,
     "metadata": {},
     "output_type": "execute_result"
    },
    {
     "data": {
      "image/png": "[encoded data removed]",
      "text/plain": [
       "<Figure size 1440x720 with 1 Axes>"
      ]
     },
     "metadata": {
      "needs_background": "light"
     },
     "output_type": "display_data"
    }
   ],
   "source": [
    "import matplotlib.pyplot as plt\n",
    "plt.figure(figsize=(20,10))\n",
    "plt.plot(y_hat[0], label='predicted')\n",
    "plt.plot(y[0][0], label='True')\n",
    "plt.legend()"
   ]
  },
  {
   "cell_type": "code",
   "execution_count": 188,
   "metadata": {
    "ExecuteTime": {
     "end_time": "2021-05-11T15:08:45.079369Z",
     "start_time": "2021-05-11T15:08:44.593629Z"
    }
   },
   "outputs": [
    {
     "name": "stdout",
     "output_type": "stream",
     "text": [
      "WARNING:tensorflow:5 out of the last 76 calls to <function Model.make_predict_function.<locals>.predict_function at 0x7ffb84c34ee0> triggered tf.function retracing. Tracing is expensive and the excessive number of tracings could be due to (1) creating @tf.function repeatedly in a loop, (2) passing tensors with different shapes, (3) passing Python objects instead of tensors. For (1), please define your @tf.function outside of the loop. For (2), @tf.function has experimental_relax_shapes=True option that relaxes argument shapes that can avoid unnecessary retracing. For (3), please refer to https://www.tensorflow.org/guide/function#controlling_retracing and https://www.tensorflow.org/api_docs/python/tf/function for  more details.\n"
     ]
    },
    {
     "data": {
      "text/plain": [
       "36.6988113253841"
      ]
     },
     "execution_count": 188,
     "metadata": {},
     "output_type": "execute_result"
    }
   ],
   "source": [
    "X_input = X[0]\n",
    "X_input = X_input.reshape((1, X_input.shape[0], X_input.shape[1]))\n",
    "y_hat = model.predict(X_input)\n",
    "np.sum(np.square(y_hat - y[0]))"
   ]
  },
  {
   "cell_type": "code",
   "execution_count": 187,
   "metadata": {
    "ExecuteTime": {
     "end_time": "2021-05-11T15:08:40.196124Z",
     "start_time": "2021-05-11T15:06:00.155300Z"
    }
   },
   "outputs": [
    {
     "name": "stdout",
     "output_type": "stream",
     "text": [
      "Epoch 1/10\n",
      "34/34 [==============================] - 18s 440ms/step - loss: 4298.9477\n",
      "Epoch 2/10\n",
      "34/34 [==============================] - 15s 436ms/step - loss: 22818463.8174\n",
      "Epoch 3/10\n",
      "34/34 [==============================] - 15s 432ms/step - loss: 0.8301\n",
      "Epoch 4/10\n",
      "34/34 [==============================] - 15s 443ms/step - loss: 0.8110\n",
      "Epoch 5/10\n",
      "34/34 [==============================] - 15s 440ms/step - loss: 0.7745\n",
      "Epoch 6/10\n",
      "34/34 [==============================] - 17s 507ms/step - loss: 0.7370\n",
      "Epoch 7/10\n",
      "34/34 [==============================] - 17s 503ms/step - loss: 0.7000\n",
      "Epoch 8/10\n",
      "34/34 [==============================] - 17s 484ms/step - loss: 0.6626\n",
      "Epoch 9/10\n",
      "34/34 [==============================] - 15s 454ms/step - loss: 0.6253\n",
      "Epoch 10/10\n",
      "34/34 [==============================] - 16s 459ms/step - loss: 0.5880\n"
     ]
    },
    {
     "data": {
      "text/plain": [
       "<tensorflow.python.keras.callbacks.History at 0x7ffb4957c0d0>"
      ]
     },
     "execution_count": 187,
     "metadata": {},
     "output_type": "execute_result"
    }
   ],
   "source": [
    "model.fit(X, y, batch_size=32, epochs=10)"
   ]
  }
 ],
 "metadata": {
  "kernelspec": {
   "display_name": "Python 3",
   "language": "python",
   "name": "python3"
  },
  "language_info": {
   "codemirror_mode": {
    "name": "ipython",
    "version": 3
   },
   "file_extension": ".py",
   "mimetype": "text/x-python",
   "name": "python",
   "nbconvert_exporter": "python",
   "pygments_lexer": "ipython3",
   "version": "3.8.5"
  },
  "toc": {
   "base_numbering": 1,
   "nav_menu": {},
   "number_sections": true,
   "sideBar": true,
   "skip_h1_title": false,
   "title_cell": "Table of Contents",
   "title_sidebar": "Contents",
   "toc_cell": false,
   "toc_position": {},
   "toc_section_display": true,
   "toc_window_display": false
  }
 },
 "nbformat": 4,
 "nbformat_minor": 4
}
