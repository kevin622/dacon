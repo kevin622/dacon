{
 "cells": [
  {
   "cell_type": "markdown",
   "metadata": {},
   "source": [
    "# Data Preparation"
   ]
  },
  {
   "cell_type": "code",
   "execution_count": 4,
   "metadata": {
    "ExecuteTime": {
     "end_time": "2021-05-11T13:23:03.049996Z",
     "start_time": "2021-05-11T13:22:28.386245Z"
    }
   },
   "outputs": [
    {
     "data": {
      "text/html": [
       "<div>\n",
       "<style scoped>\n",
       "    .dataframe tbody tr th:only-of-type {\n",
       "        vertical-align: middle;\n",
       "    }\n",
       "\n",
       "    .dataframe tbody tr th {\n",
       "        vertical-align: top;\n",
       "    }\n",
       "\n",
       "    .dataframe thead th {\n",
       "        text-align: right;\n",
       "    }\n",
       "</style>\n",
       "<table border=\"1\" class=\"dataframe\">\n",
       "  <thead>\n",
       "    <tr style=\"text-align: right;\">\n",
       "      <th></th>\n",
       "      <th>sample_id</th>\n",
       "      <th>time</th>\n",
       "      <th>coin_index</th>\n",
       "      <th>open</th>\n",
       "      <th>high</th>\n",
       "      <th>low</th>\n",
       "      <th>close</th>\n",
       "      <th>volume</th>\n",
       "      <th>quote_av</th>\n",
       "      <th>trades</th>\n",
       "      <th>tb_base_av</th>\n",
       "      <th>tb_quote_av</th>\n",
       "    </tr>\n",
       "  </thead>\n",
       "  <tbody>\n",
       "    <tr>\n",
       "      <th>0</th>\n",
       "      <td>0</td>\n",
       "      <td>0</td>\n",
       "      <td>9</td>\n",
       "      <td>0.983614</td>\n",
       "      <td>0.983614</td>\n",
       "      <td>0.983128</td>\n",
       "      <td>0.983246</td>\n",
       "      <td>0.001334</td>\n",
       "      <td>10.650987</td>\n",
       "      <td>0.009855</td>\n",
       "      <td>0.000848</td>\n",
       "      <td>6.771755</td>\n",
       "    </tr>\n",
       "    <tr>\n",
       "      <th>1</th>\n",
       "      <td>0</td>\n",
       "      <td>1</td>\n",
       "      <td>9</td>\n",
       "      <td>0.983245</td>\n",
       "      <td>0.983612</td>\n",
       "      <td>0.982453</td>\n",
       "      <td>0.982693</td>\n",
       "      <td>0.001425</td>\n",
       "      <td>11.375689</td>\n",
       "      <td>0.016137</td>\n",
       "      <td>0.000697</td>\n",
       "      <td>5.565188</td>\n",
       "    </tr>\n",
       "    <tr>\n",
       "      <th>2</th>\n",
       "      <td>0</td>\n",
       "      <td>2</td>\n",
       "      <td>9</td>\n",
       "      <td>0.982694</td>\n",
       "      <td>0.983612</td>\n",
       "      <td>0.982403</td>\n",
       "      <td>0.983002</td>\n",
       "      <td>0.001542</td>\n",
       "      <td>12.301942</td>\n",
       "      <td>0.014166</td>\n",
       "      <td>0.000905</td>\n",
       "      <td>7.225459</td>\n",
       "    </tr>\n",
       "    <tr>\n",
       "      <th>3</th>\n",
       "      <td>0</td>\n",
       "      <td>3</td>\n",
       "      <td>9</td>\n",
       "      <td>0.983009</td>\n",
       "      <td>0.984848</td>\n",
       "      <td>0.983009</td>\n",
       "      <td>0.984486</td>\n",
       "      <td>0.002520</td>\n",
       "      <td>20.134695</td>\n",
       "      <td>0.021557</td>\n",
       "      <td>0.001171</td>\n",
       "      <td>9.353000</td>\n",
       "    </tr>\n",
       "    <tr>\n",
       "      <th>4</th>\n",
       "      <td>0</td>\n",
       "      <td>4</td>\n",
       "      <td>9</td>\n",
       "      <td>0.984233</td>\n",
       "      <td>0.984606</td>\n",
       "      <td>0.983612</td>\n",
       "      <td>0.984164</td>\n",
       "      <td>0.002818</td>\n",
       "      <td>22.515448</td>\n",
       "      <td>0.021434</td>\n",
       "      <td>0.001799</td>\n",
       "      <td>14.372534</td>\n",
       "    </tr>\n",
       "  </tbody>\n",
       "</table>\n",
       "</div>"
      ],
      "text/plain": [
       "   sample_id  time  coin_index      open      high       low     close  \\\n",
       "0          0     0           9  0.983614  0.983614  0.983128  0.983246   \n",
       "1          0     1           9  0.983245  0.983612  0.982453  0.982693   \n",
       "2          0     2           9  0.982694  0.983612  0.982403  0.983002   \n",
       "3          0     3           9  0.983009  0.984848  0.983009  0.984486   \n",
       "4          0     4           9  0.984233  0.984606  0.983612  0.984164   \n",
       "\n",
       "     volume   quote_av    trades  tb_base_av  tb_quote_av  \n",
       "0  0.001334  10.650987  0.009855    0.000848     6.771755  \n",
       "1  0.001425  11.375689  0.016137    0.000697     5.565188  \n",
       "2  0.001542  12.301942  0.014166    0.000905     7.225459  \n",
       "3  0.002520  20.134695  0.021557    0.001171     9.353000  \n",
       "4  0.002818  22.515448  0.021434    0.001799    14.372534  "
      ]
     },
     "execution_count": 4,
     "metadata": {},
     "output_type": "execute_result"
    }
   ],
   "source": [
    "import pandas as pd\n",
    "train_x_df = pd.read_csv('data/train_x_df.csv')\n",
    "train_y_df = pd.read_csv('data/train_y_df.csv')\n",
    "test_x_df = pd.read_csv('data/test_x_df.csv')\n",
    "train_x_df.head()"
   ]
  },
  {
   "cell_type": "code",
   "execution_count": 17,
   "metadata": {
    "ExecuteTime": {
     "end_time": "2021-05-11T13:27:50.227566Z",
     "start_time": "2021-05-11T13:27:50.210610Z"
    }
   },
   "outputs": [
    {
     "data": {
      "text/plain": [
       "Index(['coin_index', 'open', 'high', 'low', 'close', 'volume', 'quote_av',\n",
       "       'trades', 'tb_base_av', 'tb_quote_av'],\n",
       "      dtype='object')"
      ]
     },
     "execution_count": 17,
     "metadata": {},
     "output_type": "execute_result"
    }
   ],
   "source": [
    "train_y_df.columns[2:]"
   ]
  },
  {
   "cell_type": "code",
   "execution_count": 91,
   "metadata": {
    "ExecuteTime": {
     "end_time": "2021-05-11T14:17:49.574455Z",
     "start_time": "2021-05-11T14:17:30.451795Z"
    }
   },
   "outputs": [
    {
     "name": "stdout",
     "output_type": "stream",
     "text": [
      "\n",
      "These shape stands for (sample_size, time_series, feature)\n",
      "train_x_array (7661, 1380, 10)\n",
      "train_y_array (7661, 120, 10)\n",
      "test_x_array (535, 1380, 10)\n",
      "\n"
     ]
    }
   ],
   "source": [
    "import numpy as np\n",
    "def df2d_to_array3d(df_2d):\n",
    "    feature_size = len(df_2d.columns[2:]) # 10\n",
    "    time_size = len(df_2d.time.unique()) # x는 1380, y는 120\n",
    "    sample_size = len(df_2d.sample_id.unique()) # train은 7661, test는 535\n",
    "    array_3d = df_2d.iloc[:,2:].values.reshape([sample_size, time_size, feature_size])\n",
    "    return array_3d\n",
    "\n",
    "train_x_array = df2d_to_array3d(train_x_df)\n",
    "train_y_array = df2d_to_array3d(train_y_df)\n",
    "test_x_array = df2d_to_array3d(test_x_df)\n",
    "\n",
    "print(f'''\n",
    "These shape stands for (sample_size, time_step, feature)\n",
    "train_x_array {train_x_array.shape}\n",
    "train_y_array {train_y_array.shape}\n",
    "test_x_array {test_x_array.shape}\n",
    "''')"
   ]
  },
  {
   "cell_type": "markdown",
   "metadata": {},
   "source": [
    "# 0번 샘플로만"
   ]
  },
  {
   "cell_type": "code",
   "execution_count": 54,
   "metadata": {
    "ExecuteTime": {
     "end_time": "2021-05-11T13:47:09.515708Z",
     "start_time": "2021-05-11T13:47:09.505125Z"
    }
   },
   "outputs": [
    {
     "name": "stdout",
     "output_type": "stream",
     "text": [
      "(timesteps, features)\n",
      "(1380, 10)\n"
     ]
    }
   ],
   "source": [
    "df_0 = train_x_array[0]\n",
    "# y = train_y_array\n",
    "print('(timesteps, features)')\n",
    "print(df_0.shape)"
   ]
  },
  {
   "cell_type": "code",
   "execution_count": 123,
   "metadata": {
    "ExecuteTime": {
     "end_time": "2021-05-11T14:40:35.458387Z",
     "start_time": "2021-05-11T14:40:35.378826Z"
    }
   },
   "outputs": [
    {
     "data": {
      "text/plain": [
       "((1061, 200, 10), (1061, 120, 1))"
      ]
     },
     "execution_count": 123,
     "metadata": {},
     "output_type": "execute_result"
    }
   ],
   "source": [
    "X = list()\n",
    "y = list()\n",
    "for i in range(df_0.shape[0]):\n",
    "    X.append(df_0[i: i + 200])\n",
    "    y.append(df_0[i+200: i + 320, 4]) # 4 for close\n",
    "    if i + 320 == df_0.shape[0]:\n",
    "        break\n",
    "X = np.array(X)\n",
    "y = np.array(y)\n",
    "y = y.reshape(y.shape[0], y.shape[1], 1)\n",
    "X.shape, y.shape"
   ]
  },
  {
   "cell_type": "code",
   "execution_count": 124,
   "metadata": {
    "ExecuteTime": {
     "end_time": "2021-05-11T14:40:43.314100Z",
     "start_time": "2021-05-11T14:40:43.297841Z"
    }
   },
   "outputs": [
    {
     "data": {
      "text/plain": [
       "array([[0.98804015],\n",
       "       [0.98743898],\n",
       "       [0.98803401],\n",
       "       [0.98791325],\n",
       "       [0.98794037],\n",
       "       [0.98792195],\n",
       "       [0.98755848],\n",
       "       [0.98780489],\n",
       "       [0.98859942],\n",
       "       [0.98895538],\n",
       "       [0.98915869],\n",
       "       [0.99162358],\n",
       "       [0.98965508],\n",
       "       [0.99062574],\n",
       "       [0.98977703],\n",
       "       [0.99002337],\n",
       "       [0.99002832],\n",
       "       [0.99014658],\n",
       "       [0.98945928],\n",
       "       [0.98915744],\n",
       "       [0.98916602],\n",
       "       [0.99014539],\n",
       "       [0.99020201],\n",
       "       [0.99062574],\n",
       "       [0.99063808],\n",
       "       [0.99064666],\n",
       "       [0.98940623],\n",
       "       [0.98978192],\n",
       "       [0.99071813],\n",
       "       [0.99125403],\n",
       "       [0.99088448],\n",
       "       [0.99088448],\n",
       "       [0.9907366 ],\n",
       "       [0.98747718],\n",
       "       [0.98842078],\n",
       "       [0.9890306 ],\n",
       "       [0.98979062],\n",
       "       [0.98817444],\n",
       "       [0.98813748],\n",
       "       [0.98813623],\n",
       "       [0.98804384],\n",
       "       [0.9880414 ],\n",
       "       [0.98854399],\n",
       "       [0.98878539],\n",
       "       [0.98792803],\n",
       "       [0.98848236],\n",
       "       [0.98818058],\n",
       "       [0.98829758],\n",
       "       [0.98791701],\n",
       "       [0.98669624],\n",
       "       [0.98669624],\n",
       "       [0.98584133],\n",
       "       [0.9864462 ],\n",
       "       [0.98634517],\n",
       "       [0.98669624],\n",
       "       [0.98657185],\n",
       "       [0.98245996],\n",
       "       [0.98461938],\n",
       "       [0.98253763],\n",
       "       [0.98349226],\n",
       "       [0.98187727],\n",
       "       [0.98213965],\n",
       "       [0.9814018 ],\n",
       "       [0.98109388],\n",
       "       [0.97979921],\n",
       "       [0.98013061],\n",
       "       [0.98053461],\n",
       "       [0.97992116],\n",
       "       [0.97934467],\n",
       "       [0.97942841],\n",
       "       [0.97869056],\n",
       "       [0.97898746],\n",
       "       [0.98104954],\n",
       "       [0.98069721],\n",
       "       [0.98053706],\n",
       "       [0.98193276],\n",
       "       [0.98114932],\n",
       "       [0.98235404],\n",
       "       [0.98226166],\n",
       "       [0.98243159],\n",
       "       [0.98132175],\n",
       "       [0.98275435],\n",
       "       [0.9825092 ],\n",
       "       [0.98255605],\n",
       "       [0.9833678 ],\n",
       "       [0.9823848 ],\n",
       "       [0.9823848 ],\n",
       "       [0.98273343],\n",
       "       [0.98300076],\n",
       "       [0.98292559],\n",
       "       [0.98273098],\n",
       "       [0.98292559],\n",
       "       [0.98236018],\n",
       "       [0.98158532],\n",
       "       [0.9823873 ],\n",
       "       [0.98176891],\n",
       "       [0.98226047],\n",
       "       [0.98239964],\n",
       "       [0.9833703 ],\n",
       "       [0.98300564],\n",
       "       [0.98373985],\n",
       "       [0.98303032],\n",
       "       [0.98369551],\n",
       "       [0.9832471 ],\n",
       "       [0.98361301],\n",
       "       [0.98275435],\n",
       "       [0.98287874],\n",
       "       [0.9816457 ],\n",
       "       [0.98201162],\n",
       "       [0.98226047],\n",
       "       [0.98275435],\n",
       "       [0.98275805],\n",
       "       [0.9831264 ],\n",
       "       [0.9833703 ],\n",
       "       [0.98380512],\n",
       "       [0.98373985],\n",
       "       [0.9829675 ],\n",
       "       [0.98299956],\n",
       "       [0.98299956],\n",
       "       [0.9823873 ]])"
      ]
     },
     "execution_count": 124,
     "metadata": {},
     "output_type": "execute_result"
    }
   ],
   "source": [
    "y[0]"
   ]
  },
  {
   "cell_type": "markdown",
   "metadata": {},
   "source": [
    "## 너로 정했다 케라스"
   ]
  },
  {
   "cell_type": "markdown",
   "metadata": {},
   "source": [
    "케라케라~"
   ]
  },
  {
   "cell_type": "code",
   "execution_count": 93,
   "metadata": {
    "ExecuteTime": {
     "end_time": "2021-05-11T14:18:16.695700Z",
     "start_time": "2021-05-11T14:18:16.681801Z"
    }
   },
   "outputs": [],
   "source": [
    "from keras.models import Sequential\n",
    "from keras.layers import LSTM\n",
    "from keras.layers import Dense"
   ]
  },
  {
   "cell_type": "code",
   "execution_count": 120,
   "metadata": {
    "ExecuteTime": {
     "end_time": "2021-05-11T14:37:44.849708Z",
     "start_time": "2021-05-11T14:37:44.684199Z"
    }
   },
   "outputs": [
    {
     "ename": "ImportError",
     "evalue": "cannot import name 'LSTM2d' from 'keras.layers' (/Users/duru/opt/anaconda3/lib/python3.8/site-packages/keras/layers/__init__.py)",
     "output_type": "error",
     "traceback": [
      "\u001b[0;31m---------------------------------------------------------------------------\u001b[0m",
      "\u001b[0;31mImportError\u001b[0m                               Traceback (most recent call last)",
      "\u001b[0;32m<ipython-input-120-b40e60a64217>\u001b[0m in \u001b[0;36m<module>\u001b[0;34m\u001b[0m\n\u001b[0;32m----> 1\u001b[0;31m \u001b[0;32mfrom\u001b[0m \u001b[0mkeras\u001b[0m\u001b[0;34m.\u001b[0m\u001b[0mlayers\u001b[0m \u001b[0;32mimport\u001b[0m \u001b[0mLSTM2d\u001b[0m\u001b[0;34m\u001b[0m\u001b[0;34m\u001b[0m\u001b[0m\n\u001b[0m",
      "\u001b[0;31mImportError\u001b[0m: cannot import name 'LSTM2d' from 'keras.layers' (/Users/duru/opt/anaconda3/lib/python3.8/site-packages/keras/layers/__init__.py)"
     ]
    }
   ],
   "source": [
    "from keras.layers"
   ]
  },
  {
   "cell_type": "code",
   "execution_count": 107,
   "metadata": {
    "ExecuteTime": {
     "end_time": "2021-05-11T14:24:22.725257Z",
     "start_time": "2021-05-11T14:24:22.259468Z"
    }
   },
   "outputs": [
    {
     "name": "stdout",
     "output_type": "stream",
     "text": [
      "Model: \"sequential_5\"\n",
      "_________________________________________________________________\n",
      "Layer (type)                 Output Shape              Param #   \n",
      "=================================================================\n",
      "lstm_10 (LSTM)               (None, 200, 128)          71168     \n",
      "_________________________________________________________________\n",
      "lstm_11 (LSTM)               (None, 128)               131584    \n",
      "_________________________________________________________________\n",
      "dense_5 (Dense)              (None, 120)               15480     \n",
      "=================================================================\n",
      "Total params: 218,232\n",
      "Trainable params: 218,232\n",
      "Non-trainable params: 0\n",
      "_________________________________________________________________\n"
     ]
    }
   ],
   "source": [
    "model = Sequential()\n",
    "model.add(LSTM(128, activation='relu', return_sequences=True, input_shape=(200, 10)))\n",
    "model.add(LSTM(128, activation='relu'))\n",
    "model.add(Dense(120))\n",
    "model.compile(optimizer='adam', loss='mse')\n",
    "model.summary()"
   ]
  },
  {
   "cell_type": "code",
   "execution_count": 121,
   "metadata": {
    "ExecuteTime": {
     "end_time": "2021-05-11T14:39:24.912620Z",
     "start_time": "2021-05-11T14:39:24.671708Z"
    }
   },
   "outputs": [
    {
     "data": {
      "text/plain": [
       "array([[ 192241.45  ,   -7592.792 ,   20096.314 , -101035.    ,\n",
       "          77294.92  ,  -51772.96  ,    9258.358 ,  115586.84  ,\n",
       "          26799.309 ,  209239.1   ,   98617.17  ,  -93243.2   ,\n",
       "          46724.656 ,  119716.78  , -130397.65  , -158282.39  ,\n",
       "        -120547.92  ,  135037.89  ,   49139.203 ,  -13115.148 ,\n",
       "          40239.797 ,  -32138.922 , -157244.69  ,  124285.23  ,\n",
       "          82971.65  ,   67772.22  ,  105281.586 ,   41613.324 ,\n",
       "          99747.06  , -187501.81  ,  -29501.709 ,    2183.211 ,\n",
       "          32345.88  , -146647.05  , -112215.39  , -230457.62  ,\n",
       "        -204818.94  ,   23084.277 ,   51551.83  ,   34661.938 ,\n",
       "          16158.457 ,  -54252.254 ,  154453.72  ,  130829.35  ,\n",
       "         112159.85  , -121985.266 ,   64506.492 ,  -26956.04  ,\n",
       "        -176460.61  ,   66276.59  , -151646.81  ,    4511.3125,\n",
       "         125291.3   , -237638.77  ,  -51815.51  , -123181.    ,\n",
       "         157637.81  , -176819.31  ,   58754.656 ,  205758.52  ,\n",
       "         -82259.016 ,   93227.47  ,   11376.842 ,  -20020.008 ,\n",
       "          51510.516 ,  -43585.83  ,  -82553.15  ,  -30637.188 ,\n",
       "         -73492.95  ,   60993.926 ,  -15749.492 ,    3730.9766,\n",
       "         -78057.29  , -165503.56  ,   41112.715 ,  -22137.908 ,\n",
       "         -55325.023 ,   40219.67  , -126951.32  ,  -39170.52  ,\n",
       "          20907.652 , -191284.83  , -147307.97  ,  -19055.66  ,\n",
       "        -208186.45  , -101703.81  ,   35315.113 ,   39304.945 ,\n",
       "         132270.    ,  -96582.336 , -142896.97  ,  -93552.766 ,\n",
       "        -137559.45  ,   31933.605 ,  -10615.553 ,   -1574.833 ,\n",
       "          48140.484 ,  100621.75  , -125109.69  ,    3054.0156,\n",
       "        -152065.58  ,  -16502.75  ,  101961.14  ,   -6803.1533,\n",
       "          -6651.093 , -110994.78  ,   90941.14  ,  -60546.97  ,\n",
       "         -38471.92  ,   11822.105 ,  -17889.19  ,  182600.19  ,\n",
       "          94232.48  ,  -55151.594 , -216018.75  , -164691.78  ,\n",
       "        -120065.91  ,  144693.53  ,  -48466.445 ,   38600.48  ]],\n",
       "      dtype=float32)"
      ]
     },
     "execution_count": 121,
     "metadata": {},
     "output_type": "execute_result"
    }
   ],
   "source": [
    "a = X[0]\n",
    "a = a.reshape(1, a.shape[0], a.shape[1])\n",
    "model.predict(a)"
   ]
  },
  {
   "cell_type": "code",
   "execution_count": 99,
   "metadata": {
    "ExecuteTime": {
     "end_time": "2021-05-11T14:20:11.372832Z",
     "start_time": "2021-05-11T14:19:53.548341Z"
    }
   },
   "outputs": [
    {
     "name": "stdout",
     "output_type": "stream",
     "text": [
      "34/34 [==============================] - 18s 432ms/step - loss: nan\n"
     ]
    },
    {
     "data": {
      "text/plain": [
       "<tensorflow.python.keras.callbacks.History at 0x7ffb4a1bd520>"
      ]
     },
     "execution_count": 99,
     "metadata": {},
     "output_type": "execute_result"
    }
   ],
   "source": [
    "model.fit(X, y)"
   ]
  }
 ],
 "metadata": {
  "kernelspec": {
   "display_name": "Python 3",
   "language": "python",
   "name": "python3"
  },
  "language_info": {
   "codemirror_mode": {
    "name": "ipython",
    "version": 3
   },
   "file_extension": ".py",
   "mimetype": "text/x-python",
   "name": "python",
   "nbconvert_exporter": "python",
   "pygments_lexer": "ipython3",
   "version": "3.8.5"
  },
  "toc": {
   "base_numbering": 1,
   "nav_menu": {},
   "number_sections": true,
   "sideBar": true,
   "skip_h1_title": false,
   "title_cell": "Table of Contents",
   "title_sidebar": "Contents",
   "toc_cell": false,
   "toc_position": {},
   "toc_section_display": true,
   "toc_window_display": false
  }
 },
 "nbformat": 4,
 "nbformat_minor": 4
}
