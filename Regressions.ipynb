{
 "cells": [
  {
   "cell_type": "code",
   "execution_count": null,
   "metadata": {
    "ExecuteTime": {
     "end_time": "2021-05-17T16:31:18.686833Z",
     "start_time": "2021-05-17T16:30:41.100628Z"
    }
   },
   "outputs": [],
   "source": [
    "import pandas as pd\n",
    "train_x_df = pd.read_csv('data/train_x_df.csv')\n",
    "train_y_df = pd.read_csv('data/train_y_df.csv')\n",
    "test_x_df = pd.read_csv('data/test_x_df.csv')\n",
    "train_x_df.head()"
   ]
  },
  {
   "cell_type": "code",
   "execution_count": null,
   "metadata": {
    "ExecuteTime": {
     "end_time": "2021-05-17T16:31:24.258958Z",
     "start_time": "2021-05-17T16:31:18.698042Z"
    }
   },
   "outputs": [],
   "source": [
    "import numpy as np\n",
    "def df2d_to_array3d(df_2d):\n",
    "    feature_size = len(df_2d.columns[3:]) # 9\n",
    "    time_size = len(df_2d.time.unique()) # x는 1380, y는 120\n",
    "    sample_size = len(df_2d.sample_id.unique()) # train은 7661, test는 535\n",
    "    array_3d = df_2d.iloc[:,3:].values.reshape([sample_size, time_size, feature_size])\n",
    "    return array_3d\n",
    "\n",
    "train_x_array = df2d_to_array3d(train_x_df)\n",
    "train_y_array = df2d_to_array3d(train_y_df)\n",
    "test_x_array = df2d_to_array3d(test_x_df)\n",
    "\n",
    "print(f'''\n",
    "These shape stands for (sample_size, time_step, feature)\n",
    "train_x_array {train_x_array.shape}\n",
    "train_y_array {train_y_array.shape}\n",
    "test_x_array {test_x_array.shape}\n",
    "''')"
   ]
  },
  {
   "cell_type": "code",
   "execution_count": null,
   "metadata": {
    "ExecuteTime": {
     "end_time": "2021-05-17T16:31:24.390170Z",
     "start_time": "2021-05-17T16:31:24.347456Z"
    }
   },
   "outputs": [],
   "source": [
    "X = train_x_array[:, :, 0]\n",
    "y = train_y_array[:, :, 0]\n",
    "X.shape, y.shape"
   ]
  },
  {
   "cell_type": "code",
   "execution_count": null,
   "metadata": {
    "ExecuteTime": {
     "end_time": "2021-05-17T16:31:24.583726Z",
     "start_time": "2021-05-17T16:31:24.491399Z"
    }
   },
   "outputs": [],
   "source": [
    "y_argmax = []\n",
    "for i in range(len(y)):\n",
    "    y_argmax.append(y[i].argmax())\n",
    "y_argmax = np.array(y_argmax)\n",
    "y = y_argmax"
   ]
  },
  {
   "cell_type": "code",
   "execution_count": null,
   "metadata": {
    "ExecuteTime": {
     "end_time": "2021-05-17T16:31:46.248178Z",
     "start_time": "2021-05-17T16:31:24.594350Z"
    }
   },
   "outputs": [],
   "source": [
    "def get_avg_5(array):\n",
    "    new_array = []\n",
    "    for i in range(0, len(array), 5):\n",
    "        new_array.append(array[i:i+5].mean())\n",
    "    return np.array(new_array)\n",
    "\n",
    "X = np.array(list(map(get_avg_5, X)))\n",
    "X.shape"
   ]
  },
  {
   "cell_type": "markdown",
   "metadata": {},
   "source": [
    "# 각종 회귀"
   ]
  },
  {
   "cell_type": "code",
   "execution_count": null,
   "metadata": {
    "ExecuteTime": {
     "end_time": "2021-05-17T16:32:50.849979Z",
     "start_time": "2021-05-17T16:32:47.918453Z"
    }
   },
   "outputs": [],
   "source": [
    "from sklearn.model_selection import GridSearchCV"
   ]
  },
  {
   "cell_type": "markdown",
   "metadata": {},
   "source": [
    "## linear regression"
   ]
  },
  {
   "cell_type": "markdown",
   "metadata": {},
   "source": [
    "선형회귀는 딱히 그리드서치할 게 없으므로 train_test_split 사용"
   ]
  },
  {
   "cell_type": "code",
   "execution_count": null,
   "metadata": {
    "ExecuteTime": {
     "end_time": "2021-05-17T16:33:33.151400Z",
     "start_time": "2021-05-17T16:33:33.014834Z"
    }
   },
   "outputs": [],
   "source": [
    "from sklearn.model_selection import train_test_split\n",
    "X_train, X_test, y_train, y_test = train_test_split(X, y, test_size=0.2, random_state=0)\n",
    "X_train.shape, y_train.shape"
   ]
  },
  {
   "cell_type": "code",
   "execution_count": null,
   "metadata": {
    "ExecuteTime": {
     "end_time": "2021-05-17T16:33:44.557015Z",
     "start_time": "2021-05-17T16:33:43.905115Z"
    }
   },
   "outputs": [],
   "source": [
    "from sklearn.linear_model import LinearRegression\n",
    "from sklearn.metrics import mean_squared_error as mse\n",
    "from sklearn.metrics import r2_score as r2\n",
    "lr = LinearRegression()\n",
    "lr.fit(X_train, y_train)\n",
    "y_pred = lr.predict(X_test)\n",
    "print('mse:', mse(y_test, y_pred))\n",
    "print('r2:', r2(y_test, y_pred))"
   ]
  },
  {
   "cell_type": "markdown",
   "metadata": {},
   "source": [
    "## Ridge Regression"
   ]
  },
  {
   "cell_type": "code",
   "execution_count": null,
   "metadata": {
    "ExecuteTime": {
     "end_time": "2021-05-17T16:33:57.816134Z",
     "start_time": "2021-05-17T16:33:55.618363Z"
    }
   },
   "outputs": [],
   "source": [
    "from sklearn.linear_model import RidgeCV\n",
    "ri = RidgeCV(cv=5, alphas=np.logspace(-6, 6, 13))\n",
    "ri.fit(X, y)"
   ]
  },
  {
   "cell_type": "code",
   "execution_count": null,
   "metadata": {
    "ExecuteTime": {
     "end_time": "2021-05-17T16:34:02.377571Z",
     "start_time": "2021-05-17T16:34:02.367705Z"
    },
    "scrolled": true
   },
   "outputs": [],
   "source": [
    "y_pred = ri.predict(X_test)\n",
    "print('mse:', mse(y_test, y_pred))\n",
    "print('r2:', r2(y_test, y_pred))"
   ]
  },
  {
   "cell_type": "markdown",
   "metadata": {},
   "source": [
    "## Lasso Regression"
   ]
  },
  {
   "cell_type": "code",
   "execution_count": null,
   "metadata": {
    "ExecuteTime": {
     "end_time": "2021-05-17T16:34:24.150414Z",
     "start_time": "2021-05-17T16:34:22.684493Z"
    },
    "scrolled": true
   },
   "outputs": [],
   "source": [
    "from sklearn.linear_model import LassoCV\n",
    "la = LassoCV(cv=5, random_state=0, alphas=np.logspace(-6, 6, 13))\n",
    "la.fit(X, y)"
   ]
  },
  {
   "cell_type": "code",
   "execution_count": null,
   "metadata": {
    "ExecuteTime": {
     "end_time": "2021-05-17T16:34:28.196842Z",
     "start_time": "2021-05-17T16:34:28.185883Z"
    }
   },
   "outputs": [],
   "source": [
    "y_pred = la.predict(X_test)\n",
    "print('mse:', mse(y_test, y_pred))\n",
    "print('r2:', r2(y_test, y_pred))"
   ]
  },
  {
   "cell_type": "markdown",
   "metadata": {},
   "source": [
    "## random forest"
   ]
  },
  {
   "cell_type": "code",
   "execution_count": null,
   "metadata": {
    "ExecuteTime": {
     "end_time": "2021-05-17T16:38:28.006428Z",
     "start_time": "2021-05-17T16:35:28.510355Z"
    }
   },
   "outputs": [],
   "source": [
    "from sklearn.ensemble import RandomForestRegressor\n",
    "rf = RandomForestRegressor()\n",
    "params = {\n",
    "#     'n_estimators': [100, 150, 200],\n",
    "#     'max_depth': [3, 5, 7],\n",
    "    'min_samples_split': [2, 4, 6, 10]\n",
    "}\n",
    "model_rf = GridSearchCV(rf, params)\n",
    "model_rf.fit(X, y)"
   ]
  },
  {
   "cell_type": "code",
   "execution_count": null,
   "metadata": {},
   "outputs": [],
   "source": [
    "y_pred = model_rf.predict(X_test)\n",
    "print('mse:', mse(y_test, y_pred))\n",
    "print('r2:', r2(y_test, y_pred))"
   ]
  },
  {
   "cell_type": "markdown",
   "metadata": {},
   "source": [
    "## Adaboost"
   ]
  },
  {
   "cell_type": "code",
   "execution_count": null,
   "metadata": {},
   "outputs": [],
   "source": [
    "from sklearn.ensemble import AdaBoostRegressor\n",
    "ad = AdaBoostRegressor()\n",
    "params = {\n",
    "#     'n_estimators': [50, 100], \n",
    "    'learning_rate': [0.01, 0.05, 0.1, 0.3, 1.0], \n",
    "    'loss': ['linear', 'square', 'exponential']\n",
    "}\n",
    "model_ad = GridSearchCV(ad, params)\n",
    "model_ad.fit(X, y)"
   ]
  },
  {
   "cell_type": "code",
   "execution_count": null,
   "metadata": {},
   "outputs": [],
   "source": [
    "y_pred = model_ad.predict(X_test)\n",
    "print('mse:', mse(y_test, y_pred))\n",
    "print('r2:', r2(y_test, y_pred))"
   ]
  },
  {
   "cell_type": "markdown",
   "metadata": {},
   "source": [
    "## LightGBM"
   ]
  },
  {
   "cell_type": "code",
   "execution_count": null,
   "metadata": {
    "ExecuteTime": {
     "end_time": "2021-05-17T16:16:26.244930Z",
     "start_time": "2021-05-17T16:16:19.520259Z"
    }
   },
   "outputs": [],
   "source": [
    "from lightgbm import LGBMRegressor\n",
    "lgbm = LGBMRegressor()\n",
    "params = {\n",
    "    'learning_rate': [0.01, 0.05, 0.1, 0.3, 1.0], \n",
    "#     'n_estimators': [100, 150, 200], \n",
    "#     'max_depth': [3, 5, 7]\n",
    "}\n",
    "model_lgbm = GridSearchCV(lgbm, params)\n",
    "model_lgbm.fit(X, y)"
   ]
  },
  {
   "cell_type": "code",
   "execution_count": null,
   "metadata": {},
   "outputs": [],
   "source": [
    "y_pred = model_lgbm.predict(X_test)\n",
    "print('mse:', mse(y_test, y_pred))\n",
    "print('r2:', r2(y_test, y_pred))"
   ]
  },
  {
   "cell_type": "markdown",
   "metadata": {},
   "source": [
    "## xgboost"
   ]
  },
  {
   "cell_type": "code",
   "execution_count": null,
   "metadata": {
    "ExecuteTime": {
     "end_time": "2021-05-17T16:23:20.377420Z",
     "start_time": "2021-05-17T16:22:50.470611Z"
    }
   },
   "outputs": [],
   "source": [
    "from xgboost import XGBRegressor\n",
    "xgb = XGBRegressor()\n",
    "params = {\n",
    "    'booster': ['gbtree', 'gblinear', 'dart'], \n",
    "    'max_depth': [3, 5, 7], \n",
    "    'n_estimators': [100, 150, 200], \n",
    "    'learning_rate': [0.01, 0.05, 0.1, 0.5, 1]}\n",
    "model_xgb = GridSearchCV(xgb, params)\n",
    "model_xgb.fit(X, y)"
   ]
  },
  {
   "cell_type": "code",
   "execution_count": null,
   "metadata": {
    "ExecuteTime": {
     "end_time": "2021-05-17T16:20:50.051791Z",
     "start_time": "2021-05-17T16:20:50.029536Z"
    }
   },
   "outputs": [],
   "source": [
    "y_pred = model_xgb.predict(X_test)\n",
    "print('mse:', mse(y_test, y_pred))\n",
    "print('r2:', r2(y_test, y_pred))"
   ]
  }
 ],
 "metadata": {
  "kernelspec": {
   "display_name": "Python 3",
   "language": "python",
   "name": "python3"
  },
  "language_info": {
   "codemirror_mode": {
    "name": "ipython",
    "version": 3
   },
   "file_extension": ".py",
   "mimetype": "text/x-python",
   "name": "python",
   "nbconvert_exporter": "python",
   "pygments_lexer": "ipython3",
   "version": "3.8.5"
  },
  "toc": {
   "base_numbering": 1,
   "nav_menu": {},
   "number_sections": true,
   "sideBar": true,
   "skip_h1_title": false,
   "title_cell": "Table of Contents",
   "title_sidebar": "Contents",
   "toc_cell": false,
   "toc_position": {},
   "toc_section_display": true,
   "toc_window_display": true
  }
 },
 "nbformat": 4,
 "nbformat_minor": 4
}
