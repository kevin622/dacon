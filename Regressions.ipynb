{
 "cells": [
  {
   "cell_type": "markdown",
   "metadata": {},
   "source": [
    "# 데이터 불러오기"
   ]
  },
  {
   "cell_type": "code",
   "execution_count": 61,
   "metadata": {
    "ExecuteTime": {
     "end_time": "2021-05-22T16:22:36.042452Z",
     "start_time": "2021-05-22T16:22:04.180316Z"
    }
   },
   "outputs": [
    {
     "data": {
      "text/html": [
       "<div>\n",
       "<style scoped>\n",
       "    .dataframe tbody tr th:only-of-type {\n",
       "        vertical-align: middle;\n",
       "    }\n",
       "\n",
       "    .dataframe tbody tr th {\n",
       "        vertical-align: top;\n",
       "    }\n",
       "\n",
       "    .dataframe thead th {\n",
       "        text-align: right;\n",
       "    }\n",
       "</style>\n",
       "<table border=\"1\" class=\"dataframe\">\n",
       "  <thead>\n",
       "    <tr style=\"text-align: right;\">\n",
       "      <th></th>\n",
       "      <th>sample_id</th>\n",
       "      <th>time</th>\n",
       "      <th>coin_index</th>\n",
       "      <th>open</th>\n",
       "      <th>high</th>\n",
       "      <th>low</th>\n",
       "      <th>close</th>\n",
       "      <th>volume</th>\n",
       "      <th>quote_av</th>\n",
       "      <th>trades</th>\n",
       "      <th>tb_base_av</th>\n",
       "      <th>tb_quote_av</th>\n",
       "    </tr>\n",
       "  </thead>\n",
       "  <tbody>\n",
       "    <tr>\n",
       "      <th>0</th>\n",
       "      <td>0</td>\n",
       "      <td>0</td>\n",
       "      <td>9</td>\n",
       "      <td>0.983614</td>\n",
       "      <td>0.983614</td>\n",
       "      <td>0.983128</td>\n",
       "      <td>0.983246</td>\n",
       "      <td>0.001334</td>\n",
       "      <td>10.650987</td>\n",
       "      <td>0.009855</td>\n",
       "      <td>0.000848</td>\n",
       "      <td>6.771755</td>\n",
       "    </tr>\n",
       "    <tr>\n",
       "      <th>1</th>\n",
       "      <td>0</td>\n",
       "      <td>1</td>\n",
       "      <td>9</td>\n",
       "      <td>0.983245</td>\n",
       "      <td>0.983612</td>\n",
       "      <td>0.982453</td>\n",
       "      <td>0.982693</td>\n",
       "      <td>0.001425</td>\n",
       "      <td>11.375689</td>\n",
       "      <td>0.016137</td>\n",
       "      <td>0.000697</td>\n",
       "      <td>5.565188</td>\n",
       "    </tr>\n",
       "    <tr>\n",
       "      <th>2</th>\n",
       "      <td>0</td>\n",
       "      <td>2</td>\n",
       "      <td>9</td>\n",
       "      <td>0.982694</td>\n",
       "      <td>0.983612</td>\n",
       "      <td>0.982403</td>\n",
       "      <td>0.983002</td>\n",
       "      <td>0.001542</td>\n",
       "      <td>12.301942</td>\n",
       "      <td>0.014166</td>\n",
       "      <td>0.000905</td>\n",
       "      <td>7.225459</td>\n",
       "    </tr>\n",
       "    <tr>\n",
       "      <th>3</th>\n",
       "      <td>0</td>\n",
       "      <td>3</td>\n",
       "      <td>9</td>\n",
       "      <td>0.983009</td>\n",
       "      <td>0.984848</td>\n",
       "      <td>0.983009</td>\n",
       "      <td>0.984486</td>\n",
       "      <td>0.002520</td>\n",
       "      <td>20.134695</td>\n",
       "      <td>0.021557</td>\n",
       "      <td>0.001171</td>\n",
       "      <td>9.353000</td>\n",
       "    </tr>\n",
       "    <tr>\n",
       "      <th>4</th>\n",
       "      <td>0</td>\n",
       "      <td>4</td>\n",
       "      <td>9</td>\n",
       "      <td>0.984233</td>\n",
       "      <td>0.984606</td>\n",
       "      <td>0.983612</td>\n",
       "      <td>0.984164</td>\n",
       "      <td>0.002818</td>\n",
       "      <td>22.515448</td>\n",
       "      <td>0.021434</td>\n",
       "      <td>0.001799</td>\n",
       "      <td>14.372534</td>\n",
       "    </tr>\n",
       "  </tbody>\n",
       "</table>\n",
       "</div>"
      ],
      "text/plain": [
       "   sample_id  time  coin_index      open      high       low     close  \\\n",
       "0          0     0           9  0.983614  0.983614  0.983128  0.983246   \n",
       "1          0     1           9  0.983245  0.983612  0.982453  0.982693   \n",
       "2          0     2           9  0.982694  0.983612  0.982403  0.983002   \n",
       "3          0     3           9  0.983009  0.984848  0.983009  0.984486   \n",
       "4          0     4           9  0.984233  0.984606  0.983612  0.984164   \n",
       "\n",
       "     volume   quote_av    trades  tb_base_av  tb_quote_av  \n",
       "0  0.001334  10.650987  0.009855    0.000848     6.771755  \n",
       "1  0.001425  11.375689  0.016137    0.000697     5.565188  \n",
       "2  0.001542  12.301942  0.014166    0.000905     7.225459  \n",
       "3  0.002520  20.134695  0.021557    0.001171     9.353000  \n",
       "4  0.002818  22.515448  0.021434    0.001799    14.372534  "
      ]
     },
     "execution_count": 61,
     "metadata": {},
     "output_type": "execute_result"
    }
   ],
   "source": [
    "import pandas as pd\n",
    "train_x_df = pd.read_csv('data/train_x_df.csv')\n",
    "train_y_df = pd.read_csv('data/train_y_df.csv')\n",
    "test_x_df = pd.read_csv('data/test_x_df.csv')\n",
    "train_x_df.head()"
   ]
  },
  {
   "cell_type": "code",
   "execution_count": 62,
   "metadata": {
    "ExecuteTime": {
     "end_time": "2021-05-22T16:22:40.399757Z",
     "start_time": "2021-05-22T16:22:36.049344Z"
    }
   },
   "outputs": [
    {
     "name": "stdout",
     "output_type": "stream",
     "text": [
      "\n",
      "These shape stands for (sample_size, time_step, feature)\n",
      "train_x_array (7661, 1380, 9)\n",
      "train_y_array (7661, 120, 9)\n",
      "test_x_array (535, 1380, 9)\n",
      "\n"
     ]
    }
   ],
   "source": [
    "import numpy as np\n",
    "def df2d_to_array3d(df_2d):\n",
    "    feature_size = len(df_2d.columns[3:]) # 9\n",
    "    time_size = len(df_2d.time.unique()) # x는 1380, y는 120\n",
    "    sample_size = len(df_2d.sample_id.unique()) # train은 7661, test는 535\n",
    "    array_3d = df_2d.iloc[:,3:].values.reshape([sample_size, time_size, feature_size])\n",
    "    return array_3d\n",
    "\n",
    "train_x_array = df2d_to_array3d(train_x_df)\n",
    "train_y_array = df2d_to_array3d(train_y_df)\n",
    "test_x_array = df2d_to_array3d(test_x_df)\n",
    "\n",
    "print(f'''\n",
    "These shape stands for (sample_size, time_step, feature)\n",
    "train_x_array {train_x_array.shape}\n",
    "train_y_array {train_y_array.shape}\n",
    "test_x_array {test_x_array.shape}\n",
    "''')"
   ]
  },
  {
   "cell_type": "code",
   "execution_count": 63,
   "metadata": {
    "ExecuteTime": {
     "end_time": "2021-05-22T16:22:43.799748Z",
     "start_time": "2021-05-22T16:22:43.508715Z"
    }
   },
   "outputs": [
    {
     "data": {
      "text/plain": [
       "((7661, 1380, 1), (7661, 120, 1))"
      ]
     },
     "execution_count": 63,
     "metadata": {},
     "output_type": "execute_result"
    }
   ],
   "source": [
    "# X = train_x_array[:, :, [0, 4]]\n",
    "# y = train_y_array[:, :, [0, 4]]\n",
    "X = train_x_array[:, :, [0]]\n",
    "y = train_y_array[:, :, [0]]\n",
    "X.shape, y.shape"
   ]
  },
  {
   "cell_type": "code",
   "execution_count": 69,
   "metadata": {
    "ExecuteTime": {
     "end_time": "2021-05-22T16:23:46.134981Z",
     "start_time": "2021-05-22T16:23:46.044546Z"
    }
   },
   "outputs": [
    {
     "data": {
      "text/plain": [
       "((7661,), (7661,))"
      ]
     },
     "execution_count": 69,
     "metadata": {},
     "output_type": "execute_result"
    }
   ],
   "source": [
    "y_argmax = []\n",
    "y_max = []\n",
    "for i in range(len(y)):\n",
    "    y_argmax.append(y[i].argmax())\n",
    "    y_max.append(y[i].max())\n",
    "y_argmax = np.array(y_argmax)\n",
    "y_max = np.array(y_max)\n",
    "y_argmax.shape, y_max.shape"
   ]
  },
  {
   "cell_type": "code",
   "execution_count": 70,
   "metadata": {
    "ExecuteTime": {
     "end_time": "2021-05-22T16:24:25.757281Z",
     "start_time": "2021-05-22T16:24:10.391497Z"
    }
   },
   "outputs": [
    {
     "data": {
      "text/plain": [
       "(7661, 276)"
      ]
     },
     "execution_count": 70,
     "metadata": {},
     "output_type": "execute_result"
    }
   ],
   "source": [
    "# from sklearn.preprocessing import MinMaxScaler\n",
    "from tqdm import tqdm\n",
    "def get_avg_5(array):\n",
    "    new_array = []\n",
    "#     scaler = MinMaxScaler()\n",
    "#     scaler.fit(array[:, [1]])\n",
    "#     array[:, [1]] = scaler.transform(array[:, [1]])\n",
    "    for i in tqdm(range(0, len(array), 5)):\n",
    "        new_array.append(array[i:i+5, 0].mean())\n",
    "#         new_array.append(np.median(array[i:i+5, 1]))\n",
    "        \n",
    "    return np.array(new_array)\n",
    "\n",
    "X = np.array(list(map(get_avg_5, X)))\n",
    "X.shape"
   ]
  },
  {
   "cell_type": "code",
   "execution_count": 78,
   "metadata": {
    "ExecuteTime": {
     "end_time": "2021-05-22T16:28:55.053824Z",
     "start_time": "2021-05-22T16:28:55.025547Z"
    }
   },
   "outputs": [
    {
     "data": {
      "text/plain": [
       "((6128, 276), (6128,), (6128,))"
      ]
     },
     "execution_count": 78,
     "metadata": {},
     "output_type": "execute_result"
    }
   ],
   "source": [
    "from sklearn.model_selection import train_test_split\n",
    "X_train, X_test, y_argmax_train, y_argmax_test, y_max_train, y_max_test = train_test_split(X, y_argmax, y_max, test_size=0.2, random_state=0)\n",
    "X_train.shape, y_argmax_train.shape, y_max_train.shape"
   ]
  },
  {
   "cell_type": "markdown",
   "metadata": {},
   "source": [
    "# 각종 회귀"
   ]
  },
  {
   "cell_type": "markdown",
   "metadata": {},
   "source": [
    "## 택함받지 못한 백성"
   ]
  },
  {
   "cell_type": "markdown",
   "metadata": {},
   "source": [
    "```python\n",
    "from sklearn.model_selection import GridSearchCV\n",
    "from sklearn.decomposition import PCA\n",
    "```"
   ]
  },
  {
   "cell_type": "markdown",
   "metadata": {},
   "source": [
    "```python\n",
    "from sklearn.decomposition import PCA\n",
    "pca = PCA(n_components=276)\n",
    "pca.fit(X)\n",
    "# pca.explained_variance_\n",
    "X = pca.transform(X)\n",
    "```"
   ]
  },
  {
   "cell_type": "markdown",
   "metadata": {},
   "source": [
    "## Linear regression"
   ]
  },
  {
   "cell_type": "markdown",
   "metadata": {},
   "source": [
    "선형회귀는 딱히 그리드서치할 게 없으므로 train_test_split 사용"
   ]
  },
  {
   "cell_type": "code",
   "execution_count": 71,
   "metadata": {
    "ExecuteTime": {
     "end_time": "2021-05-22T16:25:25.921593Z",
     "start_time": "2021-05-22T16:25:25.264217Z"
    }
   },
   "outputs": [
    {
     "data": {
      "text/plain": [
       "((6128, 276), (6128, 120, 1))"
      ]
     },
     "execution_count": 71,
     "metadata": {},
     "output_type": "execute_result"
    }
   ],
   "source": [
    "from sklearn.model_selection import train_test_split\n",
    "X_train, X_test, y_train, y_test = train_test_split(X, y, test_size=0.2, random_state=0)\n",
    "X_train.shape, y_train.shape"
   ]
  },
  {
   "cell_type": "code",
   "execution_count": 168,
   "metadata": {
    "ExecuteTime": {
     "end_time": "2021-05-19T10:05:15.386612Z",
     "start_time": "2021-05-19T10:05:15.229386Z"
    }
   },
   "outputs": [
    {
     "name": "stdout",
     "output_type": "stream",
     "text": [
      "mse: 1850.351644649276\n",
      "r2: -0.06261813024282992\n"
     ]
    }
   ],
   "source": [
    "from sklearn.linear_model import LinearRegression\n",
    "from sklearn.metrics import mean_squared_error as mse\n",
    "from sklearn.metrics import r2_score as r2\n",
    "lr = LinearRegression()\n",
    "lr.fit(X_train, y_train)\n",
    "y_pred = lr.predict(X_test)\n",
    "print('mse:', mse(y_test, y_pred))\n",
    "print('r2:', r2(y_test, y_pred))"
   ]
  },
  {
   "cell_type": "markdown",
   "metadata": {},
   "source": [
    "## Ridge Regression"
   ]
  },
  {
   "cell_type": "code",
   "execution_count": 169,
   "metadata": {
    "ExecuteTime": {
     "end_time": "2021-05-19T10:05:23.361405Z",
     "start_time": "2021-05-19T10:05:20.914092Z"
    },
    "scrolled": true
   },
   "outputs": [
    {
     "data": {
      "text/plain": [
       "RidgeCV(alphas=array([1.e-06, 1.e-05, 1.e-04, 1.e-03, 1.e-02, 1.e-01, 1.e+00, 1.e+01,\n",
       "       1.e+02, 1.e+03, 1.e+04, 1.e+05, 1.e+06]),\n",
       "        cv=5)"
      ]
     },
     "execution_count": 169,
     "metadata": {},
     "output_type": "execute_result"
    }
   ],
   "source": [
    "from sklearn.linear_model import RidgeCV\n",
    "ri = RidgeCV(cv=5, alphas=np.logspace(-6, 6, 13))\n",
    "ri.fit(X, y)"
   ]
  },
  {
   "cell_type": "code",
   "execution_count": 170,
   "metadata": {
    "ExecuteTime": {
     "end_time": "2021-05-19T10:05:25.170130Z",
     "start_time": "2021-05-19T10:05:25.161605Z"
    },
    "scrolled": true
   },
   "outputs": [
    {
     "name": "stdout",
     "output_type": "stream",
     "text": [
      "mse: 1726.5273471325015\n",
      "r2: 0.00849156606078616\n"
     ]
    }
   ],
   "source": [
    "y_pred = ri.predict(X_test)\n",
    "print('mse:', mse(y_test, y_pred))\n",
    "print('r2:', r2(y_test, y_pred))"
   ]
  },
  {
   "cell_type": "markdown",
   "metadata": {},
   "source": [
    "## Lasso Regression"
   ]
  },
  {
   "cell_type": "code",
   "execution_count": 171,
   "metadata": {
    "ExecuteTime": {
     "end_time": "2021-05-19T10:05:30.052271Z",
     "start_time": "2021-05-19T10:05:28.537855Z"
    },
    "scrolled": true
   },
   "outputs": [
    {
     "name": "stderr",
     "output_type": "stream",
     "text": [
      "/Users/duru/opt/anaconda3/lib/python3.8/site-packages/sklearn/linear_model/_coordinate_descent.py:525: ConvergenceWarning: Objective did not converge. You might want to increase the number of iterations. Duality gap: 96438.62097354792, tolerance: 1025.0183512891642\n",
      "  model = cd_fast.enet_coordinate_descent_gram(\n",
      "/Users/duru/opt/anaconda3/lib/python3.8/site-packages/sklearn/linear_model/_coordinate_descent.py:525: ConvergenceWarning: Objective did not converge. You might want to increase the number of iterations. Duality gap: 3448769.656385596, tolerance: 1025.0183512891642\n",
      "  model = cd_fast.enet_coordinate_descent_gram(\n",
      "/Users/duru/opt/anaconda3/lib/python3.8/site-packages/sklearn/linear_model/_coordinate_descent.py:525: ConvergenceWarning: Objective did not converge. You might want to increase the number of iterations. Duality gap: 4546565.551248369, tolerance: 1025.0183512891642\n",
      "  model = cd_fast.enet_coordinate_descent_gram(\n",
      "/Users/duru/opt/anaconda3/lib/python3.8/site-packages/sklearn/linear_model/_coordinate_descent.py:525: ConvergenceWarning: Objective did not converge. You might want to increase the number of iterations. Duality gap: 4780514.66119609, tolerance: 1025.0183512891642\n",
      "  model = cd_fast.enet_coordinate_descent_gram(\n",
      "/Users/duru/opt/anaconda3/lib/python3.8/site-packages/sklearn/linear_model/_coordinate_descent.py:525: ConvergenceWarning: Objective did not converge. You might want to increase the number of iterations. Duality gap: 16489.382039031014, tolerance: 1023.9008995921031\n",
      "  model = cd_fast.enet_coordinate_descent_gram(\n",
      "/Users/duru/opt/anaconda3/lib/python3.8/site-packages/sklearn/linear_model/_coordinate_descent.py:525: ConvergenceWarning: Objective did not converge. You might want to increase the number of iterations. Duality gap: 3169751.426136415, tolerance: 1023.9008995921031\n",
      "  model = cd_fast.enet_coordinate_descent_gram(\n",
      "/Users/duru/opt/anaconda3/lib/python3.8/site-packages/sklearn/linear_model/_coordinate_descent.py:525: ConvergenceWarning: Objective did not converge. You might want to increase the number of iterations. Duality gap: 4521685.626593652, tolerance: 1023.9008995921031\n",
      "  model = cd_fast.enet_coordinate_descent_gram(\n",
      "/Users/duru/opt/anaconda3/lib/python3.8/site-packages/sklearn/linear_model/_coordinate_descent.py:525: ConvergenceWarning: Objective did not converge. You might want to increase the number of iterations. Duality gap: 4789784.010966091, tolerance: 1023.9008995921031\n",
      "  model = cd_fast.enet_coordinate_descent_gram(\n",
      "/Users/duru/opt/anaconda3/lib/python3.8/site-packages/sklearn/linear_model/_coordinate_descent.py:525: ConvergenceWarning: Objective did not converge. You might want to increase the number of iterations. Duality gap: 122326.38349589147, tolerance: 1030.2717175069345\n",
      "  model = cd_fast.enet_coordinate_descent_gram(\n",
      "/Users/duru/opt/anaconda3/lib/python3.8/site-packages/sklearn/linear_model/_coordinate_descent.py:525: ConvergenceWarning: Objective did not converge. You might want to increase the number of iterations. Duality gap: 3523083.127382393, tolerance: 1030.2717175069345\n",
      "  model = cd_fast.enet_coordinate_descent_gram(\n",
      "/Users/duru/opt/anaconda3/lib/python3.8/site-packages/sklearn/linear_model/_coordinate_descent.py:525: ConvergenceWarning: Objective did not converge. You might want to increase the number of iterations. Duality gap: 4577167.979857472, tolerance: 1030.2717175069345\n",
      "  model = cd_fast.enet_coordinate_descent_gram(\n",
      "/Users/duru/opt/anaconda3/lib/python3.8/site-packages/sklearn/linear_model/_coordinate_descent.py:525: ConvergenceWarning: Objective did not converge. You might want to increase the number of iterations. Duality gap: 4820895.31894316, tolerance: 1030.2717175069345\n",
      "  model = cd_fast.enet_coordinate_descent_gram(\n",
      "/Users/duru/opt/anaconda3/lib/python3.8/site-packages/sklearn/linear_model/_coordinate_descent.py:525: ConvergenceWarning: Objective did not converge. You might want to increase the number of iterations. Duality gap: 118785.66523947194, tolerance: 1037.0457622450647\n",
      "  model = cd_fast.enet_coordinate_descent_gram(\n",
      "/Users/duru/opt/anaconda3/lib/python3.8/site-packages/sklearn/linear_model/_coordinate_descent.py:525: ConvergenceWarning: Objective did not converge. You might want to increase the number of iterations. Duality gap: 3342353.678406139, tolerance: 1037.0457622450647\n",
      "  model = cd_fast.enet_coordinate_descent_gram(\n",
      "/Users/duru/opt/anaconda3/lib/python3.8/site-packages/sklearn/linear_model/_coordinate_descent.py:525: ConvergenceWarning: Objective did not converge. You might want to increase the number of iterations. Duality gap: 4551527.986625071, tolerance: 1037.0457622450647\n",
      "  model = cd_fast.enet_coordinate_descent_gram(\n",
      "/Users/duru/opt/anaconda3/lib/python3.8/site-packages/sklearn/linear_model/_coordinate_descent.py:525: ConvergenceWarning: Objective did not converge. You might want to increase the number of iterations. Duality gap: 4816320.690834135, tolerance: 1037.0457622450647\n",
      "  model = cd_fast.enet_coordinate_descent_gram(\n",
      "/Users/duru/opt/anaconda3/lib/python3.8/site-packages/sklearn/linear_model/_coordinate_descent.py:525: ConvergenceWarning: Objective did not converge. You might want to increase the number of iterations. Duality gap: 22230.914415035397, tolerance: 1032.5779333333332\n",
      "  model = cd_fast.enet_coordinate_descent_gram(\n",
      "/Users/duru/opt/anaconda3/lib/python3.8/site-packages/sklearn/linear_model/_coordinate_descent.py:525: ConvergenceWarning: Objective did not converge. You might want to increase the number of iterations. Duality gap: 3226098.1507841246, tolerance: 1032.5779333333332\n",
      "  model = cd_fast.enet_coordinate_descent_gram(\n",
      "/Users/duru/opt/anaconda3/lib/python3.8/site-packages/sklearn/linear_model/_coordinate_descent.py:525: ConvergenceWarning: Objective did not converge. You might want to increase the number of iterations. Duality gap: 4427968.559825529, tolerance: 1032.5779333333332\n",
      "  model = cd_fast.enet_coordinate_descent_gram(\n",
      "/Users/duru/opt/anaconda3/lib/python3.8/site-packages/sklearn/linear_model/_coordinate_descent.py:525: ConvergenceWarning: Objective did not converge. You might want to increase the number of iterations. Duality gap: 4810442.888468117, tolerance: 1032.5779333333332\n",
      "  model = cd_fast.enet_coordinate_descent_gram(\n"
     ]
    },
    {
     "data": {
      "text/plain": [
       "LassoCV(alphas=array([1.e-06, 1.e-05, 1.e-04, 1.e-03, 1.e-02, 1.e-01, 1.e+00, 1.e+01,\n",
       "       1.e+02, 1.e+03, 1.e+04, 1.e+05, 1.e+06]),\n",
       "        cv=5, random_state=0)"
      ]
     },
     "execution_count": 171,
     "metadata": {},
     "output_type": "execute_result"
    }
   ],
   "source": [
    "from sklearn.linear_model import LassoCV\n",
    "la = LassoCV(cv=5, random_state=0, alphas=np.logspace(-6, 6, 13))\n",
    "la.fit(X, y)"
   ]
  },
  {
   "cell_type": "code",
   "execution_count": 172,
   "metadata": {
    "ExecuteTime": {
     "end_time": "2021-05-19T10:05:34.904055Z",
     "start_time": "2021-05-19T10:05:34.893748Z"
    }
   },
   "outputs": [
    {
     "name": "stdout",
     "output_type": "stream",
     "text": [
      "mse: 1724.8951044199403\n",
      "r2: 0.009428928807126868\n"
     ]
    }
   ],
   "source": [
    "y_pred = la.predict(X_test)\n",
    "print('mse:', mse(y_test, y_pred))\n",
    "print('r2:', r2(y_test, y_pred))"
   ]
  },
  {
   "cell_type": "markdown",
   "metadata": {},
   "source": [
    "## random forest"
   ]
  },
  {
   "cell_type": "code",
   "execution_count": 173,
   "metadata": {
    "ExecuteTime": {
     "end_time": "2021-05-19T10:06:55.598437Z",
     "start_time": "2021-05-19T10:05:58.497705Z"
    }
   },
   "outputs": [
    {
     "data": {
      "text/plain": [
       "RandomForestRegressor(max_depth=5)"
      ]
     },
     "execution_count": 173,
     "metadata": {},
     "output_type": "execute_result"
    }
   ],
   "source": [
    "from sklearn.ensemble import RandomForestRegressor\n",
    "rf = RandomForestRegressor(max_depth=5)\n",
    "rf.fit(X_train, y_train)"
   ]
  },
  {
   "cell_type": "code",
   "execution_count": 174,
   "metadata": {
    "ExecuteTime": {
     "end_time": "2021-05-19T10:07:40.975142Z",
     "start_time": "2021-05-19T10:07:40.919045Z"
    }
   },
   "outputs": [
    {
     "name": "stdout",
     "output_type": "stream",
     "text": [
      "mse: 1724.3932187599962\n",
      "r2: 0.00971715121236949\n"
     ]
    }
   ],
   "source": [
    "y_pred = rf.predict(X_test)\n",
    "print('mse:', mse(y_test, y_pred))\n",
    "print('r2:', r2(y_test, y_pred))"
   ]
  },
  {
   "cell_type": "markdown",
   "metadata": {
    "ExecuteTime": {
     "end_time": "2021-05-17T16:38:28.006428Z",
     "start_time": "2021-05-17T16:35:28.510355Z"
    }
   },
   "source": [
    "```python\n",
    "from sklearn.ensemble import RandomForestRegressor\n",
    "rf = RandomForestRegressor()\n",
    "params = {\n",
    "    'n_estimators': [100, 150, 200],\n",
    "    'max_depth': [3, 5, 7],\n",
    "    'min_samples_split': [2, 4, 6, 10]\n",
    "}\n",
    "model_rf = GridSearchCV(rf, params)\n",
    "model_rf.fit(X, y)\n",
    "y_pred = model_rf.predict(X_test)\n",
    "print('mse:', mse(y_test, y_pred))\n",
    "print('r2:', r2(y_test, y_pred))\n",
    "```"
   ]
  },
  {
   "cell_type": "markdown",
   "metadata": {},
   "source": [
    "## Adaboost"
   ]
  },
  {
   "cell_type": "code",
   "execution_count": 175,
   "metadata": {
    "ExecuteTime": {
     "end_time": "2021-05-19T10:07:48.945669Z",
     "start_time": "2021-05-19T10:07:45.563690Z"
    }
   },
   "outputs": [
    {
     "data": {
      "text/plain": [
       "AdaBoostRegressor()"
      ]
     },
     "execution_count": 175,
     "metadata": {},
     "output_type": "execute_result"
    }
   ],
   "source": [
    "from sklearn.ensemble import AdaBoostRegressor\n",
    "ad = AdaBoostRegressor()\n",
    "ad.fit(X_train, y_train)"
   ]
  },
  {
   "cell_type": "code",
   "execution_count": 176,
   "metadata": {
    "ExecuteTime": {
     "end_time": "2021-05-19T10:07:50.544872Z",
     "start_time": "2021-05-19T10:07:50.524842Z"
    },
    "scrolled": true
   },
   "outputs": [
    {
     "name": "stdout",
     "output_type": "stream",
     "text": [
      "mse: 1746.1692547979424\n",
      "r2: -0.002788369435911875\n"
     ]
    }
   ],
   "source": [
    "y_pred = ad.predict(X_test)\n",
    "print('mse:', mse(y_test, y_pred))\n",
    "print('r2:', r2(y_test, y_pred))"
   ]
  },
  {
   "cell_type": "markdown",
   "metadata": {},
   "source": [
    "```python\n",
    "from sklearn.ensemble import AdaBoostRegressor\n",
    "ad = AdaBoostRegressor()\n",
    "params = {\n",
    "    'n_estimators': [50, 100], \n",
    "    'learning_rate': [0.01, 0.05, 0.1, 0.3, 1.0], \n",
    "    'loss': ['linear', 'square', 'exponential']\n",
    "}\n",
    "model_ad = GridSearchCV(ad, params)\n",
    "model_ad.fit(X, y)\n",
    "y_pred = model_ad.predict(X_test)\n",
    "print('mse:', mse(y_test, y_pred))\n",
    "print('r2:', r2(y_test, y_pred))\n",
    "```"
   ]
  },
  {
   "cell_type": "markdown",
   "metadata": {},
   "source": [
    "## LightGBM"
   ]
  },
  {
   "cell_type": "code",
   "execution_count": 177,
   "metadata": {
    "ExecuteTime": {
     "end_time": "2021-05-19T10:07:56.284876Z",
     "start_time": "2021-05-19T10:07:53.057341Z"
    }
   },
   "outputs": [
    {
     "data": {
      "text/plain": [
       "LGBMRegressor()"
      ]
     },
     "execution_count": 177,
     "metadata": {},
     "output_type": "execute_result"
    }
   ],
   "source": [
    "from lightgbm import LGBMRegressor\n",
    "lgbm = LGBMRegressor()\n",
    "lgbm.fit(X_train, y_train)"
   ]
  },
  {
   "cell_type": "code",
   "execution_count": 178,
   "metadata": {
    "ExecuteTime": {
     "end_time": "2021-05-19T10:07:57.669708Z",
     "start_time": "2021-05-19T10:07:57.640634Z"
    }
   },
   "outputs": [
    {
     "name": "stdout",
     "output_type": "stream",
     "text": [
      "mse: 1771.045396175346\n",
      "r2: -0.01707421554227362\n"
     ]
    }
   ],
   "source": [
    "y_pred = lgbm.predict(X_test)\n",
    "print('mse:', mse(y_test, y_pred))\n",
    "print('r2:', r2(y_test, y_pred))"
   ]
  },
  {
   "cell_type": "markdown",
   "metadata": {
    "ExecuteTime": {
     "end_time": "2021-05-17T16:16:26.244930Z",
     "start_time": "2021-05-17T16:16:19.520259Z"
    }
   },
   "source": [
    "```python\n",
    "from lightgbm import LGBMRegressor\n",
    "lgbm = LGBMRegressor()\n",
    "params = {\n",
    "    'learning_rate': [0.01, 0.05, 0.1, 0.3, 1.0], \n",
    "    'n_estimators': [100, 150, 200], \n",
    "    'max_depth': [3, 5, 7]\n",
    "}\n",
    "model_lgbm = GridSearchCV(lgbm, params)\n",
    "model_lgbm.fit(X, y)\n",
    "y_pred = model_lgbm.predict(X_test)\n",
    "print('mse:', mse(y_test, y_pred))\n",
    "print('r2:', r2(y_test, y_pred))\n",
    "```"
   ]
  },
  {
   "cell_type": "markdown",
   "metadata": {},
   "source": [
    "## xgboost"
   ]
  },
  {
   "cell_type": "code",
   "execution_count": 179,
   "metadata": {
    "ExecuteTime": {
     "end_time": "2021-05-19T10:08:43.095087Z",
     "start_time": "2021-05-19T10:08:18.558732Z"
    }
   },
   "outputs": [
    {
     "data": {
      "text/plain": [
       "XGBRegressor(base_score=0.5, booster='gbtree', colsample_bylevel=1,\n",
       "             colsample_bynode=1, colsample_bytree=1, gamma=0, gpu_id=-1,\n",
       "             importance_type='gain', interaction_constraints='',\n",
       "             learning_rate=0.300000012, max_delta_step=0, max_depth=6,\n",
       "             min_child_weight=1, missing=nan, monotone_constraints='()',\n",
       "             n_estimators=100, n_jobs=4, num_parallel_tree=1, random_state=0,\n",
       "             reg_alpha=0, reg_lambda=1, scale_pos_weight=1, subsample=1,\n",
       "             tree_method='exact', validate_parameters=1, verbosity=None)"
      ]
     },
     "execution_count": 179,
     "metadata": {},
     "output_type": "execute_result"
    }
   ],
   "source": [
    "from xgboost import XGBRegressor\n",
    "xgb = XGBRegressor()\n",
    "xgb.fit(X_train, y_train)"
   ]
  },
  {
   "cell_type": "code",
   "execution_count": 180,
   "metadata": {
    "ExecuteTime": {
     "end_time": "2021-05-19T10:08:43.123935Z",
     "start_time": "2021-05-19T10:08:43.099655Z"
    }
   },
   "outputs": [
    {
     "name": "stdout",
     "output_type": "stream",
     "text": [
      "mse: 1934.0980457834132\n",
      "r2: -0.11071193146437586\n"
     ]
    }
   ],
   "source": [
    "y_pred = xgb.predict(X_test)\n",
    "print('mse:', mse(y_test, y_pred))\n",
    "print('r2:', r2(y_test, y_pred))"
   ]
  },
  {
   "cell_type": "markdown",
   "metadata": {
    "ExecuteTime": {
     "end_time": "2021-05-17T16:23:20.377420Z",
     "start_time": "2021-05-17T16:22:50.470611Z"
    }
   },
   "source": [
    "```python\n",
    "from xgboost import XGBRegressor\n",
    "xgb = XGBRegressor()\n",
    "params = {\n",
    "    'booster': ['gbtree', 'gblinear', 'dart'], \n",
    "    'max_depth': [3, 5, 7], \n",
    "    'n_estimators': [100, 150, 200], \n",
    "    'learning_rate': [0.01, 0.05, 0.1, 0.5, 1]}\n",
    "model_xgb = GridSearchCV(xgb, params)\n",
    "model_xgb.fit(X, y)\n",
    "y_pred = model_xgb.predict(X_test)\n",
    "print('mse:', mse(y_test, y_pred))\n",
    "print('r2:', r2(y_test, y_pred))\n",
    "```"
   ]
  },
  {
   "cell_type": "markdown",
   "metadata": {},
   "source": [
    "## SVR"
   ]
  },
  {
   "cell_type": "code",
   "execution_count": 181,
   "metadata": {
    "ExecuteTime": {
     "end_time": "2021-05-19T10:11:26.714584Z",
     "start_time": "2021-05-19T10:11:12.338930Z"
    }
   },
   "outputs": [
    {
     "data": {
      "text/plain": [
       "SVR()"
      ]
     },
     "execution_count": 181,
     "metadata": {},
     "output_type": "execute_result"
    }
   ],
   "source": [
    "from sklearn.svm import SVR\n",
    "svr = SVR()\n",
    "svr.fit(X_train, y_train)"
   ]
  },
  {
   "cell_type": "code",
   "execution_count": 182,
   "metadata": {
    "ExecuteTime": {
     "end_time": "2021-05-19T10:11:30.124172Z",
     "start_time": "2021-05-19T10:11:26.720761Z"
    }
   },
   "outputs": [
    {
     "name": "stdout",
     "output_type": "stream",
     "text": [
      "mse: 1736.6987192324455\n",
      "r2: 0.0026503604531380454\n"
     ]
    }
   ],
   "source": [
    "y_pred = svr.predict(X_test)\n",
    "print('mse:', mse(y_test, y_pred))\n",
    "print('r2:', r2(y_test, y_pred))"
   ]
  },
  {
   "cell_type": "markdown",
   "metadata": {},
   "source": [
    "# Stacking"
   ]
  },
  {
   "cell_type": "markdown",
   "metadata": {},
   "source": [
    "## argmax"
   ]
  },
  {
   "cell_type": "code",
   "execution_count": 79,
   "metadata": {
    "ExecuteTime": {
     "end_time": "2021-05-22T16:28:58.566037Z",
     "start_time": "2021-05-22T16:28:58.556496Z"
    }
   },
   "outputs": [
    {
     "data": {
      "text/plain": [
       "((6128, 276), (6128,), (1533, 276), (1533,))"
      ]
     },
     "execution_count": 79,
     "metadata": {},
     "output_type": "execute_result"
    }
   ],
   "source": [
    "X_train.shape, y_argmax_train.shape, X_test.shape, y_argmax_test.shape"
   ]
  },
  {
   "cell_type": "code",
   "execution_count": 92,
   "metadata": {
    "ExecuteTime": {
     "end_time": "2021-05-22T16:34:40.305625Z",
     "start_time": "2021-05-22T16:34:40.296235Z"
    }
   },
   "outputs": [],
   "source": [
    "from sklearn.model_selection import KFold\n",
    "def get_stacking_data(model, X_train, y_train, X_test, n_folds=5):\n",
    "    kfold = KFold(n_splits=n_folds, shuffle=False)\n",
    "    \n",
    "    # 초기화\n",
    "    train_fold_pred = np.zeros((X_train.shape[0], 1))\n",
    "    test_pred = np.zeros((X_test.shape[0], n_folds))\n",
    "    print(f'model: {model.__class__.__name__}')\n",
    "    \n",
    "    for idx, (train_idx, valid_idx) in enumerate(kfold.split(X_train)):\n",
    "        X_train_ = X_train[train_idx]\n",
    "        y_train_ = y_train[train_idx]\n",
    "        X_val_ = X_train[valid_idx]\n",
    "        \n",
    "        model.fit(X_train_, y_train_)\n",
    "        \n",
    "        train_fold_pred[valid_idx, :] = model.predict(X_val_).reshape(-1, 1)\n",
    "        test_pred[:, idx] = model.predict(X_test)\n",
    "\n",
    "    test_pred_mean = np.mean(test_pred, axis=1).reshape(-1, 1)\n",
    "    \n",
    "    return train_fold_pred, test_pred_mean    "
   ]
  },
  {
   "cell_type": "code",
   "execution_count": 82,
   "metadata": {
    "ExecuteTime": {
     "end_time": "2021-05-22T16:31:20.767968Z",
     "start_time": "2021-05-22T16:29:46.008021Z"
    }
   },
   "outputs": [
    {
     "name": "stdout",
     "output_type": "stream",
     "text": [
      "model: Ridge\n",
      "model: Lasso\n",
      "model: AdaBoostRegressor\n",
      "model: SVR\n",
      "CPU times: user 1min 32s, sys: 1.78 s, total: 1min 34s\n",
      "Wall time: 1min 34s\n"
     ]
    }
   ],
   "source": [
    "%%time\n",
    "from sklearn.linear_model import Ridge, Lasso\n",
    "# from sklearn.ensemble import RandomForestRegressor # 너무 오래 걸림 \n",
    "from sklearn.ensemble import AdaBoostRegressor\n",
    "from sklearn.svm import SVR\n",
    "\n",
    "ridge_train, ridge_test = get_stacking_data(Ridge(alpha=10), X_train, y_argmax_train, X_test)\n",
    "lasso_train, lasso_test = get_stacking_data(Lasso(alpha=0.01), X_train, y_argmax_train, X_test)\n",
    "adboost_train, adboost_test = get_stacking_data(AdaBoostRegressor(), X_train, y_argmax_train, X_test)\n",
    "# rf_train, rf_test = get_stacking_data(RandomForestRegressor(), X_train, y_argmax_train, X_test)\n",
    "svm_train, svm_test = get_stacking_data(SVR(), X_train, y_argmax_train, X_test)"
   ]
  },
  {
   "cell_type": "code",
   "execution_count": 84,
   "metadata": {
    "ExecuteTime": {
     "end_time": "2021-05-22T16:31:26.866616Z",
     "start_time": "2021-05-22T16:31:26.858793Z"
    }
   },
   "outputs": [
    {
     "data": {
      "text/plain": [
       "((6128, 4), (1533, 4))"
      ]
     },
     "execution_count": 84,
     "metadata": {},
     "output_type": "execute_result"
    }
   ],
   "source": [
    "new_X_train = np.concatenate((\n",
    "    ridge_train, \n",
    "    lasso_train, \n",
    "    adboost_train, \n",
    "#     rf_train, \n",
    "    svm_train\n",
    "), axis=1)\n",
    "new_X_test = np.concatenate((\n",
    "    ridge_test, \n",
    "    lasso_test, \n",
    "    adboost_test, \n",
    "#     rf_test, \n",
    "    svm_test\n",
    "), axis=1)\n",
    "new_X_train.shape, new_X_test.shape"
   ]
  },
  {
   "cell_type": "code",
   "execution_count": 85,
   "metadata": {
    "ExecuteTime": {
     "end_time": "2021-05-22T16:31:31.515494Z",
     "start_time": "2021-05-22T16:31:31.355468Z"
    }
   },
   "outputs": [
    {
     "data": {
      "text/plain": [
       "LGBMRegressor()"
      ]
     },
     "execution_count": 85,
     "metadata": {},
     "output_type": "execute_result"
    }
   ],
   "source": [
    "from lightgbm import LGBMRegressor\n",
    "lgbm_argmax = LGBMRegressor()\n",
    "lgbm_argmax.fit(new_X_train, y_argmax_train)"
   ]
  },
  {
   "cell_type": "code",
   "execution_count": 87,
   "metadata": {
    "ExecuteTime": {
     "end_time": "2021-05-22T16:32:13.067505Z",
     "start_time": "2021-05-22T16:32:13.035366Z"
    }
   },
   "outputs": [
    {
     "name": "stdout",
     "output_type": "stream",
     "text": [
      "mse: 1833.0306570938758\n",
      "r2: -0.05267105047380172\n"
     ]
    }
   ],
   "source": [
    "from sklearn.metrics import mean_squared_error as mse\n",
    "from sklearn.metrics import r2_score as r2\n",
    "\n",
    "y_pred = lgbm_argmax.predict(new_X_test)\n",
    "print('mse:', mse(y_argmax_test, y_pred))\n",
    "print('r2:', r2(y_argmax_test, y_pred))"
   ]
  },
  {
   "cell_type": "markdown",
   "metadata": {},
   "source": [
    "## max"
   ]
  },
  {
   "cell_type": "code",
   "execution_count": 88,
   "metadata": {
    "ExecuteTime": {
     "end_time": "2021-05-22T16:32:44.810479Z",
     "start_time": "2021-05-22T16:32:44.801992Z"
    }
   },
   "outputs": [
    {
     "data": {
      "text/plain": [
       "((6128, 276), (6128,), (1533, 276), (1533,))"
      ]
     },
     "execution_count": 88,
     "metadata": {},
     "output_type": "execute_result"
    }
   ],
   "source": [
    "X_train.shape, y_max_train.shape, X_test.shape, y_max_test.shape"
   ]
  },
  {
   "cell_type": "code",
   "execution_count": 94,
   "metadata": {
    "ExecuteTime": {
     "end_time": "2021-05-22T16:36:23.877409Z",
     "start_time": "2021-05-22T16:35:19.979760Z"
    }
   },
   "outputs": [
    {
     "name": "stdout",
     "output_type": "stream",
     "text": [
      "model: Ridge\n",
      "model: Lasso\n",
      "model: AdaBoostRegressor\n",
      "model: SVR\n",
      "CPU times: user 1min, sys: 1.2 s, total: 1min 1s\n",
      "Wall time: 1min 3s\n"
     ]
    }
   ],
   "source": [
    "%%time\n",
    "from sklearn.linear_model import Ridge, Lasso\n",
    "# from sklearn.ensemble import RandomForestRegressor # 너무 오래 걸림 \n",
    "from sklearn.ensemble import AdaBoostRegressor\n",
    "from sklearn.svm import SVR\n",
    "\n",
    "ridge_train, ridge_test = get_stacking_data(Ridge(alpha=10), X_train, y_max_train, X_test)\n",
    "lasso_train, lasso_test = get_stacking_data(Lasso(alpha=0.01), X_train, y_max_train, X_test)\n",
    "adboost_train, adboost_test = get_stacking_data(AdaBoostRegressor(), X_train, y_max_train, X_test)\n",
    "# rf_train, rf_test = get_stacking_data(RandomForestRegressor(), X_train, y_max_train, X_test)\n",
    "svm_train, svm_test = get_stacking_data(SVR(), X_train, y_max_train, X_test)"
   ]
  },
  {
   "cell_type": "code",
   "execution_count": 95,
   "metadata": {
    "ExecuteTime": {
     "end_time": "2021-05-22T16:36:35.706428Z",
     "start_time": "2021-05-22T16:36:35.693284Z"
    }
   },
   "outputs": [
    {
     "data": {
      "text/plain": [
       "((6128, 4), (1533, 4))"
      ]
     },
     "execution_count": 95,
     "metadata": {},
     "output_type": "execute_result"
    }
   ],
   "source": [
    "max_X_train = np.concatenate((\n",
    "    ridge_train, \n",
    "    lasso_train, \n",
    "    adboost_train, \n",
    "#     rf_train, \n",
    "    svm_train\n",
    "), axis=1)\n",
    "max_X_test = np.concatenate((\n",
    "    ridge_test, \n",
    "    lasso_test, \n",
    "    adboost_test, \n",
    "#     rf_test, \n",
    "    svm_test\n",
    "), axis=1)\n",
    "max_X_train.shape, max_X_test.shape"
   ]
  },
  {
   "cell_type": "code",
   "execution_count": 96,
   "metadata": {
    "ExecuteTime": {
     "end_time": "2021-05-22T16:36:37.688828Z",
     "start_time": "2021-05-22T16:36:37.555105Z"
    }
   },
   "outputs": [
    {
     "data": {
      "text/plain": [
       "LGBMRegressor()"
      ]
     },
     "execution_count": 96,
     "metadata": {},
     "output_type": "execute_result"
    }
   ],
   "source": [
    "from lightgbm import LGBMRegressor\n",
    "lgbm_max = LGBMRegressor()\n",
    "lgbm_max.fit(max_X_train, y_max_train)"
   ]
  },
  {
   "cell_type": "code",
   "execution_count": 97,
   "metadata": {
    "ExecuteTime": {
     "end_time": "2021-05-22T16:36:39.037139Z",
     "start_time": "2021-05-22T16:36:38.993570Z"
    }
   },
   "outputs": [
    {
     "name": "stdout",
     "output_type": "stream",
     "text": [
      "mse: 0.00018767434094777395\n",
      "r2: 0.07082748356189272\n"
     ]
    }
   ],
   "source": [
    "from sklearn.metrics import mean_squared_error as mse\n",
    "from sklearn.metrics import r2_score as r2\n",
    "\n",
    "y_pred = lgbm_max.predict(max_X_test)\n",
    "print('mse:', mse(y_max_test, y_pred))\n",
    "print('r2:', r2(y_max_test, y_pred))"
   ]
  },
  {
   "cell_type": "markdown",
   "metadata": {},
   "source": [
    "# 데이터 전체"
   ]
  },
  {
   "cell_type": "code",
   "execution_count": 106,
   "metadata": {
    "ExecuteTime": {
     "end_time": "2021-05-22T16:44:14.680440Z",
     "start_time": "2021-05-22T16:44:13.652669Z"
    }
   },
   "outputs": [
    {
     "data": {
      "text/plain": [
       "(535, 276)"
      ]
     },
     "execution_count": 106,
     "metadata": {},
     "output_type": "execute_result"
    }
   ],
   "source": [
    "X_test = test_x_array[:, :, [0]]\n",
    "X_test = np.array(list(map(get_avg_5, X_test)))\n",
    "X_test.shape"
   ]
  },
  {
   "cell_type": "code",
   "execution_count": 110,
   "metadata": {
    "ExecuteTime": {
     "end_time": "2021-05-22T16:48:20.970740Z",
     "start_time": "2021-05-22T16:46:10.200748Z"
    }
   },
   "outputs": [
    {
     "name": "stdout",
     "output_type": "stream",
     "text": [
      "model: Ridge\n",
      "model: Lasso\n",
      "model: AdaBoostRegressor\n",
      "model: SVR\n",
      "CPU times: user 2min 4s, sys: 2.57 s, total: 2min 6s\n",
      "Wall time: 2min 10s\n"
     ]
    }
   ],
   "source": [
    "%%time\n",
    "from sklearn.linear_model import Ridge, Lasso\n",
    "from sklearn.ensemble import AdaBoostRegressor\n",
    "from sklearn.svm import SVR\n",
    "\n",
    "ridge_train, ridge_test = get_stacking_data(Ridge(alpha=10), X, y_argmax, X_test)\n",
    "lasso_train, lasso_test = get_stacking_data(Lasso(alpha=0.01), X, y_argmax, X_test)\n",
    "adboost_train, adboost_test = get_stacking_data(AdaBoostRegressor(), X, y_argmax, X_test)\n",
    "svm_train, svm_test = get_stacking_data(SVR(), X, y_argmax, X_test)"
   ]
  },
  {
   "cell_type": "code",
   "execution_count": 111,
   "metadata": {
    "ExecuteTime": {
     "end_time": "2021-05-22T16:48:57.223810Z",
     "start_time": "2021-05-22T16:48:57.208643Z"
    }
   },
   "outputs": [
    {
     "data": {
      "text/plain": [
       "((7661, 4), (535, 4))"
      ]
     },
     "execution_count": 111,
     "metadata": {},
     "output_type": "execute_result"
    }
   ],
   "source": [
    "argmax_X_train = np.concatenate((\n",
    "    ridge_train, \n",
    "    lasso_train, \n",
    "    adboost_train, \n",
    "    svm_train\n",
    "), axis=1)\n",
    "argmax_X_test = np.concatenate((\n",
    "    ridge_test, \n",
    "    lasso_test, \n",
    "    adboost_test, \n",
    "    svm_test\n",
    "), axis=1)\n",
    "argmax_X_train.shape, argmax_X_test.shape"
   ]
  },
  {
   "cell_type": "code",
   "execution_count": 113,
   "metadata": {
    "ExecuteTime": {
     "end_time": "2021-05-22T16:49:51.838388Z",
     "start_time": "2021-05-22T16:49:51.660461Z"
    }
   },
   "outputs": [
    {
     "data": {
      "text/plain": [
       "LGBMRegressor()"
      ]
     },
     "execution_count": 113,
     "metadata": {},
     "output_type": "execute_result"
    }
   ],
   "source": [
    "from lightgbm import LGBMRegressor\n",
    "lgbm_argmax = LGBMRegressor()\n",
    "lgbm_argmax.fit(argmax_X_train, y_argmax)"
   ]
  },
  {
   "cell_type": "code",
   "execution_count": 114,
   "metadata": {
    "ExecuteTime": {
     "end_time": "2021-05-22T16:50:18.527236Z",
     "start_time": "2021-05-22T16:50:18.507491Z"
    }
   },
   "outputs": [
    {
     "data": {
      "text/plain": [
       "(535,)"
      ]
     },
     "execution_count": 114,
     "metadata": {},
     "output_type": "execute_result"
    }
   ],
   "source": [
    "y_argmax_pred = lgbm_argmax.predict(argmax_X_test)\n",
    "y_argmax_pred.shape"
   ]
  },
  {
   "cell_type": "markdown",
   "metadata": {},
   "source": [
    "-------"
   ]
  },
  {
   "cell_type": "code",
   "execution_count": 115,
   "metadata": {
    "ExecuteTime": {
     "end_time": "2021-05-22T16:52:00.810149Z",
     "start_time": "2021-05-22T16:50:49.012428Z"
    }
   },
   "outputs": [
    {
     "name": "stdout",
     "output_type": "stream",
     "text": [
      "model: Ridge\n",
      "model: Lasso\n",
      "model: AdaBoostRegressor\n",
      "model: SVR\n",
      "CPU times: user 1min 9s, sys: 1.28 s, total: 1min 10s\n",
      "Wall time: 1min 11s\n"
     ]
    }
   ],
   "source": [
    "%%time\n",
    "from sklearn.linear_model import Ridge, Lasso\n",
    "from sklearn.ensemble import AdaBoostRegressor\n",
    "from sklearn.svm import SVR\n",
    "\n",
    "ridge_train, ridge_test = get_stacking_data(Ridge(alpha=10), X, y_max, X_test)\n",
    "lasso_train, lasso_test = get_stacking_data(Lasso(alpha=0.01), X, y_max, X_test)\n",
    "adboost_train, adboost_test = get_stacking_data(AdaBoostRegressor(), X, y_max, X_test)\n",
    "svm_train, svm_test = get_stacking_data(SVR(), X, y_max, X_test)"
   ]
  },
  {
   "cell_type": "code",
   "execution_count": 116,
   "metadata": {
    "ExecuteTime": {
     "end_time": "2021-05-22T16:52:09.479935Z",
     "start_time": "2021-05-22T16:52:09.468347Z"
    }
   },
   "outputs": [
    {
     "data": {
      "text/plain": [
       "((7661, 4), (535, 4))"
      ]
     },
     "execution_count": 116,
     "metadata": {},
     "output_type": "execute_result"
    }
   ],
   "source": [
    "max_X_train = np.concatenate((\n",
    "    ridge_train, \n",
    "    lasso_train, \n",
    "    adboost_train, \n",
    "    svm_train\n",
    "), axis=1)\n",
    "max_X_test = np.concatenate((\n",
    "    ridge_test, \n",
    "    lasso_test, \n",
    "    adboost_test, \n",
    "    svm_test\n",
    "), axis=1)\n",
    "max_X_train.shape, max_X_test.shape"
   ]
  },
  {
   "cell_type": "code",
   "execution_count": 117,
   "metadata": {
    "ExecuteTime": {
     "end_time": "2021-05-22T16:52:10.813873Z",
     "start_time": "2021-05-22T16:52:10.658624Z"
    }
   },
   "outputs": [
    {
     "data": {
      "text/plain": [
       "LGBMRegressor()"
      ]
     },
     "execution_count": 117,
     "metadata": {},
     "output_type": "execute_result"
    }
   ],
   "source": [
    "from lightgbm import LGBMRegressor\n",
    "lgbm_max = LGBMRegressor()\n",
    "lgbm_max.fit(max_X_train, y_max)"
   ]
  },
  {
   "cell_type": "code",
   "execution_count": 118,
   "metadata": {
    "ExecuteTime": {
     "end_time": "2021-05-22T16:52:11.925820Z",
     "start_time": "2021-05-22T16:52:11.908248Z"
    }
   },
   "outputs": [
    {
     "data": {
      "text/plain": [
       "(535,)"
      ]
     },
     "execution_count": 118,
     "metadata": {},
     "output_type": "execute_result"
    }
   ],
   "source": [
    "y_max_pred = lgbm_max.predict(max_X_test)\n",
    "y_max_pred.shape"
   ]
  },
  {
   "cell_type": "markdown",
   "metadata": {},
   "source": [
    "## 제출 파일 만들기"
   ]
  },
  {
   "cell_type": "code",
   "execution_count": 149,
   "metadata": {
    "ExecuteTime": {
     "end_time": "2021-05-22T17:05:47.675708Z",
     "start_time": "2021-05-22T17:05:47.646312Z"
    }
   },
   "outputs": [
    {
     "data": {
      "text/html": [
       "<div>\n",
       "<style scoped>\n",
       "    .dataframe tbody tr th:only-of-type {\n",
       "        vertical-align: middle;\n",
       "    }\n",
       "\n",
       "    .dataframe tbody tr th {\n",
       "        vertical-align: top;\n",
       "    }\n",
       "\n",
       "    .dataframe thead th {\n",
       "        text-align: right;\n",
       "    }\n",
       "</style>\n",
       "<table border=\"1\" class=\"dataframe\">\n",
       "  <thead>\n",
       "    <tr style=\"text-align: right;\">\n",
       "      <th></th>\n",
       "      <th>sample_id</th>\n",
       "      <th>buy_quantity</th>\n",
       "      <th>sell_time</th>\n",
       "    </tr>\n",
       "  </thead>\n",
       "  <tbody>\n",
       "    <tr>\n",
       "      <th>0</th>\n",
       "      <td>0</td>\n",
       "      <td>0</td>\n",
       "      <td>0</td>\n",
       "    </tr>\n",
       "    <tr>\n",
       "      <th>1</th>\n",
       "      <td>1</td>\n",
       "      <td>0</td>\n",
       "      <td>0</td>\n",
       "    </tr>\n",
       "    <tr>\n",
       "      <th>2</th>\n",
       "      <td>2</td>\n",
       "      <td>0</td>\n",
       "      <td>0</td>\n",
       "    </tr>\n",
       "    <tr>\n",
       "      <th>3</th>\n",
       "      <td>3</td>\n",
       "      <td>0</td>\n",
       "      <td>0</td>\n",
       "    </tr>\n",
       "    <tr>\n",
       "      <th>4</th>\n",
       "      <td>4</td>\n",
       "      <td>0</td>\n",
       "      <td>0</td>\n",
       "    </tr>\n",
       "    <tr>\n",
       "      <th>...</th>\n",
       "      <td>...</td>\n",
       "      <td>...</td>\n",
       "      <td>...</td>\n",
       "    </tr>\n",
       "    <tr>\n",
       "      <th>530</th>\n",
       "      <td>530</td>\n",
       "      <td>0</td>\n",
       "      <td>0</td>\n",
       "    </tr>\n",
       "    <tr>\n",
       "      <th>531</th>\n",
       "      <td>531</td>\n",
       "      <td>0</td>\n",
       "      <td>0</td>\n",
       "    </tr>\n",
       "    <tr>\n",
       "      <th>532</th>\n",
       "      <td>532</td>\n",
       "      <td>0</td>\n",
       "      <td>0</td>\n",
       "    </tr>\n",
       "    <tr>\n",
       "      <th>533</th>\n",
       "      <td>533</td>\n",
       "      <td>0</td>\n",
       "      <td>0</td>\n",
       "    </tr>\n",
       "    <tr>\n",
       "      <th>534</th>\n",
       "      <td>534</td>\n",
       "      <td>0</td>\n",
       "      <td>0</td>\n",
       "    </tr>\n",
       "  </tbody>\n",
       "</table>\n",
       "<p>535 rows × 3 columns</p>\n",
       "</div>"
      ],
      "text/plain": [
       "     sample_id  buy_quantity  sell_time\n",
       "0            0             0          0\n",
       "1            1             0          0\n",
       "2            2             0          0\n",
       "3            3             0          0\n",
       "4            4             0          0\n",
       "..         ...           ...        ...\n",
       "530        530             0          0\n",
       "531        531             0          0\n",
       "532        532             0          0\n",
       "533        533             0          0\n",
       "534        534             0          0\n",
       "\n",
       "[535 rows x 3 columns]"
      ]
     },
     "execution_count": 149,
     "metadata": {},
     "output_type": "execute_result"
    }
   ],
   "source": [
    "submission = pd.DataFrame(np.zeros([max_X_test.shape[0],2], np.int64),\n",
    "                columns = ['buy_quantity', 'sell_time'])\n",
    "submission = submission.reset_index()\n",
    "submission.columns = ['sample_id','buy_quantity', 'sell_time']\n",
    "submission"
   ]
  },
  {
   "cell_type": "code",
   "execution_count": 150,
   "metadata": {
    "ExecuteTime": {
     "end_time": "2021-05-22T17:05:48.574409Z",
     "start_time": "2021-05-22T17:05:48.543878Z"
    }
   },
   "outputs": [
    {
     "data": {
      "text/html": [
       "<div>\n",
       "<style scoped>\n",
       "    .dataframe tbody tr th:only-of-type {\n",
       "        vertical-align: middle;\n",
       "    }\n",
       "\n",
       "    .dataframe tbody tr th {\n",
       "        vertical-align: top;\n",
       "    }\n",
       "\n",
       "    .dataframe thead th {\n",
       "        text-align: right;\n",
       "    }\n",
       "</style>\n",
       "<table border=\"1\" class=\"dataframe\">\n",
       "  <thead>\n",
       "    <tr style=\"text-align: right;\">\n",
       "      <th></th>\n",
       "      <th>sample_id</th>\n",
       "      <th>buy_quantity</th>\n",
       "      <th>sell_time</th>\n",
       "    </tr>\n",
       "  </thead>\n",
       "  <tbody>\n",
       "    <tr>\n",
       "      <th>0</th>\n",
       "      <td>0</td>\n",
       "      <td>0</td>\n",
       "      <td>48</td>\n",
       "    </tr>\n",
       "    <tr>\n",
       "      <th>1</th>\n",
       "      <td>1</td>\n",
       "      <td>0</td>\n",
       "      <td>58</td>\n",
       "    </tr>\n",
       "    <tr>\n",
       "      <th>2</th>\n",
       "      <td>2</td>\n",
       "      <td>0</td>\n",
       "      <td>50</td>\n",
       "    </tr>\n",
       "    <tr>\n",
       "      <th>3</th>\n",
       "      <td>3</td>\n",
       "      <td>0</td>\n",
       "      <td>61</td>\n",
       "    </tr>\n",
       "    <tr>\n",
       "      <th>4</th>\n",
       "      <td>4</td>\n",
       "      <td>0</td>\n",
       "      <td>48</td>\n",
       "    </tr>\n",
       "    <tr>\n",
       "      <th>...</th>\n",
       "      <td>...</td>\n",
       "      <td>...</td>\n",
       "      <td>...</td>\n",
       "    </tr>\n",
       "    <tr>\n",
       "      <th>530</th>\n",
       "      <td>530</td>\n",
       "      <td>0</td>\n",
       "      <td>64</td>\n",
       "    </tr>\n",
       "    <tr>\n",
       "      <th>531</th>\n",
       "      <td>531</td>\n",
       "      <td>0</td>\n",
       "      <td>57</td>\n",
       "    </tr>\n",
       "    <tr>\n",
       "      <th>532</th>\n",
       "      <td>532</td>\n",
       "      <td>0</td>\n",
       "      <td>54</td>\n",
       "    </tr>\n",
       "    <tr>\n",
       "      <th>533</th>\n",
       "      <td>533</td>\n",
       "      <td>0</td>\n",
       "      <td>55</td>\n",
       "    </tr>\n",
       "    <tr>\n",
       "      <th>534</th>\n",
       "      <td>534</td>\n",
       "      <td>0</td>\n",
       "      <td>68</td>\n",
       "    </tr>\n",
       "  </tbody>\n",
       "</table>\n",
       "<p>535 rows × 3 columns</p>\n",
       "</div>"
      ],
      "text/plain": [
       "     sample_id  buy_quantity  sell_time\n",
       "0            0             0         48\n",
       "1            1             0         58\n",
       "2            2             0         50\n",
       "3            3             0         61\n",
       "4            4             0         48\n",
       "..         ...           ...        ...\n",
       "530        530             0         64\n",
       "531        531             0         57\n",
       "532        532             0         54\n",
       "533        533             0         55\n",
       "534        534             0         68\n",
       "\n",
       "[535 rows x 3 columns]"
      ]
     },
     "execution_count": 150,
     "metadata": {},
     "output_type": "execute_result"
    }
   ],
   "source": [
    "submission['sell_time'] = list(map(round, y_argmax_pred))\n",
    "submission"
   ]
  },
  {
   "cell_type": "code",
   "execution_count": 161,
   "metadata": {
    "ExecuteTime": {
     "end_time": "2021-05-22T17:08:30.114868Z",
     "start_time": "2021-05-22T17:08:30.085474Z"
    }
   },
   "outputs": [
    {
     "data": {
      "text/html": [
       "<div>\n",
       "<style scoped>\n",
       "    .dataframe tbody tr th:only-of-type {\n",
       "        vertical-align: middle;\n",
       "    }\n",
       "\n",
       "    .dataframe tbody tr th {\n",
       "        vertical-align: top;\n",
       "    }\n",
       "\n",
       "    .dataframe thead th {\n",
       "        text-align: right;\n",
       "    }\n",
       "</style>\n",
       "<table border=\"1\" class=\"dataframe\">\n",
       "  <thead>\n",
       "    <tr style=\"text-align: right;\">\n",
       "      <th></th>\n",
       "      <th>sample_id</th>\n",
       "      <th>buy_quantity</th>\n",
       "      <th>sell_time</th>\n",
       "    </tr>\n",
       "  </thead>\n",
       "  <tbody>\n",
       "    <tr>\n",
       "      <th>0</th>\n",
       "      <td>7661</td>\n",
       "      <td>0</td>\n",
       "      <td>48</td>\n",
       "    </tr>\n",
       "    <tr>\n",
       "      <th>1</th>\n",
       "      <td>7662</td>\n",
       "      <td>0</td>\n",
       "      <td>58</td>\n",
       "    </tr>\n",
       "    <tr>\n",
       "      <th>2</th>\n",
       "      <td>7663</td>\n",
       "      <td>0</td>\n",
       "      <td>50</td>\n",
       "    </tr>\n",
       "    <tr>\n",
       "      <th>3</th>\n",
       "      <td>7664</td>\n",
       "      <td>1</td>\n",
       "      <td>61</td>\n",
       "    </tr>\n",
       "    <tr>\n",
       "      <th>4</th>\n",
       "      <td>7665</td>\n",
       "      <td>0</td>\n",
       "      <td>48</td>\n",
       "    </tr>\n",
       "    <tr>\n",
       "      <th>...</th>\n",
       "      <td>...</td>\n",
       "      <td>...</td>\n",
       "      <td>...</td>\n",
       "    </tr>\n",
       "    <tr>\n",
       "      <th>530</th>\n",
       "      <td>8191</td>\n",
       "      <td>1</td>\n",
       "      <td>64</td>\n",
       "    </tr>\n",
       "    <tr>\n",
       "      <th>531</th>\n",
       "      <td>8192</td>\n",
       "      <td>0</td>\n",
       "      <td>57</td>\n",
       "    </tr>\n",
       "    <tr>\n",
       "      <th>532</th>\n",
       "      <td>8193</td>\n",
       "      <td>1</td>\n",
       "      <td>54</td>\n",
       "    </tr>\n",
       "    <tr>\n",
       "      <th>533</th>\n",
       "      <td>8194</td>\n",
       "      <td>0</td>\n",
       "      <td>55</td>\n",
       "    </tr>\n",
       "    <tr>\n",
       "      <th>534</th>\n",
       "      <td>8195</td>\n",
       "      <td>0</td>\n",
       "      <td>68</td>\n",
       "    </tr>\n",
       "  </tbody>\n",
       "</table>\n",
       "<p>535 rows × 3 columns</p>\n",
       "</div>"
      ],
      "text/plain": [
       "     sample_id  buy_quantity  sell_time\n",
       "0         7661             0         48\n",
       "1         7662             0         58\n",
       "2         7663             0         50\n",
       "3         7664             1         61\n",
       "4         7665             0         48\n",
       "..         ...           ...        ...\n",
       "530       8191             1         64\n",
       "531       8192             0         57\n",
       "532       8193             1         54\n",
       "533       8194             0         55\n",
       "534       8195             0         68\n",
       "\n",
       "[535 rows x 3 columns]"
      ]
     },
     "execution_count": 161,
     "metadata": {},
     "output_type": "execute_result"
    }
   ],
   "source": [
    "submission['buy_quantity'] = (y_max_pred > 1.009) * 1\n",
    "submission"
   ]
  },
  {
   "cell_type": "code",
   "execution_count": 152,
   "metadata": {
    "ExecuteTime": {
     "end_time": "2021-05-22T17:05:50.742608Z",
     "start_time": "2021-05-22T17:05:50.715407Z"
    }
   },
   "outputs": [
    {
     "data": {
      "text/html": [
       "<div>\n",
       "<style scoped>\n",
       "    .dataframe tbody tr th:only-of-type {\n",
       "        vertical-align: middle;\n",
       "    }\n",
       "\n",
       "    .dataframe tbody tr th {\n",
       "        vertical-align: top;\n",
       "    }\n",
       "\n",
       "    .dataframe thead th {\n",
       "        text-align: right;\n",
       "    }\n",
       "</style>\n",
       "<table border=\"1\" class=\"dataframe\">\n",
       "  <thead>\n",
       "    <tr style=\"text-align: right;\">\n",
       "      <th></th>\n",
       "      <th>sample_id</th>\n",
       "      <th>buy_quantity</th>\n",
       "      <th>sell_time</th>\n",
       "    </tr>\n",
       "  </thead>\n",
       "  <tbody>\n",
       "    <tr>\n",
       "      <th>0</th>\n",
       "      <td>7661</td>\n",
       "      <td>0</td>\n",
       "      <td>48</td>\n",
       "    </tr>\n",
       "    <tr>\n",
       "      <th>1</th>\n",
       "      <td>7662</td>\n",
       "      <td>0</td>\n",
       "      <td>58</td>\n",
       "    </tr>\n",
       "    <tr>\n",
       "      <th>2</th>\n",
       "      <td>7663</td>\n",
       "      <td>0</td>\n",
       "      <td>50</td>\n",
       "    </tr>\n",
       "    <tr>\n",
       "      <th>3</th>\n",
       "      <td>7664</td>\n",
       "      <td>1</td>\n",
       "      <td>61</td>\n",
       "    </tr>\n",
       "    <tr>\n",
       "      <th>4</th>\n",
       "      <td>7665</td>\n",
       "      <td>0</td>\n",
       "      <td>48</td>\n",
       "    </tr>\n",
       "    <tr>\n",
       "      <th>...</th>\n",
       "      <td>...</td>\n",
       "      <td>...</td>\n",
       "      <td>...</td>\n",
       "    </tr>\n",
       "    <tr>\n",
       "      <th>530</th>\n",
       "      <td>8191</td>\n",
       "      <td>1</td>\n",
       "      <td>64</td>\n",
       "    </tr>\n",
       "    <tr>\n",
       "      <th>531</th>\n",
       "      <td>8192</td>\n",
       "      <td>0</td>\n",
       "      <td>57</td>\n",
       "    </tr>\n",
       "    <tr>\n",
       "      <th>532</th>\n",
       "      <td>8193</td>\n",
       "      <td>1</td>\n",
       "      <td>54</td>\n",
       "    </tr>\n",
       "    <tr>\n",
       "      <th>533</th>\n",
       "      <td>8194</td>\n",
       "      <td>0</td>\n",
       "      <td>55</td>\n",
       "    </tr>\n",
       "    <tr>\n",
       "      <th>534</th>\n",
       "      <td>8195</td>\n",
       "      <td>0</td>\n",
       "      <td>68</td>\n",
       "    </tr>\n",
       "  </tbody>\n",
       "</table>\n",
       "<p>535 rows × 3 columns</p>\n",
       "</div>"
      ],
      "text/plain": [
       "     sample_id  buy_quantity  sell_time\n",
       "0         7661             0         48\n",
       "1         7662             0         58\n",
       "2         7663             0         50\n",
       "3         7664             1         61\n",
       "4         7665             0         48\n",
       "..         ...           ...        ...\n",
       "530       8191             1         64\n",
       "531       8192             0         57\n",
       "532       8193             1         54\n",
       "533       8194             0         55\n",
       "534       8195             0         68\n",
       "\n",
       "[535 rows x 3 columns]"
      ]
     },
     "execution_count": 152,
     "metadata": {},
     "output_type": "execute_result"
    }
   ],
   "source": [
    "submission.sample_id = submission.sample_id + test_x_df.sample_id.min()\n",
    "submission"
   ]
  },
  {
   "cell_type": "code",
   "execution_count": 162,
   "metadata": {
    "ExecuteTime": {
     "end_time": "2021-05-22T17:08:42.871287Z",
     "start_time": "2021-05-22T17:08:42.827000Z"
    }
   },
   "outputs": [],
   "source": [
    "submission.to_csv('stacking_submission_v3.csv', index = False)"
   ]
  },
  {
   "cell_type": "code",
   "execution_count": null,
   "metadata": {},
   "outputs": [],
   "source": []
  }
 ],
 "metadata": {
  "kernelspec": {
   "display_name": "Python 3",
   "language": "python",
   "name": "python3"
  },
  "language_info": {
   "codemirror_mode": {
    "name": "ipython",
    "version": 3
   },
   "file_extension": ".py",
   "mimetype": "text/x-python",
   "name": "python",
   "nbconvert_exporter": "python",
   "pygments_lexer": "ipython3",
   "version": "3.8.5"
  },
  "toc": {
   "base_numbering": 1,
   "nav_menu": {},
   "number_sections": true,
   "sideBar": true,
   "skip_h1_title": false,
   "title_cell": "Table of Contents",
   "title_sidebar": "Contents",
   "toc_cell": false,
   "toc_position": {
    "height": "calc(100% - 180px)",
    "left": "10px",
    "top": "150px",
    "width": "248.352px"
   },
   "toc_section_display": true,
   "toc_window_display": true
  }
 },
 "nbformat": 4,
 "nbformat_minor": 4
}
