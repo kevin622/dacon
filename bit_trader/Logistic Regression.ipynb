{
 "cells": [
  {
   "cell_type": "code",
   "execution_count": 1,
   "metadata": {
    "ExecuteTime": {
     "end_time": "2021-05-16T16:16:55.627256Z",
     "start_time": "2021-05-16T16:16:26.982816Z"
    }
   },
   "outputs": [
    {
     "data": {
      "text/html": [
       "<div>\n",
       "<style scoped>\n",
       "    .dataframe tbody tr th:only-of-type {\n",
       "        vertical-align: middle;\n",
       "    }\n",
       "\n",
       "    .dataframe tbody tr th {\n",
       "        vertical-align: top;\n",
       "    }\n",
       "\n",
       "    .dataframe thead th {\n",
       "        text-align: right;\n",
       "    }\n",
       "</style>\n",
       "<table border=\"1\" class=\"dataframe\">\n",
       "  <thead>\n",
       "    <tr style=\"text-align: right;\">\n",
       "      <th></th>\n",
       "      <th>sample_id</th>\n",
       "      <th>time</th>\n",
       "      <th>coin_index</th>\n",
       "      <th>open</th>\n",
       "      <th>high</th>\n",
       "      <th>low</th>\n",
       "      <th>close</th>\n",
       "      <th>volume</th>\n",
       "      <th>quote_av</th>\n",
       "      <th>trades</th>\n",
       "      <th>tb_base_av</th>\n",
       "      <th>tb_quote_av</th>\n",
       "    </tr>\n",
       "  </thead>\n",
       "  <tbody>\n",
       "    <tr>\n",
       "      <th>0</th>\n",
       "      <td>0</td>\n",
       "      <td>0</td>\n",
       "      <td>9</td>\n",
       "      <td>0.983614</td>\n",
       "      <td>0.983614</td>\n",
       "      <td>0.983128</td>\n",
       "      <td>0.983246</td>\n",
       "      <td>0.001334</td>\n",
       "      <td>10.650987</td>\n",
       "      <td>0.009855</td>\n",
       "      <td>0.000848</td>\n",
       "      <td>6.771755</td>\n",
       "    </tr>\n",
       "    <tr>\n",
       "      <th>1</th>\n",
       "      <td>0</td>\n",
       "      <td>1</td>\n",
       "      <td>9</td>\n",
       "      <td>0.983245</td>\n",
       "      <td>0.983612</td>\n",
       "      <td>0.982453</td>\n",
       "      <td>0.982693</td>\n",
       "      <td>0.001425</td>\n",
       "      <td>11.375689</td>\n",
       "      <td>0.016137</td>\n",
       "      <td>0.000697</td>\n",
       "      <td>5.565188</td>\n",
       "    </tr>\n",
       "    <tr>\n",
       "      <th>2</th>\n",
       "      <td>0</td>\n",
       "      <td>2</td>\n",
       "      <td>9</td>\n",
       "      <td>0.982694</td>\n",
       "      <td>0.983612</td>\n",
       "      <td>0.982403</td>\n",
       "      <td>0.983002</td>\n",
       "      <td>0.001542</td>\n",
       "      <td>12.301942</td>\n",
       "      <td>0.014166</td>\n",
       "      <td>0.000905</td>\n",
       "      <td>7.225459</td>\n",
       "    </tr>\n",
       "    <tr>\n",
       "      <th>3</th>\n",
       "      <td>0</td>\n",
       "      <td>3</td>\n",
       "      <td>9</td>\n",
       "      <td>0.983009</td>\n",
       "      <td>0.984848</td>\n",
       "      <td>0.983009</td>\n",
       "      <td>0.984486</td>\n",
       "      <td>0.002520</td>\n",
       "      <td>20.134695</td>\n",
       "      <td>0.021557</td>\n",
       "      <td>0.001171</td>\n",
       "      <td>9.353000</td>\n",
       "    </tr>\n",
       "    <tr>\n",
       "      <th>4</th>\n",
       "      <td>0</td>\n",
       "      <td>4</td>\n",
       "      <td>9</td>\n",
       "      <td>0.984233</td>\n",
       "      <td>0.984606</td>\n",
       "      <td>0.983612</td>\n",
       "      <td>0.984164</td>\n",
       "      <td>0.002818</td>\n",
       "      <td>22.515448</td>\n",
       "      <td>0.021434</td>\n",
       "      <td>0.001799</td>\n",
       "      <td>14.372534</td>\n",
       "    </tr>\n",
       "  </tbody>\n",
       "</table>\n",
       "</div>"
      ],
      "text/plain": [
       "   sample_id  time  coin_index      open      high       low     close  \\\n",
       "0          0     0           9  0.983614  0.983614  0.983128  0.983246   \n",
       "1          0     1           9  0.983245  0.983612  0.982453  0.982693   \n",
       "2          0     2           9  0.982694  0.983612  0.982403  0.983002   \n",
       "3          0     3           9  0.983009  0.984848  0.983009  0.984486   \n",
       "4          0     4           9  0.984233  0.984606  0.983612  0.984164   \n",
       "\n",
       "     volume   quote_av    trades  tb_base_av  tb_quote_av  \n",
       "0  0.001334  10.650987  0.009855    0.000848     6.771755  \n",
       "1  0.001425  11.375689  0.016137    0.000697     5.565188  \n",
       "2  0.001542  12.301942  0.014166    0.000905     7.225459  \n",
       "3  0.002520  20.134695  0.021557    0.001171     9.353000  \n",
       "4  0.002818  22.515448  0.021434    0.001799    14.372534  "
      ]
     },
     "execution_count": 1,
     "metadata": {},
     "output_type": "execute_result"
    }
   ],
   "source": [
    "import pandas as pd\n",
    "train_x_df = pd.read_csv('data/train_x_df.csv')\n",
    "train_y_df = pd.read_csv('data/train_y_df.csv')\n",
    "test_x_df = pd.read_csv('data/test_x_df.csv')\n",
    "train_x_df.head()"
   ]
  },
  {
   "cell_type": "code",
   "execution_count": 2,
   "metadata": {
    "ExecuteTime": {
     "end_time": "2021-05-16T16:16:55.662601Z",
     "start_time": "2021-05-16T16:16:55.633716Z"
    }
   },
   "outputs": [
    {
     "data": {
      "text/html": [
       "<div>\n",
       "<style scoped>\n",
       "    .dataframe tbody tr th:only-of-type {\n",
       "        vertical-align: middle;\n",
       "    }\n",
       "\n",
       "    .dataframe tbody tr th {\n",
       "        vertical-align: top;\n",
       "    }\n",
       "\n",
       "    .dataframe thead th {\n",
       "        text-align: right;\n",
       "    }\n",
       "</style>\n",
       "<table border=\"1\" class=\"dataframe\">\n",
       "  <thead>\n",
       "    <tr style=\"text-align: right;\">\n",
       "      <th></th>\n",
       "      <th>sample_id</th>\n",
       "      <th>time</th>\n",
       "      <th>coin_index</th>\n",
       "      <th>open</th>\n",
       "      <th>high</th>\n",
       "      <th>low</th>\n",
       "      <th>close</th>\n",
       "      <th>volume</th>\n",
       "      <th>quote_av</th>\n",
       "      <th>trades</th>\n",
       "      <th>tb_base_av</th>\n",
       "      <th>tb_quote_av</th>\n",
       "    </tr>\n",
       "  </thead>\n",
       "  <tbody>\n",
       "    <tr>\n",
       "      <th>0</th>\n",
       "      <td>0</td>\n",
       "      <td>0</td>\n",
       "      <td>9</td>\n",
       "      <td>0.999389</td>\n",
       "      <td>0.999630</td>\n",
       "      <td>0.999261</td>\n",
       "      <td>0.999385</td>\n",
       "      <td>0.001187</td>\n",
       "      <td>9.632785</td>\n",
       "      <td>0.012565</td>\n",
       "      <td>0.000605</td>\n",
       "      <td>4.904978</td>\n",
       "    </tr>\n",
       "    <tr>\n",
       "      <th>1</th>\n",
       "      <td>0</td>\n",
       "      <td>1</td>\n",
       "      <td>9</td>\n",
       "      <td>0.999593</td>\n",
       "      <td>1.000000</td>\n",
       "      <td>0.999265</td>\n",
       "      <td>0.999266</td>\n",
       "      <td>0.004197</td>\n",
       "      <td>34.052364</td>\n",
       "      <td>0.020572</td>\n",
       "      <td>0.003014</td>\n",
       "      <td>24.453999</td>\n",
       "    </tr>\n",
       "    <tr>\n",
       "      <th>2</th>\n",
       "      <td>0</td>\n",
       "      <td>2</td>\n",
       "      <td>9</td>\n",
       "      <td>0.999266</td>\n",
       "      <td>0.999618</td>\n",
       "      <td>0.999262</td>\n",
       "      <td>0.999322</td>\n",
       "      <td>0.003942</td>\n",
       "      <td>31.981472</td>\n",
       "      <td>0.016630</td>\n",
       "      <td>0.002967</td>\n",
       "      <td>24.069899</td>\n",
       "    </tr>\n",
       "    <tr>\n",
       "      <th>3</th>\n",
       "      <td>0</td>\n",
       "      <td>3</td>\n",
       "      <td>9</td>\n",
       "      <td>0.999322</td>\n",
       "      <td>0.999388</td>\n",
       "      <td>0.998917</td>\n",
       "      <td>0.999387</td>\n",
       "      <td>0.003663</td>\n",
       "      <td>29.709074</td>\n",
       "      <td>0.019463</td>\n",
       "      <td>0.002362</td>\n",
       "      <td>19.158766</td>\n",
       "    </tr>\n",
       "    <tr>\n",
       "      <th>4</th>\n",
       "      <td>0</td>\n",
       "      <td>4</td>\n",
       "      <td>9</td>\n",
       "      <td>0.999015</td>\n",
       "      <td>0.999015</td>\n",
       "      <td>0.997631</td>\n",
       "      <td>0.998399</td>\n",
       "      <td>0.003266</td>\n",
       "      <td>26.466251</td>\n",
       "      <td>0.030180</td>\n",
       "      <td>0.001533</td>\n",
       "      <td>12.421005</td>\n",
       "    </tr>\n",
       "  </tbody>\n",
       "</table>\n",
       "</div>"
      ],
      "text/plain": [
       "   sample_id  time  coin_index      open      high       low     close  \\\n",
       "0          0     0           9  0.999389  0.999630  0.999261  0.999385   \n",
       "1          0     1           9  0.999593  1.000000  0.999265  0.999266   \n",
       "2          0     2           9  0.999266  0.999618  0.999262  0.999322   \n",
       "3          0     3           9  0.999322  0.999388  0.998917  0.999387   \n",
       "4          0     4           9  0.999015  0.999015  0.997631  0.998399   \n",
       "\n",
       "     volume   quote_av    trades  tb_base_av  tb_quote_av  \n",
       "0  0.001187   9.632785  0.012565    0.000605     4.904978  \n",
       "1  0.004197  34.052364  0.020572    0.003014    24.453999  \n",
       "2  0.003942  31.981472  0.016630    0.002967    24.069899  \n",
       "3  0.003663  29.709074  0.019463    0.002362    19.158766  \n",
       "4  0.003266  26.466251  0.030180    0.001533    12.421005  "
      ]
     },
     "execution_count": 2,
     "metadata": {},
     "output_type": "execute_result"
    }
   ],
   "source": [
    "train_y_df.head()"
   ]
  },
  {
   "cell_type": "code",
   "execution_count": 7,
   "metadata": {
    "ExecuteTime": {
     "end_time": "2021-05-16T16:17:26.385276Z",
     "start_time": "2021-05-16T16:17:25.874733Z"
    }
   },
   "outputs": [
    {
     "data": {
      "image/png": "[encoded data removed]",
      "text/plain": [
       "<Figure size 432x288 with 2 Axes>"
      ]
     },
     "metadata": {
      "needs_background": "light"
     },
     "output_type": "display_data"
    }
   ],
   "source": [
    "import seaborn as sns\n",
    "sns.heatmap(test_x_df.iloc[:, 3:].corr());"
   ]
  },
  {
   "cell_type": "code",
   "execution_count": 9,
   "metadata": {
    "ExecuteTime": {
     "end_time": "2021-05-16T16:21:05.887904Z",
     "start_time": "2021-05-16T16:21:00.762076Z"
    }
   },
   "outputs": [
    {
     "name": "stdout",
     "output_type": "stream",
     "text": [
      "\n",
      "These shape stands for (sample_size, time_step, feature)\n",
      "train_x_array (7661, 1380, 9)\n",
      "train_y_array (7661, 120, 9)\n",
      "test_x_array (535, 1380, 9)\n",
      "\n"
     ]
    }
   ],
   "source": [
    "import numpy as np\n",
    "def df2d_to_array3d(df_2d):\n",
    "    feature_size = len(df_2d.columns[3:]) # 9\n",
    "    time_size = len(df_2d.time.unique()) # x는 1380, y는 120\n",
    "    sample_size = len(df_2d.sample_id.unique()) # train은 7661, test는 535\n",
    "    array_3d = df_2d.iloc[:,3:].values.reshape([sample_size, time_size, feature_size])\n",
    "    return array_3d\n",
    "\n",
    "train_x_array = df2d_to_array3d(train_x_df)\n",
    "train_y_array = df2d_to_array3d(train_y_df)\n",
    "test_x_array = df2d_to_array3d(test_x_df)\n",
    "\n",
    "print(f'''\n",
    "These shape stands for (sample_size, time_step, feature)\n",
    "train_x_array {train_x_array.shape}\n",
    "train_y_array {train_y_array.shape}\n",
    "test_x_array {test_x_array.shape}\n",
    "''')"
   ]
  },
  {
   "cell_type": "code",
   "execution_count": 15,
   "metadata": {
    "ExecuteTime": {
     "end_time": "2021-05-16T16:24:11.164156Z",
     "start_time": "2021-05-16T16:24:11.116827Z"
    }
   },
   "outputs": [
    {
     "data": {
      "text/plain": [
       "((7661, 1380), (7661, 120))"
      ]
     },
     "execution_count": 15,
     "metadata": {},
     "output_type": "execute_result"
    }
   ],
   "source": [
    "X = train_x_array[:, :, 0]\n",
    "y = train_y_array[:, :, 0]\n",
    "X.shape, y.shape"
   ]
  },
  {
   "cell_type": "code",
   "execution_count": 25,
   "metadata": {
    "ExecuteTime": {
     "end_time": "2021-05-16T16:27:59.021985Z",
     "start_time": "2021-05-16T16:27:58.986030Z"
    }
   },
   "outputs": [],
   "source": [
    "y_argmax = []\n",
    "for i in range(len(y)):\n",
    "    y_argmax.append(y[i].argmax())\n",
    "y_argmax = np.array(y_argmax)"
   ]
  },
  {
   "cell_type": "code",
   "execution_count": 27,
   "metadata": {
    "ExecuteTime": {
     "end_time": "2021-05-16T16:28:08.738167Z",
     "start_time": "2021-05-16T16:28:08.729185Z"
    }
   },
   "outputs": [
    {
     "data": {
      "text/plain": [
       "(7661,)"
      ]
     },
     "execution_count": 27,
     "metadata": {},
     "output_type": "execute_result"
    }
   ],
   "source": [
    "y_argmax.shape"
   ]
  },
  {
   "cell_type": "code",
   "execution_count": 31,
   "metadata": {
    "ExecuteTime": {
     "end_time": "2021-05-16T16:30:50.425428Z",
     "start_time": "2021-05-16T16:30:50.060598Z"
    }
   },
   "outputs": [
    {
     "data": {
      "text/plain": [
       "[array([[1.05439794, 1.05439794, 1.05407786, ..., 1.00103736, 0.99885255,\n",
       "         1.        ],\n",
       "        [0.97104853, 0.97056603, 0.97100574, ..., 0.99999362, 1.00054657,\n",
       "         1.        ],\n",
       "        [1.02403867, 1.02575552, 1.02521074, ..., 0.99903589, 1.00000536,\n",
       "         1.        ],\n",
       "        ...,\n",
       "        [0.99507278, 0.99665654, 0.99765372, ..., 0.99788833, 0.99906152,\n",
       "         1.        ],\n",
       "        [1.04364514, 1.04349315, 1.0441395 , ..., 1.00091243, 1.00007606,\n",
       "         1.        ],\n",
       "        [1.02443433, 1.02387726, 1.02577901, ..., 1.00092196, 1.00051868,\n",
       "         1.        ]]),\n",
       " array([[1.01848245, 1.01848245, 1.01848245, ..., 0.99416339, 0.99416339,\n",
       "         1.        ],\n",
       "        [0.99581057, 0.99644965, 0.99672842, ..., 0.99995792, 0.99999738,\n",
       "         1.        ],\n",
       "        [1.04332948, 1.03933859, 1.03705812, ..., 0.99800444, 0.9988597 ,\n",
       "         1.        ],\n",
       "        ...,\n",
       "        [1.16033089, 1.1587218 , 1.15639329, ..., 1.00062478, 0.99895883,\n",
       "         1.        ],\n",
       "        [0.998299  , 0.99872422, 0.99936211, ..., 0.99978739, 0.99978739,\n",
       "         1.        ],\n",
       "        [1.00733876, 1.00705433, 1.00637162, ..., 1.00017071, 1.00011384,\n",
       "         1.        ]]),\n",
       " array([114,   7,  87, ..., 118,  98,  99]),\n",
       " array([ 88,  72,  59, ...,  20, 104,  10])]"
      ]
     },
     "execution_count": 31,
     "metadata": {},
     "output_type": "execute_result"
    }
   ],
   "source": [
    "from sklearn.model_selection import train_test_split\n",
    "train_test_split(X, y_argmax)"
   ]
  },
  {
   "cell_type": "code",
   "execution_count": null,
   "metadata": {},
   "outputs": [],
   "source": []
  },
  {
   "cell_type": "code",
   "execution_count": null,
   "metadata": {},
   "outputs": [],
   "source": []
  },
  {
   "cell_type": "code",
   "execution_count": null,
   "metadata": {},
   "outputs": [],
   "source": []
  },
  {
   "cell_type": "code",
   "execution_count": null,
   "metadata": {},
   "outputs": [],
   "source": []
  },
  {
   "cell_type": "code",
   "execution_count": 178,
   "metadata": {
    "ExecuteTime": {
     "end_time": "2021-05-16T15:03:10.111060Z",
     "start_time": "2021-05-16T15:03:10.025463Z"
    }
   },
   "outputs": [
    {
     "data": {
      "text/plain": [
       "Counter({0: 3809, 1: 3852})"
      ]
     },
     "execution_count": 178,
     "metadata": {},
     "output_type": "execute_result"
    }
   ],
   "source": [
    "from collections import Counter\n",
    "y = np.array(list(map(lambda x: 1 if x[-1] > x[0] else 0, train_y_array[:, :, 0])))\n",
    "Counter(y)"
   ]
  },
  {
   "cell_type": "code",
   "execution_count": 179,
   "metadata": {
    "ExecuteTime": {
     "end_time": "2021-05-16T15:03:20.456901Z",
     "start_time": "2021-05-16T15:03:18.403691Z"
    }
   },
   "outputs": [
    {
     "name": "stderr",
     "output_type": "stream",
     "text": [
      "/Users/duru/opt/anaconda3/lib/python3.8/site-packages/sklearn/linear_model/_logistic.py:762: ConvergenceWarning: lbfgs failed to converge (status=1):\n",
      "STOP: TOTAL NO. of ITERATIONS REACHED LIMIT.\n",
      "\n",
      "Increase the number of iterations (max_iter) or scale the data as shown in:\n",
      "    https://scikit-learn.org/stable/modules/preprocessing.html\n",
      "Please also refer to the documentation for alternative solver options:\n",
      "    https://scikit-learn.org/stable/modules/linear_model.html#logistic-regression\n",
      "  n_iter_i = _check_optimize_result(\n"
     ]
    },
    {
     "data": {
      "text/plain": [
       "LogisticRegression()"
      ]
     },
     "execution_count": 179,
     "metadata": {},
     "output_type": "execute_result"
    }
   ],
   "source": [
    "from sklearn.linear_model import LogisticRegression\n",
    "lr = LogisticRegression()\n",
    "lr.fit(X, y)"
   ]
  },
  {
   "cell_type": "markdown",
   "metadata": {},
   "source": [
    "안 된다!"
   ]
  },
  {
   "cell_type": "code",
   "execution_count": 180,
   "metadata": {
    "ExecuteTime": {
     "end_time": "2021-05-16T15:03:37.448150Z",
     "start_time": "2021-05-16T15:03:22.510699Z"
    }
   },
   "outputs": [
    {
     "data": {
      "text/plain": [
       "(7661, 276)"
      ]
     },
     "execution_count": 180,
     "metadata": {},
     "output_type": "execute_result"
    }
   ],
   "source": [
    "def get_avg_5(array):\n",
    "    new_array = []\n",
    "    for i in range(0, len(array), 5):\n",
    "        new_array.append(array[i:i+5].mean())\n",
    "    return np.array(new_array)\n",
    "\n",
    "new_x = np.array(list(map(get_avg_5, X)))\n",
    "new_x.shape"
   ]
  },
  {
   "cell_type": "code",
   "execution_count": 181,
   "metadata": {
    "ExecuteTime": {
     "end_time": "2021-05-16T15:03:39.897683Z",
     "start_time": "2021-05-16T15:03:39.606253Z"
    }
   },
   "outputs": [
    {
     "data": {
      "text/plain": [
       "0.5439237697428534"
      ]
     },
     "execution_count": 181,
     "metadata": {},
     "output_type": "execute_result"
    }
   ],
   "source": [
    "lr.fit(new_x, y)\n",
    "lr.score(new_x, y)"
   ]
  },
  {
   "cell_type": "code",
   "execution_count": 182,
   "metadata": {
    "ExecuteTime": {
     "end_time": "2021-05-16T15:03:42.868800Z",
     "start_time": "2021-05-16T15:03:42.842629Z"
    }
   },
   "outputs": [
    {
     "data": {
      "text/plain": [
       "0.5707616707616708"
      ]
     },
     "execution_count": 182,
     "metadata": {},
     "output_type": "execute_result"
    }
   ],
   "source": [
    "from sklearn.metrics import f1_score\n",
    "f1_score(lr.predict(new_x), y)"
   ]
  },
  {
   "cell_type": "code",
   "execution_count": 183,
   "metadata": {
    "ExecuteTime": {
     "end_time": "2021-05-16T15:03:54.454106Z",
     "start_time": "2021-05-16T15:03:53.373582Z"
    }
   },
   "outputs": [
    {
     "data": {
      "text/plain": [
       "array([[0.50375575, 0.49624425],\n",
       "       [0.52267661, 0.47732339],\n",
       "       [0.55487561, 0.44512439],\n",
       "       ...,\n",
       "       [0.59367836, 0.40632164],\n",
       "       [0.47726796, 0.52273204],\n",
       "       [0.47028561, 0.52971439]])"
      ]
     },
     "execution_count": 183,
     "metadata": {},
     "output_type": "execute_result"
    }
   ],
   "source": [
    "X_test = test_x_array[:, :, 0]\n",
    "new_x_test = np.array(list(map(get_avg_5, X_test)))\n",
    "lr.predict_proba(new_x_test)"
   ]
  },
  {
   "cell_type": "code",
   "execution_count": 184,
   "metadata": {
    "ExecuteTime": {
     "end_time": "2021-05-16T15:03:56.649914Z",
     "start_time": "2021-05-16T15:03:56.641699Z"
    }
   },
   "outputs": [],
   "source": [
    "over_60 = list(map(lambda x: x[1] > 0.6, lr.predict_proba(new_x_test)))"
   ]
  },
  {
   "cell_type": "code",
   "execution_count": 185,
   "metadata": {
    "ExecuteTime": {
     "end_time": "2021-05-16T15:03:57.306897Z",
     "start_time": "2021-05-16T15:03:57.286643Z"
    }
   },
   "outputs": [
    {
     "data": {
      "text/plain": [
       "15"
      ]
     },
     "execution_count": 185,
     "metadata": {},
     "output_type": "execute_result"
    }
   ],
   "source": [
    "sum(over_60)"
   ]
  },
  {
   "cell_type": "code",
   "execution_count": 186,
   "metadata": {
    "ExecuteTime": {
     "end_time": "2021-05-16T15:04:03.305091Z",
     "start_time": "2021-05-16T15:04:03.199980Z"
    }
   },
   "outputs": [
    {
     "data": {
      "text/html": [
       "<div>\n",
       "<style scoped>\n",
       "    .dataframe tbody tr th:only-of-type {\n",
       "        vertical-align: middle;\n",
       "    }\n",
       "\n",
       "    .dataframe tbody tr th {\n",
       "        vertical-align: top;\n",
       "    }\n",
       "\n",
       "    .dataframe thead th {\n",
       "        text-align: right;\n",
       "    }\n",
       "</style>\n",
       "<table border=\"1\" class=\"dataframe\">\n",
       "  <thead>\n",
       "    <tr style=\"text-align: right;\">\n",
       "      <th></th>\n",
       "      <th>sample_id</th>\n",
       "      <th>buy_quantity</th>\n",
       "      <th>sell_time</th>\n",
       "    </tr>\n",
       "  </thead>\n",
       "  <tbody>\n",
       "    <tr>\n",
       "      <th>0</th>\n",
       "      <td>7661</td>\n",
       "      <td>0</td>\n",
       "      <td>0</td>\n",
       "    </tr>\n",
       "    <tr>\n",
       "      <th>1</th>\n",
       "      <td>7662</td>\n",
       "      <td>0</td>\n",
       "      <td>0</td>\n",
       "    </tr>\n",
       "    <tr>\n",
       "      <th>2</th>\n",
       "      <td>7663</td>\n",
       "      <td>0</td>\n",
       "      <td>0</td>\n",
       "    </tr>\n",
       "    <tr>\n",
       "      <th>3</th>\n",
       "      <td>7664</td>\n",
       "      <td>0</td>\n",
       "      <td>0</td>\n",
       "    </tr>\n",
       "    <tr>\n",
       "      <th>4</th>\n",
       "      <td>7665</td>\n",
       "      <td>0</td>\n",
       "      <td>0</td>\n",
       "    </tr>\n",
       "    <tr>\n",
       "      <th>...</th>\n",
       "      <td>...</td>\n",
       "      <td>...</td>\n",
       "      <td>...</td>\n",
       "    </tr>\n",
       "    <tr>\n",
       "      <th>530</th>\n",
       "      <td>8191</td>\n",
       "      <td>0</td>\n",
       "      <td>0</td>\n",
       "    </tr>\n",
       "    <tr>\n",
       "      <th>531</th>\n",
       "      <td>8192</td>\n",
       "      <td>0</td>\n",
       "      <td>0</td>\n",
       "    </tr>\n",
       "    <tr>\n",
       "      <th>532</th>\n",
       "      <td>8193</td>\n",
       "      <td>0</td>\n",
       "      <td>0</td>\n",
       "    </tr>\n",
       "    <tr>\n",
       "      <th>533</th>\n",
       "      <td>8194</td>\n",
       "      <td>0</td>\n",
       "      <td>0</td>\n",
       "    </tr>\n",
       "    <tr>\n",
       "      <th>534</th>\n",
       "      <td>8195</td>\n",
       "      <td>0</td>\n",
       "      <td>0</td>\n",
       "    </tr>\n",
       "  </tbody>\n",
       "</table>\n",
       "<p>535 rows × 3 columns</p>\n",
       "</div>"
      ],
      "text/plain": [
       "     sample_id  buy_quantity  sell_time\n",
       "0         7661             0          0\n",
       "1         7662             0          0\n",
       "2         7663             0          0\n",
       "3         7664             0          0\n",
       "4         7665             0          0\n",
       "..         ...           ...        ...\n",
       "530       8191             0          0\n",
       "531       8192             0          0\n",
       "532       8193             0          0\n",
       "533       8194             0          0\n",
       "534       8195             0          0\n",
       "\n",
       "[535 rows x 3 columns]"
      ]
     },
     "execution_count": 186,
     "metadata": {},
     "output_type": "execute_result"
    }
   ],
   "source": [
    "submission = pd.DataFrame(np.zeros([len(over_60),2], np.int64),\n",
    "                columns = ['buy_quantity', 'sell_time'])\n",
    "submission['sample_id'] = range(len(submission))\n",
    "submission = submission[['sample_id','buy_quantity','sell_time']]\n",
    "submission.sample_id = submission.sample_id + test_x_df.sample_id.min()\n",
    "submission"
   ]
  },
  {
   "cell_type": "code",
   "execution_count": 187,
   "metadata": {
    "ExecuteTime": {
     "end_time": "2021-05-16T15:04:05.536454Z",
     "start_time": "2021-05-16T15:04:05.507352Z"
    }
   },
   "outputs": [
    {
     "data": {
      "text/html": [
       "<div>\n",
       "<style scoped>\n",
       "    .dataframe tbody tr th:only-of-type {\n",
       "        vertical-align: middle;\n",
       "    }\n",
       "\n",
       "    .dataframe tbody tr th {\n",
       "        vertical-align: top;\n",
       "    }\n",
       "\n",
       "    .dataframe thead th {\n",
       "        text-align: right;\n",
       "    }\n",
       "</style>\n",
       "<table border=\"1\" class=\"dataframe\">\n",
       "  <thead>\n",
       "    <tr style=\"text-align: right;\">\n",
       "      <th></th>\n",
       "      <th>sample_id</th>\n",
       "      <th>buy_quantity</th>\n",
       "      <th>sell_time</th>\n",
       "    </tr>\n",
       "  </thead>\n",
       "  <tbody>\n",
       "    <tr>\n",
       "      <th>0</th>\n",
       "      <td>7661</td>\n",
       "      <td>0</td>\n",
       "      <td>0</td>\n",
       "    </tr>\n",
       "    <tr>\n",
       "      <th>1</th>\n",
       "      <td>7662</td>\n",
       "      <td>0</td>\n",
       "      <td>0</td>\n",
       "    </tr>\n",
       "    <tr>\n",
       "      <th>2</th>\n",
       "      <td>7663</td>\n",
       "      <td>0</td>\n",
       "      <td>0</td>\n",
       "    </tr>\n",
       "    <tr>\n",
       "      <th>3</th>\n",
       "      <td>7664</td>\n",
       "      <td>1</td>\n",
       "      <td>119</td>\n",
       "    </tr>\n",
       "    <tr>\n",
       "      <th>4</th>\n",
       "      <td>7665</td>\n",
       "      <td>0</td>\n",
       "      <td>0</td>\n",
       "    </tr>\n",
       "    <tr>\n",
       "      <th>...</th>\n",
       "      <td>...</td>\n",
       "      <td>...</td>\n",
       "      <td>...</td>\n",
       "    </tr>\n",
       "    <tr>\n",
       "      <th>530</th>\n",
       "      <td>8191</td>\n",
       "      <td>0</td>\n",
       "      <td>0</td>\n",
       "    </tr>\n",
       "    <tr>\n",
       "      <th>531</th>\n",
       "      <td>8192</td>\n",
       "      <td>0</td>\n",
       "      <td>0</td>\n",
       "    </tr>\n",
       "    <tr>\n",
       "      <th>532</th>\n",
       "      <td>8193</td>\n",
       "      <td>0</td>\n",
       "      <td>0</td>\n",
       "    </tr>\n",
       "    <tr>\n",
       "      <th>533</th>\n",
       "      <td>8194</td>\n",
       "      <td>0</td>\n",
       "      <td>0</td>\n",
       "    </tr>\n",
       "    <tr>\n",
       "      <th>534</th>\n",
       "      <td>8195</td>\n",
       "      <td>0</td>\n",
       "      <td>0</td>\n",
       "    </tr>\n",
       "  </tbody>\n",
       "</table>\n",
       "<p>535 rows × 3 columns</p>\n",
       "</div>"
      ],
      "text/plain": [
       "     sample_id  buy_quantity  sell_time\n",
       "0         7661             0          0\n",
       "1         7662             0          0\n",
       "2         7663             0          0\n",
       "3         7664             1        119\n",
       "4         7665             0          0\n",
       "..         ...           ...        ...\n",
       "530       8191             0          0\n",
       "531       8192             0          0\n",
       "532       8193             0          0\n",
       "533       8194             0          0\n",
       "534       8195             0          0\n",
       "\n",
       "[535 rows x 3 columns]"
      ]
     },
     "execution_count": 187,
     "metadata": {},
     "output_type": "execute_result"
    }
   ],
   "source": [
    "for i in range(len(over_60)):\n",
    "    if over_60[i]:\n",
    "        submission.iloc[i, 1] = 1\n",
    "        submission.iloc[i, 2] = 119\n",
    "submission"
   ]
  },
  {
   "cell_type": "code",
   "execution_count": 170,
   "metadata": {
    "ExecuteTime": {
     "end_time": "2021-05-16T14:50:26.670379Z",
     "start_time": "2021-05-16T14:50:26.543429Z"
    }
   },
   "outputs": [],
   "source": [
    "submission.to_csv(\"logistic_submission.csv\", index = False)"
   ]
  }
 ],
 "metadata": {
  "kernelspec": {
   "display_name": "Python 3",
   "language": "python",
   "name": "python3"
  },
  "language_info": {
   "codemirror_mode": {
    "name": "ipython",
    "version": 3
   },
   "file_extension": ".py",
   "mimetype": "text/x-python",
   "name": "python",
   "nbconvert_exporter": "python",
   "pygments_lexer": "ipython3",
   "version": "3.8.5"
  },
  "toc": {
   "base_numbering": 1,
   "nav_menu": {},
   "number_sections": true,
   "sideBar": true,
   "skip_h1_title": false,
   "title_cell": "Table of Contents",
   "title_sidebar": "Contents",
   "toc_cell": false,
   "toc_position": {},
   "toc_section_display": true,
   "toc_window_display": false
  }
 },
 "nbformat": 4,
 "nbformat_minor": 4
}
