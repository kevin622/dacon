{
 "cells": [
  {
   "cell_type": "markdown",
   "metadata": {},
   "source": [
    "# 데이터 불러오기 및 전처리"
   ]
  },
  {
   "cell_type": "code",
   "execution_count": 1,
   "metadata": {
    "ExecuteTime": {
     "end_time": "2021-05-31T01:46:50.369343Z",
     "start_time": "2021-05-31T01:46:15.960801Z"
    }
   },
   "outputs": [
    {
     "data": {
      "text/html": [
       "<div>\n",
       "<style scoped>\n",
       "    .dataframe tbody tr th:only-of-type {\n",
       "        vertical-align: middle;\n",
       "    }\n",
       "\n",
       "    .dataframe tbody tr th {\n",
       "        vertical-align: top;\n",
       "    }\n",
       "\n",
       "    .dataframe thead th {\n",
       "        text-align: right;\n",
       "    }\n",
       "</style>\n",
       "<table border=\"1\" class=\"dataframe\">\n",
       "  <thead>\n",
       "    <tr style=\"text-align: right;\">\n",
       "      <th></th>\n",
       "      <th>sample_id</th>\n",
       "      <th>time</th>\n",
       "      <th>coin_index</th>\n",
       "      <th>open</th>\n",
       "      <th>high</th>\n",
       "      <th>low</th>\n",
       "      <th>close</th>\n",
       "      <th>volume</th>\n",
       "      <th>quote_av</th>\n",
       "      <th>trades</th>\n",
       "      <th>tb_base_av</th>\n",
       "      <th>tb_quote_av</th>\n",
       "    </tr>\n",
       "  </thead>\n",
       "  <tbody>\n",
       "    <tr>\n",
       "      <th>0</th>\n",
       "      <td>0</td>\n",
       "      <td>0</td>\n",
       "      <td>9</td>\n",
       "      <td>0.983614</td>\n",
       "      <td>0.983614</td>\n",
       "      <td>0.983128</td>\n",
       "      <td>0.983246</td>\n",
       "      <td>0.001334</td>\n",
       "      <td>10.650987</td>\n",
       "      <td>0.009855</td>\n",
       "      <td>0.000848</td>\n",
       "      <td>6.771755</td>\n",
       "    </tr>\n",
       "    <tr>\n",
       "      <th>1</th>\n",
       "      <td>0</td>\n",
       "      <td>1</td>\n",
       "      <td>9</td>\n",
       "      <td>0.983245</td>\n",
       "      <td>0.983612</td>\n",
       "      <td>0.982453</td>\n",
       "      <td>0.982693</td>\n",
       "      <td>0.001425</td>\n",
       "      <td>11.375689</td>\n",
       "      <td>0.016137</td>\n",
       "      <td>0.000697</td>\n",
       "      <td>5.565188</td>\n",
       "    </tr>\n",
       "    <tr>\n",
       "      <th>2</th>\n",
       "      <td>0</td>\n",
       "      <td>2</td>\n",
       "      <td>9</td>\n",
       "      <td>0.982694</td>\n",
       "      <td>0.983612</td>\n",
       "      <td>0.982403</td>\n",
       "      <td>0.983002</td>\n",
       "      <td>0.001542</td>\n",
       "      <td>12.301942</td>\n",
       "      <td>0.014166</td>\n",
       "      <td>0.000905</td>\n",
       "      <td>7.225459</td>\n",
       "    </tr>\n",
       "    <tr>\n",
       "      <th>3</th>\n",
       "      <td>0</td>\n",
       "      <td>3</td>\n",
       "      <td>9</td>\n",
       "      <td>0.983009</td>\n",
       "      <td>0.984848</td>\n",
       "      <td>0.983009</td>\n",
       "      <td>0.984486</td>\n",
       "      <td>0.002520</td>\n",
       "      <td>20.134695</td>\n",
       "      <td>0.021557</td>\n",
       "      <td>0.001171</td>\n",
       "      <td>9.353000</td>\n",
       "    </tr>\n",
       "    <tr>\n",
       "      <th>4</th>\n",
       "      <td>0</td>\n",
       "      <td>4</td>\n",
       "      <td>9</td>\n",
       "      <td>0.984233</td>\n",
       "      <td>0.984606</td>\n",
       "      <td>0.983612</td>\n",
       "      <td>0.984164</td>\n",
       "      <td>0.002818</td>\n",
       "      <td>22.515448</td>\n",
       "      <td>0.021434</td>\n",
       "      <td>0.001799</td>\n",
       "      <td>14.372534</td>\n",
       "    </tr>\n",
       "  </tbody>\n",
       "</table>\n",
       "</div>"
      ],
      "text/plain": [
       "   sample_id  time  coin_index      open      high       low     close  \\\n",
       "0          0     0           9  0.983614  0.983614  0.983128  0.983246   \n",
       "1          0     1           9  0.983245  0.983612  0.982453  0.982693   \n",
       "2          0     2           9  0.982694  0.983612  0.982403  0.983002   \n",
       "3          0     3           9  0.983009  0.984848  0.983009  0.984486   \n",
       "4          0     4           9  0.984233  0.984606  0.983612  0.984164   \n",
       "\n",
       "     volume   quote_av    trades  tb_base_av  tb_quote_av  \n",
       "0  0.001334  10.650987  0.009855    0.000848     6.771755  \n",
       "1  0.001425  11.375689  0.016137    0.000697     5.565188  \n",
       "2  0.001542  12.301942  0.014166    0.000905     7.225459  \n",
       "3  0.002520  20.134695  0.021557    0.001171     9.353000  \n",
       "4  0.002818  22.515448  0.021434    0.001799    14.372534  "
      ]
     },
     "execution_count": 1,
     "metadata": {},
     "output_type": "execute_result"
    }
   ],
   "source": [
    "import pandas as pd\n",
    "train_x_df = pd.read_csv('data/train_x_df.csv')\n",
    "train_y_df = pd.read_csv('data/train_y_df.csv')\n",
    "test_x_df = pd.read_csv('data/test_x_df.csv')\n",
    "train_x_df.head()"
   ]
  },
  {
   "cell_type": "code",
   "execution_count": 2,
   "metadata": {
    "ExecuteTime": {
     "end_time": "2021-05-31T01:47:11.716284Z",
     "start_time": "2021-05-31T01:46:50.377326Z"
    }
   },
   "outputs": [
    {
     "name": "stdout",
     "output_type": "stream",
     "text": [
      "\n",
      "These shape stands for (sample_size, time_step, feature)\n",
      "train_x_array (7661, 1380, 9)\n",
      "train_y_array (7661, 120, 9)\n",
      "test_x_array (535, 1380, 9)\n",
      "\n"
     ]
    }
   ],
   "source": [
    "# 코인 인덱스 별로 volume이랑 trades min max scale\n",
    "for coin_idx in train_x_df.coin_index.unique():\n",
    "    for col in ['volume', 'trades']:\n",
    "        min_val = train_x_df.loc[train_x_df.coin_index==coin_idx, col].min()\n",
    "        max_val = train_x_df.loc[train_x_df.coin_index==coin_idx, col].max()\n",
    "        train_x_df.loc[train_x_df.coin_index==coin_idx, col] = train_x_df.loc[train_x_df.coin_index==coin_idx, col].apply(lambda x: (x - min_val) / (max_val - min_val))\n",
    "        test_x_df.loc[test_x_df.coin_index==coin_idx, col] = test_x_df.loc[test_x_df.coin_index==coin_idx, col].apply(lambda x: (x - min_val) / (max_val - min_val))\n",
    "\n",
    "import numpy as np\n",
    "def df2d_to_array3d(df_2d):\n",
    "    feature_size = len(df_2d.columns[3:]) # 9\n",
    "    time_size = len(df_2d.time.unique()) # x는 1380, y는 120\n",
    "    sample_size = len(df_2d.sample_id.unique()) # train은 7661, test는 535\n",
    "    array_3d = df_2d.iloc[:,3:].values.reshape([sample_size, time_size, feature_size])\n",
    "    return array_3d\n",
    "\n",
    "train_x_array = df2d_to_array3d(train_x_df)\n",
    "train_y_array = df2d_to_array3d(train_y_df)\n",
    "test_x_array = df2d_to_array3d(test_x_df)\n",
    "\n",
    "print(f'''\n",
    "These shape stands for (sample_size, time_step, feature)\n",
    "train_x_array {train_x_array.shape}\n",
    "train_y_array {train_y_array.shape}\n",
    "test_x_array {test_x_array.shape}\n",
    "''')"
   ]
  },
  {
   "cell_type": "code",
   "execution_count": 3,
   "metadata": {
    "ExecuteTime": {
     "end_time": "2021-05-31T01:47:13.730926Z",
     "start_time": "2021-05-31T01:47:11.735511Z"
    }
   },
   "outputs": [
    {
     "data": {
      "text/plain": [
       "((7661, 1380, 3), (7661, 120, 1))"
      ]
     },
     "execution_count": 3,
     "metadata": {},
     "output_type": "execute_result"
    }
   ],
   "source": [
    "X = train_x_array[:, :, [0, 4, 6]]  # open, volume, trades\n",
    "y = train_y_array[:, :, [3]]\n",
    "X.shape, y.shape"
   ]
  },
  {
   "cell_type": "markdown",
   "metadata": {},
   "source": [
    "## y를 argmax와 max로 데이터 정리"
   ]
  },
  {
   "cell_type": "code",
   "execution_count": 4,
   "metadata": {
    "ExecuteTime": {
     "end_time": "2021-05-31T01:47:13.945855Z",
     "start_time": "2021-05-31T01:47:13.743077Z"
    }
   },
   "outputs": [
    {
     "data": {
      "text/plain": [
       "((7661,), (7661,))"
      ]
     },
     "execution_count": 4,
     "metadata": {},
     "output_type": "execute_result"
    }
   ],
   "source": [
    "y_argmax = []\n",
    "y_max = []\n",
    "for i in range(len(y)):\n",
    "    y_argmax.append(y[i].argmax())\n",
    "    y_max.append(y[i].max())\n",
    "y_argmax = np.array(y_argmax)\n",
    "y_max = np.array(y_max)\n",
    "y_argmax.shape, y_max.shape"
   ]
  },
  {
   "cell_type": "code",
   "execution_count": 5,
   "metadata": {
    "ExecuteTime": {
     "end_time": "2021-05-31T01:47:29.717593Z",
     "start_time": "2021-05-31T01:47:13.948933Z"
    }
   },
   "outputs": [
    {
     "data": {
      "text/plain": [
       "(7661, 414)"
      ]
     },
     "execution_count": 5,
     "metadata": {},
     "output_type": "execute_result"
    }
   ],
   "source": [
    "def get_avg_10(array):\n",
    "    new_array = []\n",
    "    for i in range(0, len(array), 10):\n",
    "        new_array.append(array[i:i+10, :].mean(axis=0))\n",
    "    return np.array(new_array).flatten()\n",
    "\n",
    "X = np.array(list(map(get_avg_10, X)))\n",
    "X.shape"
   ]
  },
  {
   "cell_type": "code",
   "execution_count": 6,
   "metadata": {
    "ExecuteTime": {
     "end_time": "2021-05-30T11:33:18.058524Z",
     "start_time": "2021-05-30T11:33:15.211701Z"
    }
   },
   "outputs": [
    {
     "data": {
      "text/plain": [
       "((6128, 414), (6128,), (6128,))"
      ]
     },
     "execution_count": 6,
     "metadata": {},
     "output_type": "execute_result"
    }
   ],
   "source": [
    "from sklearn.model_selection import train_test_split\n",
    "X_train, X_test, y_argmax_train, y_argmax_test, y_max_train, y_max_test = train_test_split(X, y_argmax, y_max, test_size=0.2, random_state=1)\n",
    "X_train.shape, y_argmax_train.shape, y_max_train.shape"
   ]
  },
  {
   "cell_type": "markdown",
   "metadata": {},
   "source": [
    "## y_max"
   ]
  },
  {
   "cell_type": "code",
   "execution_count": 9,
   "metadata": {
    "ExecuteTime": {
     "end_time": "2021-05-30T11:43:26.553424Z",
     "start_time": "2021-05-30T11:35:26.756633Z"
    },
    "collapsed": true
   },
   "outputs": [
    {
     "ename": "NameError",
     "evalue": "name 'model_lgbm' is not defined",
     "output_type": "error",
     "traceback": [
      "\u001b[0;31m---------------------------------------------------------------------------\u001b[0m",
      "\u001b[0;31mNameError\u001b[0m                                 Traceback (most recent call last)",
      "\u001b[0;32m<timed exec>\u001b[0m in \u001b[0;36m<module>\u001b[0;34m\u001b[0m\n",
      "\u001b[0;31mNameError\u001b[0m: name 'model_lgbm' is not defined"
     ]
    }
   ],
   "source": [
    "%%time\n",
    "# y_max\n",
    "from lightgbm import LGBMRegressor\n",
    "from sklearn.model_selection import GridSearchCV\n",
    "lgbm_max = LGBMRegressor()\n",
    "params = {\n",
    "    'learning_rate': [0.01, 0.05, 0.1, 0.3, 1.0], \n",
    "    'n_estimators': [100, 150, 200], \n",
    "    'max_depth': [3, 5, 7]\n",
    "}\n",
    "model_lgbm_max = GridSearchCV(lgbm_max, params)\n",
    "model_lgbm_max.fit(X_train, y_max_train)"
   ]
  },
  {
   "cell_type": "code",
   "execution_count": 10,
   "metadata": {
    "ExecuteTime": {
     "end_time": "2021-05-30T11:44:09.522203Z",
     "start_time": "2021-05-30T11:44:09.454571Z"
    }
   },
   "outputs": [
    {
     "name": "stdout",
     "output_type": "stream",
     "text": [
      "LGBM for y_max\n",
      "mse: 0.00017537568312495192\n",
      "r2: 0.10313430652759226\n",
      "best_params:  {'learning_rate': 0.01, 'max_depth': 7, 'n_estimators': 200}\n"
     ]
    }
   ],
   "source": [
    "y_max_pred = model_lgbm_max.predict(X_test)\n",
    "\n",
    "from sklearn.metrics import mean_squared_error as mse\n",
    "from sklearn.metrics import r2_score as r2\n",
    "print('LGBM for y_max')\n",
    "print('mse:', mse(y_max_test, y_max_pred))\n",
    "print('r2:', r2(y_max_test, y_max_pred))\n",
    "print('best_params: ', model_lgbm_max.best_params_)"
   ]
  },
  {
   "cell_type": "markdown",
   "metadata": {},
   "source": [
    "## y_argmax"
   ]
  },
  {
   "cell_type": "code",
   "execution_count": 11,
   "metadata": {
    "ExecuteTime": {
     "end_time": "2021-05-30T11:53:27.361916Z",
     "start_time": "2021-05-30T11:44:30.316659Z"
    }
   },
   "outputs": [
    {
     "name": "stdout",
     "output_type": "stream",
     "text": [
      "mse: 1603.268273126283\n",
      "r2: 0.013968007974931917\n",
      "best_params:  {'learning_rate': 0.01, 'max_depth': 3, 'n_estimators': 200}\n",
      "CPU times: user 33min 45s, sys: 33.4 s, total: 34min 18s\n",
      "Wall time: 8min 57s\n"
     ]
    }
   ],
   "source": [
    "%%time\n",
    "# y_argmax\n",
    "lgbm_argmax = LGBMRegressor()\n",
    "params = {\n",
    "    'learning_rate': [0.01, 0.05, 0.1, 0.3, 1.0], \n",
    "    'n_estimators': [100, 150, 200], \n",
    "    'max_depth': [3, 5, 7]\n",
    "}\n",
    "model_lgbm_argmax = GridSearchCV(lgbm_argmax, params)\n",
    "model_lgbm_argmax.fit(X_train, y_argmax_train)\n",
    "y_argmax_pred = model_lgbm_argmax.predict(X_test)\n",
    "print('mse:', mse(y_argmax_test, y_argmax_pred))\n",
    "print('r2:', r2(y_argmax_test, y_argmax_pred))\n",
    "print('best_params: ', model_lgbm_argmax.best_params_)"
   ]
  },
  {
   "cell_type": "markdown",
   "metadata": {},
   "source": [
    "# 전체 데이터"
   ]
  },
  {
   "cell_type": "code",
   "execution_count": 6,
   "metadata": {
    "ExecuteTime": {
     "end_time": "2021-05-31T01:47:42.704170Z",
     "start_time": "2021-05-31T01:47:41.081909Z"
    }
   },
   "outputs": [
    {
     "data": {
      "text/plain": [
       "(535, 414)"
      ]
     },
     "execution_count": 6,
     "metadata": {},
     "output_type": "execute_result"
    }
   ],
   "source": [
    "X_test = test_x_array[:, :, [0, 4, 6]]\n",
    "X_test = np.array(list(map(get_avg_10, X_test)))\n",
    "X_test.shape"
   ]
  },
  {
   "cell_type": "code",
   "execution_count": 8,
   "metadata": {
    "ExecuteTime": {
     "end_time": "2021-05-31T01:48:09.244236Z",
     "start_time": "2021-05-31T01:47:57.052117Z"
    }
   },
   "outputs": [],
   "source": [
    "from lightgbm import LGBMRegressor\n",
    "final_lgbm_max = LGBMRegressor(learning_rate=0.01, max_depth=7, n_estimators=200)\n",
    "final_lgbm_argmax = LGBMRegressor(learning_rate=0.01, max_depth=3, n_estimators=200)\n",
    "\n",
    "\n",
    "final_lgbm_max.fit(X, y_max)\n",
    "final_lgbm_argmax.fit(X, y_argmax)\n",
    "\n",
    "y_max_pred = final_lgbm_max.predict(X_test)\n",
    "y_argmax_pred = final_lgbm_argmax.predict(X_test)"
   ]
  },
  {
   "cell_type": "markdown",
   "metadata": {},
   "source": [
    "# 제출 파일 만들기"
   ]
  },
  {
   "cell_type": "code",
   "execution_count": 9,
   "metadata": {
    "ExecuteTime": {
     "end_time": "2021-05-31T01:48:41.053950Z",
     "start_time": "2021-05-31T01:48:40.959490Z"
    }
   },
   "outputs": [
    {
     "data": {
      "text/plain": [
       "1    535\n",
       "Name: buy_quantity, dtype: int64"
      ]
     },
     "execution_count": 9,
     "metadata": {},
     "output_type": "execute_result"
    }
   ],
   "source": [
    "submission = pd.DataFrame(np.zeros([X_test.shape[0],2], np.int64),\n",
    "                columns = ['buy_quantity', 'sell_time'])\n",
    "submission = submission.reset_index()\n",
    "submission.columns = ['sample_id','buy_quantity', 'sell_time']\n",
    "\n",
    "submission['sell_time'] = list(map(round, y_argmax_pred))\n",
    "submission['buy_quantity'] = (y_max_pred > 1.005) * 1\n",
    "submission.sample_id = submission.sample_id + test_x_df.sample_id.min()\n",
    "submission.buy_quantity.value_counts()"
   ]
  },
  {
   "cell_type": "code",
   "execution_count": 10,
   "metadata": {
    "ExecuteTime": {
     "end_time": "2021-05-31T01:48:59.346519Z",
     "start_time": "2021-05-31T01:48:59.313763Z"
    }
   },
   "outputs": [
    {
     "data": {
      "text/html": [
       "<div>\n",
       "<style scoped>\n",
       "    .dataframe tbody tr th:only-of-type {\n",
       "        vertical-align: middle;\n",
       "    }\n",
       "\n",
       "    .dataframe tbody tr th {\n",
       "        vertical-align: top;\n",
       "    }\n",
       "\n",
       "    .dataframe thead th {\n",
       "        text-align: right;\n",
       "    }\n",
       "</style>\n",
       "<table border=\"1\" class=\"dataframe\">\n",
       "  <thead>\n",
       "    <tr style=\"text-align: right;\">\n",
       "      <th></th>\n",
       "      <th>sample_id</th>\n",
       "      <th>buy_quantity</th>\n",
       "      <th>sell_time</th>\n",
       "    </tr>\n",
       "  </thead>\n",
       "  <tbody>\n",
       "    <tr>\n",
       "      <th>0</th>\n",
       "      <td>7661</td>\n",
       "      <td>1</td>\n",
       "      <td>50</td>\n",
       "    </tr>\n",
       "    <tr>\n",
       "      <th>1</th>\n",
       "      <td>7662</td>\n",
       "      <td>1</td>\n",
       "      <td>53</td>\n",
       "    </tr>\n",
       "    <tr>\n",
       "      <th>2</th>\n",
       "      <td>7663</td>\n",
       "      <td>1</td>\n",
       "      <td>51</td>\n",
       "    </tr>\n",
       "    <tr>\n",
       "      <th>3</th>\n",
       "      <td>7664</td>\n",
       "      <td>1</td>\n",
       "      <td>63</td>\n",
       "    </tr>\n",
       "    <tr>\n",
       "      <th>4</th>\n",
       "      <td>7665</td>\n",
       "      <td>1</td>\n",
       "      <td>49</td>\n",
       "    </tr>\n",
       "    <tr>\n",
       "      <th>...</th>\n",
       "      <td>...</td>\n",
       "      <td>...</td>\n",
       "      <td>...</td>\n",
       "    </tr>\n",
       "    <tr>\n",
       "      <th>530</th>\n",
       "      <td>8191</td>\n",
       "      <td>1</td>\n",
       "      <td>57</td>\n",
       "    </tr>\n",
       "    <tr>\n",
       "      <th>531</th>\n",
       "      <td>8192</td>\n",
       "      <td>1</td>\n",
       "      <td>54</td>\n",
       "    </tr>\n",
       "    <tr>\n",
       "      <th>532</th>\n",
       "      <td>8193</td>\n",
       "      <td>1</td>\n",
       "      <td>47</td>\n",
       "    </tr>\n",
       "    <tr>\n",
       "      <th>533</th>\n",
       "      <td>8194</td>\n",
       "      <td>1</td>\n",
       "      <td>57</td>\n",
       "    </tr>\n",
       "    <tr>\n",
       "      <th>534</th>\n",
       "      <td>8195</td>\n",
       "      <td>1</td>\n",
       "      <td>59</td>\n",
       "    </tr>\n",
       "  </tbody>\n",
       "</table>\n",
       "<p>535 rows × 3 columns</p>\n",
       "</div>"
      ],
      "text/plain": [
       "     sample_id  buy_quantity  sell_time\n",
       "0         7661             1         50\n",
       "1         7662             1         53\n",
       "2         7663             1         51\n",
       "3         7664             1         63\n",
       "4         7665             1         49\n",
       "..         ...           ...        ...\n",
       "530       8191             1         57\n",
       "531       8192             1         54\n",
       "532       8193             1         47\n",
       "533       8194             1         57\n",
       "534       8195             1         59\n",
       "\n",
       "[535 rows x 3 columns]"
      ]
     },
     "execution_count": 10,
     "metadata": {},
     "output_type": "execute_result"
    }
   ],
   "source": [
    "submission"
   ]
  },
  {
   "cell_type": "code",
   "execution_count": 11,
   "metadata": {
    "ExecuteTime": {
     "end_time": "2021-05-31T01:49:04.766304Z",
     "start_time": "2021-05-31T01:49:04.737383Z"
    }
   },
   "outputs": [],
   "source": [
    "submission.to_csv('lgbm_submission_v3.csv', index = False)"
   ]
  }
 ],
 "metadata": {
  "kernelspec": {
   "display_name": "Python 3",
   "language": "python",
   "name": "python3"
  },
  "language_info": {
   "codemirror_mode": {
    "name": "ipython",
    "version": 3
   },
   "file_extension": ".py",
   "mimetype": "text/x-python",
   "name": "python",
   "nbconvert_exporter": "python",
   "pygments_lexer": "ipython3",
   "version": "3.8.5"
  },
  "toc": {
   "base_numbering": 1,
   "nav_menu": {},
   "number_sections": true,
   "sideBar": true,
   "skip_h1_title": false,
   "title_cell": "Table of Contents",
   "title_sidebar": "Contents",
   "toc_cell": false,
   "toc_position": {},
   "toc_section_display": true,
   "toc_window_display": true
  }
 },
 "nbformat": 4,
 "nbformat_minor": 4
}
