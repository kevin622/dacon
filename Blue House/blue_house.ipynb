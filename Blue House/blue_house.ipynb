{
 "cells": [
  {
   "cell_type": "markdown",
   "metadata": {},
   "source": [
    "[Files] ※ 20.04.11 : test.csv 결측값 수정\n",
    "\n",
    "① train.csv(53MB) : 청원의 카테고리와 내용\n",
    "\n",
    "② test.csv(7MB) : 청원 내용\n",
    "\n",
    "③ sample_submission.csv(1MB) : submission 파일의 예시\n",
    "\n",
    "④ 라벨\n",
    "\n",
    "0 : 인권/성평등\n",
    "\n",
    "1 : 문화/예술/체육/언론\n",
    "\n",
    "2 : 육아/교육\n"
   ]
  },
  {
   "cell_type": "markdown",
   "metadata": {},
   "source": [
    "# 데이터 가져오기"
   ]
  },
  {
   "cell_type": "code",
   "execution_count": 28,
   "metadata": {
    "ExecuteTime": {
     "end_time": "2021-06-15T11:26:01.645397Z",
     "start_time": "2021-06-15T11:26:00.515395Z"
    }
   },
   "outputs": [
    {
     "data": {
      "text/html": [
       "<div>\n",
       "<style scoped>\n",
       "    .dataframe tbody tr th:only-of-type {\n",
       "        vertical-align: middle;\n",
       "    }\n",
       "\n",
       "    .dataframe tbody tr th {\n",
       "        vertical-align: top;\n",
       "    }\n",
       "\n",
       "    .dataframe thead th {\n",
       "        text-align: right;\n",
       "    }\n",
       "</style>\n",
       "<table border=\"1\" class=\"dataframe\">\n",
       "  <thead>\n",
       "    <tr style=\"text-align: right;\">\n",
       "      <th></th>\n",
       "      <th>index</th>\n",
       "      <th>category</th>\n",
       "      <th>data</th>\n",
       "    </tr>\n",
       "  </thead>\n",
       "  <tbody>\n",
       "    <tr>\n",
       "      <th>0</th>\n",
       "      <td>0</td>\n",
       "      <td>2</td>\n",
       "      <td>신혼부부위한 주택정책 보다 보육시설 늘려주세요.. 국민세금으로 일부를 위한 정책펴지...</td>\n",
       "    </tr>\n",
       "    <tr>\n",
       "      <th>1</th>\n",
       "      <td>1</td>\n",
       "      <td>0</td>\n",
       "      <td>학교이름에 '남자'도 붙여주세요. 울산여자중학교에 재학중인 학생입니다 최근 양성평등...</td>\n",
       "    </tr>\n",
       "    <tr>\n",
       "      <th>2</th>\n",
       "      <td>2</td>\n",
       "      <td>1</td>\n",
       "      <td>빙상연맹, 대한축구협회등 각종 체육협회의 비리를 철저하게 밝혀주세요.. 최근 동계올...</td>\n",
       "    </tr>\n",
       "    <tr>\n",
       "      <th>3</th>\n",
       "      <td>3</td>\n",
       "      <td>1</td>\n",
       "      <td>티비 12세,15세 관람가도 연령확인 의무화 하자.. 제기 에전에 티비를 보다가 잠...</td>\n",
       "    </tr>\n",
       "    <tr>\n",
       "      <th>4</th>\n",
       "      <td>4</td>\n",
       "      <td>1</td>\n",
       "      <td>무더운 여름철엔 남성들도 시원한 자율복장을 해야. 무더운 여름철에는 남성들도 노넥타...</td>\n",
       "    </tr>\n",
       "  </tbody>\n",
       "</table>\n",
       "</div>"
      ],
      "text/plain": [
       "   index  category                                               data\n",
       "0      0         2  신혼부부위한 주택정책 보다 보육시설 늘려주세요.. 국민세금으로 일부를 위한 정책펴지...\n",
       "1      1         0  학교이름에 '남자'도 붙여주세요. 울산여자중학교에 재학중인 학생입니다 최근 양성평등...\n",
       "2      2         1  빙상연맹, 대한축구협회등 각종 체육협회의 비리를 철저하게 밝혀주세요.. 최근 동계올...\n",
       "3      3         1  티비 12세,15세 관람가도 연령확인 의무화 하자.. 제기 에전에 티비를 보다가 잠...\n",
       "4      4         1  무더운 여름철엔 남성들도 시원한 자율복장을 해야. 무더운 여름철에는 남성들도 노넥타..."
      ]
     },
     "execution_count": 28,
     "metadata": {},
     "output_type": "execute_result"
    }
   ],
   "source": [
    "import pandas as pd\n",
    "train = pd.read_csv('train.csv')\n",
    "test = pd.read_csv('test.csv')\n",
    "train.head()"
   ]
  },
  {
   "cell_type": "code",
   "execution_count": 29,
   "metadata": {
    "ExecuteTime": {
     "end_time": "2021-06-15T11:26:02.875867Z",
     "start_time": "2021-06-15T11:26:02.862231Z"
    }
   },
   "outputs": [
    {
     "data": {
      "text/html": [
       "<div>\n",
       "<style scoped>\n",
       "    .dataframe tbody tr th:only-of-type {\n",
       "        vertical-align: middle;\n",
       "    }\n",
       "\n",
       "    .dataframe tbody tr th {\n",
       "        vertical-align: top;\n",
       "    }\n",
       "\n",
       "    .dataframe thead th {\n",
       "        text-align: right;\n",
       "    }\n",
       "</style>\n",
       "<table border=\"1\" class=\"dataframe\">\n",
       "  <thead>\n",
       "    <tr style=\"text-align: right;\">\n",
       "      <th></th>\n",
       "      <th>index</th>\n",
       "      <th>data</th>\n",
       "    </tr>\n",
       "  </thead>\n",
       "  <tbody>\n",
       "    <tr>\n",
       "      <th>0</th>\n",
       "      <td>0</td>\n",
       "      <td>소년법 폐지해주세요. 법 아래에서 보호받아야 할 아이들이\\n법으로 인해 보호받지 못...</td>\n",
       "    </tr>\n",
       "    <tr>\n",
       "      <th>1</th>\n",
       "      <td>1</td>\n",
       "      <td>국공립 유치원 증설에 관하여. 국공립 유치원 부지 학보와건립및 증설에\\n*지역 어린...</td>\n",
       "    </tr>\n",
       "    <tr>\n",
       "      <th>2</th>\n",
       "      <td>2</td>\n",
       "      <td>나경원파면. 나경원의원의  동계올림픽 위원을 파면해 주세요</td>\n",
       "    </tr>\n",
       "    <tr>\n",
       "      <th>3</th>\n",
       "      <td>3</td>\n",
       "      <td>국민위원에가 삼성편만들어요. 삼성에서 11년간  일하고 혈암과 백혈병 진단을 받은 ...</td>\n",
       "    </tr>\n",
       "    <tr>\n",
       "      <th>4</th>\n",
       "      <td>4</td>\n",
       "      <td>방과후,유치원,어린이집 영어교육을 유지시켜주세요. 저는 아이 셋 키우는 평범한 주부...</td>\n",
       "    </tr>\n",
       "  </tbody>\n",
       "</table>\n",
       "</div>"
      ],
      "text/plain": [
       "   index                                               data\n",
       "0      0  소년법 폐지해주세요. 법 아래에서 보호받아야 할 아이들이\\n법으로 인해 보호받지 못...\n",
       "1      1  국공립 유치원 증설에 관하여. 국공립 유치원 부지 학보와건립및 증설에\\n*지역 어린...\n",
       "2      2                   나경원파면. 나경원의원의  동계올림픽 위원을 파면해 주세요\n",
       "3      3  국민위원에가 삼성편만들어요. 삼성에서 11년간  일하고 혈암과 백혈병 진단을 받은 ...\n",
       "4      4  방과후,유치원,어린이집 영어교육을 유지시켜주세요. 저는 아이 셋 키우는 평범한 주부..."
      ]
     },
     "execution_count": 29,
     "metadata": {},
     "output_type": "execute_result"
    }
   ],
   "source": [
    "test.head()"
   ]
  },
  {
   "cell_type": "markdown",
   "metadata": {},
   "source": [
    "# 데이터 살펴보기"
   ]
  },
  {
   "cell_type": "markdown",
   "metadata": {},
   "source": [
    "## null 삭제"
   ]
  },
  {
   "cell_type": "code",
   "execution_count": 30,
   "metadata": {
    "ExecuteTime": {
     "end_time": "2021-06-15T11:26:05.209004Z",
     "start_time": "2021-06-15T11:26:05.173286Z"
    },
    "scrolled": true
   },
   "outputs": [
    {
     "name": "stdout",
     "output_type": "stream",
     "text": [
      "<class 'pandas.core.frame.DataFrame'>\n",
      "RangeIndex: 40000 entries, 0 to 39999\n",
      "Data columns (total 3 columns):\n",
      " #   Column    Non-Null Count  Dtype \n",
      "---  ------    --------------  ----- \n",
      " 0   index     40000 non-null  int64 \n",
      " 1   category  40000 non-null  int64 \n",
      " 2   data      39992 non-null  object\n",
      "dtypes: int64(2), object(1)\n",
      "memory usage: 937.6+ KB\n"
     ]
    }
   ],
   "source": [
    "train.info()"
   ]
  },
  {
   "cell_type": "markdown",
   "metadata": {},
   "source": [
    "8개의 null이 존재하는 것을 확인할 수 있음"
   ]
  },
  {
   "cell_type": "code",
   "execution_count": 31,
   "metadata": {
    "ExecuteTime": {
     "end_time": "2021-06-15T11:26:07.660598Z",
     "start_time": "2021-06-15T11:26:07.637700Z"
    }
   },
   "outputs": [
    {
     "data": {
      "text/html": [
       "<div>\n",
       "<style scoped>\n",
       "    .dataframe tbody tr th:only-of-type {\n",
       "        vertical-align: middle;\n",
       "    }\n",
       "\n",
       "    .dataframe tbody tr th {\n",
       "        vertical-align: top;\n",
       "    }\n",
       "\n",
       "    .dataframe thead th {\n",
       "        text-align: right;\n",
       "    }\n",
       "</style>\n",
       "<table border=\"1\" class=\"dataframe\">\n",
       "  <thead>\n",
       "    <tr style=\"text-align: right;\">\n",
       "      <th></th>\n",
       "      <th>index</th>\n",
       "      <th>category</th>\n",
       "      <th>data</th>\n",
       "    </tr>\n",
       "  </thead>\n",
       "  <tbody>\n",
       "    <tr>\n",
       "      <th>2819</th>\n",
       "      <td>2819</td>\n",
       "      <td>0</td>\n",
       "      <td>NaN</td>\n",
       "    </tr>\n",
       "    <tr>\n",
       "      <th>3462</th>\n",
       "      <td>3462</td>\n",
       "      <td>1</td>\n",
       "      <td>NaN</td>\n",
       "    </tr>\n",
       "    <tr>\n",
       "      <th>20934</th>\n",
       "      <td>20934</td>\n",
       "      <td>2</td>\n",
       "      <td>NaN</td>\n",
       "    </tr>\n",
       "    <tr>\n",
       "      <th>22856</th>\n",
       "      <td>22856</td>\n",
       "      <td>2</td>\n",
       "      <td>NaN</td>\n",
       "    </tr>\n",
       "    <tr>\n",
       "      <th>26550</th>\n",
       "      <td>26550</td>\n",
       "      <td>2</td>\n",
       "      <td>NaN</td>\n",
       "    </tr>\n",
       "    <tr>\n",
       "      <th>28546</th>\n",
       "      <td>28546</td>\n",
       "      <td>2</td>\n",
       "      <td>NaN</td>\n",
       "    </tr>\n",
       "    <tr>\n",
       "      <th>31400</th>\n",
       "      <td>31400</td>\n",
       "      <td>1</td>\n",
       "      <td>NaN</td>\n",
       "    </tr>\n",
       "    <tr>\n",
       "      <th>36070</th>\n",
       "      <td>36070</td>\n",
       "      <td>0</td>\n",
       "      <td>NaN</td>\n",
       "    </tr>\n",
       "  </tbody>\n",
       "</table>\n",
       "</div>"
      ],
      "text/plain": [
       "       index  category data\n",
       "2819    2819         0  NaN\n",
       "3462    3462         1  NaN\n",
       "20934  20934         2  NaN\n",
       "22856  22856         2  NaN\n",
       "26550  26550         2  NaN\n",
       "28546  28546         2  NaN\n",
       "31400  31400         1  NaN\n",
       "36070  36070         0  NaN"
      ]
     },
     "execution_count": 31,
     "metadata": {},
     "output_type": "execute_result"
    }
   ],
   "source": [
    "train[train.data.isnull()]"
   ]
  },
  {
   "cell_type": "markdown",
   "metadata": {},
   "source": [
    "쓸데없는(?) 데이터라고 봐도 무방할 듯 => 날리기로 결정"
   ]
  },
  {
   "cell_type": "code",
   "execution_count": 32,
   "metadata": {
    "ExecuteTime": {
     "end_time": "2021-06-15T11:26:18.673756Z",
     "start_time": "2021-06-15T11:26:18.641155Z"
    }
   },
   "outputs": [
    {
     "name": "stdout",
     "output_type": "stream",
     "text": [
      "<class 'pandas.core.frame.DataFrame'>\n",
      "Int64Index: 39992 entries, 0 to 39999\n",
      "Data columns (total 3 columns):\n",
      " #   Column    Non-Null Count  Dtype \n",
      "---  ------    --------------  ----- \n",
      " 0   index     39992 non-null  int64 \n",
      " 1   category  39992 non-null  int64 \n",
      " 2   data      39992 non-null  object\n",
      "dtypes: int64(2), object(1)\n",
      "memory usage: 1.2+ MB\n"
     ]
    }
   ],
   "source": [
    "train = train[train.data.notnull()]\n",
    "train.info()"
   ]
  },
  {
   "cell_type": "markdown",
   "metadata": {},
   "source": [
    "## `\\\\n` 빼기"
   ]
  },
  {
   "cell_type": "code",
   "execution_count": 33,
   "metadata": {
    "ExecuteTime": {
     "end_time": "2021-06-15T11:26:51.974905Z",
     "start_time": "2021-06-15T11:26:51.965999Z"
    }
   },
   "outputs": [
    {
     "data": {
      "text/plain": [
       "'신혼부부위한 주택정책 보다 보육시설 늘려주세요.. 국민세금으로 일부를 위한 정책펴지 마시고\\\\n보편적으로 모든국민이 수긍할  수 있는 복지정책 펴 주시길 바랍니다.\\\\n저도 신혼부부이지만 당첨되는 사람 로또되는 이런주택정책 반대합니다.\\\\n국민세금을 일부 사람들에게 퍼주기식이 되면 안되죠..\\\\n그 세금으로 우리아이 안전하게 맡길 수 있는 보육시설을 전국에 설치해 주세요..\\\\n대기업들은 솔선수범해서 모든 사업장에 의무설치 할 수 있도록 하시구요..\\\\n집 보다 애 맡길데가 없어 경력단절 되는게 더 괴롭습니다.!\\\\n집은 개인의 능력을 키워 사는게 맞습니다.\\\\n그 능력을 키울수 있도록 육아 전담에 힘을 기울이는게 맞습니다.\\\\n우리아이 부모가 키우는거 맞지만 이제는 국가가\\\\n책임지는 시대로 가는게 맞다고 봅니다.\\\\n그렇잖아도 부동산 가격 자꾸 올라가는게 정부정책이 잘못 되었다고 봅니다.\\\\n부동산은 그냥 내버려 두세요!  좀!\\\\n건들수록 역효과네요..'"
      ]
     },
     "execution_count": 33,
     "metadata": {},
     "output_type": "execute_result"
    }
   ],
   "source": [
    "train.data[0]"
   ]
  },
  {
   "cell_type": "markdown",
   "metadata": {},
   "source": [
    "엔터가 `\\\\n` 을 인식된 듯? 없애자"
   ]
  },
  {
   "cell_type": "code",
   "execution_count": 34,
   "metadata": {
    "ExecuteTime": {
     "end_time": "2021-06-15T11:29:15.891077Z",
     "start_time": "2021-06-15T11:29:15.621605Z"
    }
   },
   "outputs": [
    {
     "data": {
      "text/plain": [
       "'신혼부부위한 주택정책 보다 보육시설 늘려주세요.. 국민세금으로 일부를 위한 정책펴지 마시고보편적으로 모든국민이 수긍할  수 있는 복지정책 펴 주시길 바랍니다.저도 신혼부부이지만 당첨되는 사람 로또되는 이런주택정책 반대합니다.국민세금을 일부 사람들에게 퍼주기식이 되면 안되죠..그 세금으로 우리아이 안전하게 맡길 수 있는 보육시설을 전국에 설치해 주세요..대기업들은 솔선수범해서 모든 사업장에 의무설치 할 수 있도록 하시구요..집 보다 애 맡길데가 없어 경력단절 되는게 더 괴롭습니다.!집은 개인의 능력을 키워 사는게 맞습니다.그 능력을 키울수 있도록 육아 전담에 힘을 기울이는게 맞습니다.우리아이 부모가 키우는거 맞지만 이제는 국가가책임지는 시대로 가는게 맞다고 봅니다.그렇잖아도 부동산 가격 자꾸 올라가는게 정부정책이 잘못 되었다고 봅니다.부동산은 그냥 내버려 두세요!  좀!건들수록 역효과네요..'"
      ]
     },
     "execution_count": 34,
     "metadata": {},
     "output_type": "execute_result"
    }
   ],
   "source": [
    "train.data = train.data.apply(lambda x: x.replace('\\\\n', ''))\n",
    "train.data[0]"
   ]
  },
  {
   "cell_type": "markdown",
   "metadata": {},
   "source": [
    "## 정규표현식이랑 KoNLPy"
   ]
  },
  {
   "cell_type": "code",
   "execution_count": 38,
   "metadata": {
    "ExecuteTime": {
     "end_time": "2021-06-15T11:35:29.479193Z",
     "start_time": "2021-06-15T11:35:29.470134Z"
    }
   },
   "outputs": [],
   "source": [
    "import konlpy\n",
    "import re"
   ]
  },
  {
   "cell_type": "code",
   "execution_count": 40,
   "metadata": {
    "ExecuteTime": {
     "end_time": "2021-06-15T11:37:16.198753Z",
     "start_time": "2021-06-15T11:37:16.179679Z"
    }
   },
   "outputs": [
    {
     "data": {
      "text/plain": [
       "'신혼부부위한 주택정책 보다 보육시설 늘려주세요   국민세금으로 일부를 위한 정책펴지 마시고보편적으로 모든국민이 수긍할  수 있는 복지정책 펴 주시길 바랍니다 저도 신혼부부이지만 당첨되는 사람 로또되는 이런주택정책 반대합니다 국민세금을 일부 사람들에게 퍼주기식이 되면 안되죠  그 세금으로 우리아이 안전하게 맡길 수 있는 보육시설을 전국에 설치해 주세요  대기업들은 솔선수범해서 모든 사업장에 의무설치 할 수 있도록 하시구요  집 보다 애 맡길데가 없어 경력단절 되는게 더 괴롭습니다  집은 개인의 능력을 키워 사는게 맞습니다 그 능력을 키울수 있도록 육아 전담에 힘을 기울이는게 맞습니다 우리아이 부모가 키우는거 맞지만 이제는 국가가책임지는 시대로 가는게 맞다고 봅니다 그렇잖아도 부동산 가격 자꾸 올라가는게 정부정책이 잘못 되었다고 봅니다 부동산은 그냥 내버려 두세요   좀 건들수록 역효과네요  '"
      ]
     },
     "execution_count": 40,
     "metadata": {},
     "output_type": "execute_result"
    }
   ],
   "source": [
    "temp = re.sub(r'[^\\d\\s\\w]', ' ', train.data[0])\n",
    "temp"
   ]
  },
  {
   "cell_type": "code",
   "execution_count": 42,
   "metadata": {
    "ExecuteTime": {
     "end_time": "2021-06-15T14:00:30.577230Z",
     "start_time": "2021-06-15T14:00:30.571945Z"
    }
   },
   "outputs": [
    {
     "data": {
      "text/plain": [
       "['Hannanum',\n",
       " 'Kkma',\n",
       " 'Komoran',\n",
       " 'Mecab',\n",
       " 'Okt',\n",
       " 'Twitter',\n",
       " '__builtins__',\n",
       " '__cached__',\n",
       " '__doc__',\n",
       " '__file__',\n",
       " '__loader__',\n",
       " '__name__',\n",
       " '__package__',\n",
       " '__path__',\n",
       " '__spec__',\n",
       " '_hannanum',\n",
       " '_kkma',\n",
       " '_komoran',\n",
       " '_mecab',\n",
       " '_okt',\n",
       " 'absolute_import',\n",
       " 'sys',\n",
       " 'warnings']"
      ]
     },
     "execution_count": 42,
     "metadata": {},
     "output_type": "execute_result"
    }
   ],
   "source": [
    "dir(konlpy.tag)"
   ]
  },
  {
   "cell_type": "code",
   "execution_count": 44,
   "metadata": {
    "ExecuteTime": {
     "end_time": "2021-06-15T14:02:12.091811Z",
     "start_time": "2021-06-15T14:02:11.900461Z"
    }
   },
   "outputs": [
    {
     "data": {
      "text/plain": [
       "[('신혼부부', 'Noun'),\n",
       " ('위', 'Noun'),\n",
       " ('한', 'Josa'),\n",
       " ('주택', 'Noun'),\n",
       " ('정책', 'Noun'),\n",
       " ('보다', 'Verb'),\n",
       " ('보육', 'Noun'),\n",
       " ('시설', 'Noun'),\n",
       " ('늘려주세요', 'Verb'),\n",
       " ('국민', 'Noun'),\n",
       " ('세금', 'Noun'),\n",
       " ('으로', 'Josa'),\n",
       " ('일부', 'Noun'),\n",
       " ('를', 'Josa'),\n",
       " ('위', 'Noun'),\n",
       " ('한', 'Josa'),\n",
       " ('정책', 'Noun'),\n",
       " ('펴지', 'Verb'),\n",
       " ('마시고', 'Verb'),\n",
       " ('보편', 'Noun'),\n",
       " ('적', 'Suffix'),\n",
       " ('으로', 'Josa'),\n",
       " ('모든', 'Modifier'),\n",
       " ('국민', 'Noun'),\n",
       " ('이', 'Josa'),\n",
       " ('수긍', 'Noun'),\n",
       " ('할', 'Verb'),\n",
       " ('수', 'Noun'),\n",
       " ('있는', 'Adjective'),\n",
       " ('복지', 'Noun'),\n",
       " ('정책', 'Noun'),\n",
       " ('펴', 'Verb'),\n",
       " ('주시길', 'Verb'),\n",
       " ('바랍니다', 'Verb'),\n",
       " ('저', 'Noun'),\n",
       " ('도', 'Josa'),\n",
       " ('신혼부부', 'Noun'),\n",
       " ('이지만', 'Josa'),\n",
       " ('당첨', 'Noun'),\n",
       " ('되는', 'Verb'),\n",
       " ('사람', 'Noun'),\n",
       " ('로또', 'Noun'),\n",
       " ('되는', 'Verb'),\n",
       " ('이런', 'Modifier'),\n",
       " ('주택', 'Noun'),\n",
       " ('정책', 'Noun'),\n",
       " ('반대', 'Noun'),\n",
       " ('합니다', 'Verb'),\n",
       " ('국민', 'Noun'),\n",
       " ('세금', 'Noun'),\n",
       " ('을', 'Josa'),\n",
       " ('일부', 'Noun'),\n",
       " ('사람', 'Noun'),\n",
       " ('들', 'Suffix'),\n",
       " ('에게', 'Josa'),\n",
       " ('퍼', 'Noun'),\n",
       " ('주기', 'Noun'),\n",
       " ('식이', 'Noun'),\n",
       " ('되면', 'Verb'),\n",
       " ('안되죠', 'Adjective'),\n",
       " ('그', 'Noun'),\n",
       " ('세금', 'Noun'),\n",
       " ('으로', 'Josa'),\n",
       " ('우리', 'Noun'),\n",
       " ('아이', 'Noun'),\n",
       " ('안전하게', 'Adjective'),\n",
       " ('맡길', 'Verb'),\n",
       " ('수', 'Noun'),\n",
       " ('있는', 'Adjective'),\n",
       " ('보육', 'Noun'),\n",
       " ('시설', 'Noun'),\n",
       " ('을', 'Josa'),\n",
       " ('전국', 'Noun'),\n",
       " ('에', 'Josa'),\n",
       " ('설치', 'Noun'),\n",
       " ('해', 'Verb'),\n",
       " ('주세요', 'Verb'),\n",
       " ('대기업', 'Noun'),\n",
       " ('들', 'Suffix'),\n",
       " ('은', 'Josa'),\n",
       " ('솔선수범', 'Noun'),\n",
       " ('해서', 'Verb'),\n",
       " ('모든', 'Noun'),\n",
       " ('사업', 'Noun'),\n",
       " ('장', 'Suffix'),\n",
       " ('에', 'Josa'),\n",
       " ('의무', 'Noun'),\n",
       " ('설치', 'Noun'),\n",
       " ('할', 'Verb'),\n",
       " ('수', 'Noun'),\n",
       " ('있도록', 'Adjective'),\n",
       " ('하시구요', 'Verb'),\n",
       " ('집', 'Noun'),\n",
       " ('보다', 'Verb'),\n",
       " ('애', 'Noun'),\n",
       " ('맡길데가', 'Verb'),\n",
       " ('없어', 'Adjective'),\n",
       " ('경력', 'Noun'),\n",
       " ('단절', 'Noun'),\n",
       " ('되는게', 'Verb'),\n",
       " ('더', 'Noun'),\n",
       " ('괴롭습니다', 'Adjective'),\n",
       " ('집은', 'Verb'),\n",
       " ('개인', 'Noun'),\n",
       " ('의', 'Josa'),\n",
       " ('능력', 'Noun'),\n",
       " ('을', 'Josa'),\n",
       " ('키워', 'Verb'),\n",
       " ('사는게', 'Verb'),\n",
       " ('맞습니다', 'Verb'),\n",
       " ('그', 'Noun'),\n",
       " ('능력', 'Noun'),\n",
       " ('을', 'Josa'),\n",
       " ('키울수', 'Verb'),\n",
       " ('있도록', 'Adjective'),\n",
       " ('육아', 'Noun'),\n",
       " ('전담', 'Noun'),\n",
       " ('에', 'Josa'),\n",
       " ('힘', 'Noun'),\n",
       " ('을', 'Josa'),\n",
       " ('기울이는게', 'Verb'),\n",
       " ('맞습니다', 'Verb'),\n",
       " ('우리', 'Noun'),\n",
       " ('아이', 'Noun'),\n",
       " ('부모', 'Noun'),\n",
       " ('가', 'Josa'),\n",
       " ('키우는거', 'Verb'),\n",
       " ('맞지만', 'Verb'),\n",
       " ('이제', 'Noun'),\n",
       " ('는', 'Josa'),\n",
       " ('국가', 'Noun'),\n",
       " ('가', 'Josa'),\n",
       " ('책임지는', 'Verb'),\n",
       " ('시대', 'Noun'),\n",
       " ('로', 'Josa'),\n",
       " ('가는게', 'Verb'),\n",
       " ('맞다고', 'Verb'),\n",
       " ('봅니다', 'Verb'),\n",
       " ('그렇잖아도', 'Adjective'),\n",
       " ('부동산', 'Noun'),\n",
       " ('가격', 'Noun'),\n",
       " ('자꾸', 'Noun'),\n",
       " ('올라가는게', 'Verb'),\n",
       " ('정부', 'Noun'),\n",
       " ('정책', 'Noun'),\n",
       " ('이', 'Josa'),\n",
       " ('잘못', 'Noun'),\n",
       " ('되었다고', 'Verb'),\n",
       " ('봅니다', 'Verb'),\n",
       " ('부동산', 'Noun'),\n",
       " ('은', 'Josa'),\n",
       " ('그냥', 'Noun'),\n",
       " ('내버려', 'Verb'),\n",
       " ('두세요', 'Verb'),\n",
       " ('좀', 'Noun'),\n",
       " ('건들', 'Adverb'),\n",
       " ('수록', 'Noun'),\n",
       " ('역효과', 'Noun'),\n",
       " ('네', 'Suffix'),\n",
       " ('요', 'Josa')]"
      ]
     },
     "execution_count": 44,
     "metadata": {},
     "output_type": "execute_result"
    }
   ],
   "source": [
    "okt = konlpy.tag.Okt()\n",
    "okt.pos(temp)"
   ]
  },
  {
   "cell_type": "code",
   "execution_count": 50,
   "metadata": {
    "ExecuteTime": {
     "end_time": "2021-06-15T14:05:57.901392Z",
     "start_time": "2021-06-15T14:05:57.809019Z"
    }
   },
   "outputs": [
    {
     "data": {
      "text/plain": [
       "Counter({'신혼부부': 2,\n",
       "         '주택': 2,\n",
       "         '정책': 5,\n",
       "         '보육': 2,\n",
       "         '시설': 2,\n",
       "         '국민': 3,\n",
       "         '세금': 3,\n",
       "         '일부': 2,\n",
       "         '보편': 1,\n",
       "         '수긍': 1,\n",
       "         '복지': 1,\n",
       "         '당첨': 1,\n",
       "         '사람': 2,\n",
       "         '로또': 1,\n",
       "         '반대': 1,\n",
       "         '주기': 1,\n",
       "         '식이': 1,\n",
       "         '우리': 2,\n",
       "         '아이': 2,\n",
       "         '전국': 1,\n",
       "         '설치': 2,\n",
       "         '대기업': 1,\n",
       "         '솔선수범': 1,\n",
       "         '모든': 1,\n",
       "         '사업': 1,\n",
       "         '의무': 1,\n",
       "         '경력': 1,\n",
       "         '단절': 1,\n",
       "         '개인': 1,\n",
       "         '능력': 2,\n",
       "         '육아': 1,\n",
       "         '전담': 1,\n",
       "         '부모': 1,\n",
       "         '이제': 1,\n",
       "         '국가': 1,\n",
       "         '시대': 1,\n",
       "         '부동산': 2,\n",
       "         '가격': 1,\n",
       "         '자꾸': 1,\n",
       "         '정부': 1,\n",
       "         '잘못': 1,\n",
       "         '그냥': 1,\n",
       "         '수록': 1,\n",
       "         '역효과': 1})"
      ]
     },
     "execution_count": 50,
     "metadata": {},
     "output_type": "execute_result"
    }
   ],
   "source": [
    "from collections import Counter\n",
    "words = [word for word in okt.nouns(temp) if len(word) > 1]\n",
    "Counter(words)"
   ]
  },
  {
   "cell_type": "markdown",
   "metadata": {},
   "source": [
    "'국민', '정책' 같은 단어와 '신혼부부'와 같은 단어들은 tf-idf로 구분되지 않을까..?"
   ]
  },
  {
   "cell_type": "code",
   "execution_count": null,
   "metadata": {},
   "outputs": [],
   "source": []
  }
 ],
 "metadata": {
  "kernelspec": {
   "display_name": "Python 3",
   "language": "python",
   "name": "python3"
  },
  "language_info": {
   "codemirror_mode": {
    "name": "ipython",
    "version": 3
   },
   "file_extension": ".py",
   "mimetype": "text/x-python",
   "name": "python",
   "nbconvert_exporter": "python",
   "pygments_lexer": "ipython3",
   "version": "3.8.5"
  },
  "toc": {
   "base_numbering": 1,
   "nav_menu": {},
   "number_sections": true,
   "sideBar": true,
   "skip_h1_title": false,
   "title_cell": "Table of Contents",
   "title_sidebar": "Contents",
   "toc_cell": false,
   "toc_position": {
    "height": "calc(100% - 180px)",
    "left": "10px",
    "top": "150px",
    "width": "166.188px"
   },
   "toc_section_display": true,
   "toc_window_display": true
  }
 },
 "nbformat": 4,
 "nbformat_minor": 4
}
